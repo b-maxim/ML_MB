{
 "cells": [
  {
   "cell_type": "code",
   "execution_count": null,
   "id": "15e2cfab",
   "metadata": {
    "papermill": {
     "duration": 0.001546,
     "end_time": "2023-10-19T04:55:00.607504",
     "exception": false,
     "start_time": "2023-10-19T04:55:00.605958",
     "status": "completed"
    },
    "tags": []
   },
   "outputs": [],
   "source": []
  }
 ],
 "metadata": {
  "kernelspec": {
   "display_name": "Python 3",
   "language": "python",
   "name": "python3"
  },
  "language_info": {
   "codemirror_mode": {
    "name": "ipython",
    "version": 3
   },
   "file_extension": ".py",
   "mimetype": "text/x-python",
   "name": "python",
   "nbconvert_exporter": "python",
   "pygments_lexer": "ipython3",
   "version": "3.10.12"
  },
  "papermill": {
   "default_parameters": {},
   "duration": 3.525863,
   "end_time": "2023-10-19T04:55:00.928705",
   "environment_variables": {},
   "exception": null,
   "input_path": "__notebook__.ipynb",
   "output_path": "__notebook__.ipynb",
   "parameters": {},
   "start_time": "2023-10-19T04:54:57.402842",
   "version": "2.4.0"
  }
 },
 "nbformat": 4,
 "nbformat_minor": 5
}
