{
  "cells": [
    {
      "cell_type": "markdown",
      "metadata": {
        "id": "view-in-github",
        "colab_type": "text"
      },
      "source": [
        "<a href=\"https://colab.research.google.com/github/b-maxim/ML_MB/blob/main/%D0%94%D0%97_1_CV_and_18102023.ipynb\" target=\"_parent\"><img src=\"https://colab.research.google.com/assets/colab-badge.svg\" alt=\"Open In Colab\"/></a>"
      ]
    },
    {
      "cell_type": "markdown",
      "metadata": {
        "id": "fW-cz_HEfWlZ"
      },
      "source": [
        "## Digit Recognizer\n",
        "https://www.kaggle.com/c/digit-recognizer"
      ]
    },
    {
      "cell_type": "markdown",
      "source": [
        "**Для разминки**"
      ],
      "metadata": {
        "id": "Jdly60o3M15V"
      }
    },
    {
      "cell_type": "code",
      "source": [
        "import numpy as np\n",
        "from sklearn import datasets\n",
        "import matplotlib\n",
        "import matplotlib.pyplot as plt\n",
        "%matplotlib inline"
      ],
      "metadata": {
        "id": "msZdyJ6og9s1"
      },
      "execution_count": 7,
      "outputs": []
    },
    {
      "cell_type": "code",
      "source": [
        "dataset=datasets.fetch_openml('mnist_784')"
      ],
      "metadata": {
        "id": "WvqJYe3rhSVp",
        "colab": {
          "base_uri": "https://localhost:8080/"
        },
        "outputId": "cc9a3c38-f559-4206-9574-0d2d3cbec7a2"
      },
      "execution_count": 31,
      "outputs": [
        {
          "output_type": "stream",
          "name": "stderr",
          "text": [
            "/usr/local/lib/python3.10/dist-packages/sklearn/datasets/_openml.py:968: FutureWarning: The default value of `parser` will change from `'liac-arff'` to `'auto'` in 1.4. You can set `parser='auto'` to silence this warning. Therefore, an `ImportError` will be raised from 1.4 if the dataset is dense and pandas is not installed. Note that the pandas parser may return different data types. See the Notes Section in fetch_openml's API doc for details.\n",
            "  warn(\n"
          ]
        }
      ]
    },
    {
      "cell_type": "code",
      "source": [
        "dataset"
      ],
      "metadata": {
        "id": "AsTz3qCAj_6m",
        "colab": {
          "base_uri": "https://localhost:8080/"
        },
        "outputId": "27ba1d51-ea16-4f15-b806-9b8bee58aec7"
      },
      "execution_count": 40,
      "outputs": [
        {
          "output_type": "execute_result",
          "data": {
            "text/plain": [
              "{'data':        pixel1  pixel2  pixel3  pixel4  pixel5  pixel6  pixel7  pixel8  pixel9  \\\n",
              " 0         0.0     0.0     0.0     0.0     0.0     0.0     0.0     0.0     0.0   \n",
              " 1         0.0     0.0     0.0     0.0     0.0     0.0     0.0     0.0     0.0   \n",
              " 2         0.0     0.0     0.0     0.0     0.0     0.0     0.0     0.0     0.0   \n",
              " 3         0.0     0.0     0.0     0.0     0.0     0.0     0.0     0.0     0.0   \n",
              " 4         0.0     0.0     0.0     0.0     0.0     0.0     0.0     0.0     0.0   \n",
              " ...       ...     ...     ...     ...     ...     ...     ...     ...     ...   \n",
              " 69995     0.0     0.0     0.0     0.0     0.0     0.0     0.0     0.0     0.0   \n",
              " 69996     0.0     0.0     0.0     0.0     0.0     0.0     0.0     0.0     0.0   \n",
              " 69997     0.0     0.0     0.0     0.0     0.0     0.0     0.0     0.0     0.0   \n",
              " 69998     0.0     0.0     0.0     0.0     0.0     0.0     0.0     0.0     0.0   \n",
              " 69999     0.0     0.0     0.0     0.0     0.0     0.0     0.0     0.0     0.0   \n",
              " \n",
              "        pixel10  ...  pixel775  pixel776  pixel777  pixel778  pixel779  \\\n",
              " 0          0.0  ...       0.0       0.0       0.0       0.0       0.0   \n",
              " 1          0.0  ...       0.0       0.0       0.0       0.0       0.0   \n",
              " 2          0.0  ...       0.0       0.0       0.0       0.0       0.0   \n",
              " 3          0.0  ...       0.0       0.0       0.0       0.0       0.0   \n",
              " 4          0.0  ...       0.0       0.0       0.0       0.0       0.0   \n",
              " ...        ...  ...       ...       ...       ...       ...       ...   \n",
              " 69995      0.0  ...       0.0       0.0       0.0       0.0       0.0   \n",
              " 69996      0.0  ...       0.0       0.0       0.0       0.0       0.0   \n",
              " 69997      0.0  ...       0.0       0.0       0.0       0.0       0.0   \n",
              " 69998      0.0  ...       0.0       0.0       0.0       0.0       0.0   \n",
              " 69999      0.0  ...       0.0       0.0       0.0       0.0       0.0   \n",
              " \n",
              "        pixel780  pixel781  pixel782  pixel783  pixel784  \n",
              " 0           0.0       0.0       0.0       0.0       0.0  \n",
              " 1           0.0       0.0       0.0       0.0       0.0  \n",
              " 2           0.0       0.0       0.0       0.0       0.0  \n",
              " 3           0.0       0.0       0.0       0.0       0.0  \n",
              " 4           0.0       0.0       0.0       0.0       0.0  \n",
              " ...         ...       ...       ...       ...       ...  \n",
              " 69995       0.0       0.0       0.0       0.0       0.0  \n",
              " 69996       0.0       0.0       0.0       0.0       0.0  \n",
              " 69997       0.0       0.0       0.0       0.0       0.0  \n",
              " 69998       0.0       0.0       0.0       0.0       0.0  \n",
              " 69999       0.0       0.0       0.0       0.0       0.0  \n",
              " \n",
              " [70000 rows x 784 columns],\n",
              " 'target': 0        5\n",
              " 1        0\n",
              " 2        4\n",
              " 3        1\n",
              " 4        9\n",
              "         ..\n",
              " 69995    2\n",
              " 69996    3\n",
              " 69997    4\n",
              " 69998    5\n",
              " 69999    6\n",
              " Name: class, Length: 70000, dtype: category\n",
              " Categories (10, object): ['0', '1', '2', '3', ..., '6', '7', '8', '9'],\n",
              " 'frame':        pixel1  pixel2  pixel3  pixel4  pixel5  pixel6  pixel7  pixel8  pixel9  \\\n",
              " 0         0.0     0.0     0.0     0.0     0.0     0.0     0.0     0.0     0.0   \n",
              " 1         0.0     0.0     0.0     0.0     0.0     0.0     0.0     0.0     0.0   \n",
              " 2         0.0     0.0     0.0     0.0     0.0     0.0     0.0     0.0     0.0   \n",
              " 3         0.0     0.0     0.0     0.0     0.0     0.0     0.0     0.0     0.0   \n",
              " 4         0.0     0.0     0.0     0.0     0.0     0.0     0.0     0.0     0.0   \n",
              " ...       ...     ...     ...     ...     ...     ...     ...     ...     ...   \n",
              " 69995     0.0     0.0     0.0     0.0     0.0     0.0     0.0     0.0     0.0   \n",
              " 69996     0.0     0.0     0.0     0.0     0.0     0.0     0.0     0.0     0.0   \n",
              " 69997     0.0     0.0     0.0     0.0     0.0     0.0     0.0     0.0     0.0   \n",
              " 69998     0.0     0.0     0.0     0.0     0.0     0.0     0.0     0.0     0.0   \n",
              " 69999     0.0     0.0     0.0     0.0     0.0     0.0     0.0     0.0     0.0   \n",
              " \n",
              "        pixel10  ...  pixel776  pixel777  pixel778  pixel779  pixel780  \\\n",
              " 0          0.0  ...       0.0       0.0       0.0       0.0       0.0   \n",
              " 1          0.0  ...       0.0       0.0       0.0       0.0       0.0   \n",
              " 2          0.0  ...       0.0       0.0       0.0       0.0       0.0   \n",
              " 3          0.0  ...       0.0       0.0       0.0       0.0       0.0   \n",
              " 4          0.0  ...       0.0       0.0       0.0       0.0       0.0   \n",
              " ...        ...  ...       ...       ...       ...       ...       ...   \n",
              " 69995      0.0  ...       0.0       0.0       0.0       0.0       0.0   \n",
              " 69996      0.0  ...       0.0       0.0       0.0       0.0       0.0   \n",
              " 69997      0.0  ...       0.0       0.0       0.0       0.0       0.0   \n",
              " 69998      0.0  ...       0.0       0.0       0.0       0.0       0.0   \n",
              " 69999      0.0  ...       0.0       0.0       0.0       0.0       0.0   \n",
              " \n",
              "        pixel781  pixel782  pixel783  pixel784  class  \n",
              " 0           0.0       0.0       0.0       0.0      5  \n",
              " 1           0.0       0.0       0.0       0.0      0  \n",
              " 2           0.0       0.0       0.0       0.0      4  \n",
              " 3           0.0       0.0       0.0       0.0      1  \n",
              " 4           0.0       0.0       0.0       0.0      9  \n",
              " ...         ...       ...       ...       ...    ...  \n",
              " 69995       0.0       0.0       0.0       0.0      2  \n",
              " 69996       0.0       0.0       0.0       0.0      3  \n",
              " 69997       0.0       0.0       0.0       0.0      4  \n",
              " 69998       0.0       0.0       0.0       0.0      5  \n",
              " 69999       0.0       0.0       0.0       0.0      6  \n",
              " \n",
              " [70000 rows x 785 columns],\n",
              " 'categories': None,\n",
              " 'feature_names': ['pixel1',\n",
              "  'pixel2',\n",
              "  'pixel3',\n",
              "  'pixel4',\n",
              "  'pixel5',\n",
              "  'pixel6',\n",
              "  'pixel7',\n",
              "  'pixel8',\n",
              "  'pixel9',\n",
              "  'pixel10',\n",
              "  'pixel11',\n",
              "  'pixel12',\n",
              "  'pixel13',\n",
              "  'pixel14',\n",
              "  'pixel15',\n",
              "  'pixel16',\n",
              "  'pixel17',\n",
              "  'pixel18',\n",
              "  'pixel19',\n",
              "  'pixel20',\n",
              "  'pixel21',\n",
              "  'pixel22',\n",
              "  'pixel23',\n",
              "  'pixel24',\n",
              "  'pixel25',\n",
              "  'pixel26',\n",
              "  'pixel27',\n",
              "  'pixel28',\n",
              "  'pixel29',\n",
              "  'pixel30',\n",
              "  'pixel31',\n",
              "  'pixel32',\n",
              "  'pixel33',\n",
              "  'pixel34',\n",
              "  'pixel35',\n",
              "  'pixel36',\n",
              "  'pixel37',\n",
              "  'pixel38',\n",
              "  'pixel39',\n",
              "  'pixel40',\n",
              "  'pixel41',\n",
              "  'pixel42',\n",
              "  'pixel43',\n",
              "  'pixel44',\n",
              "  'pixel45',\n",
              "  'pixel46',\n",
              "  'pixel47',\n",
              "  'pixel48',\n",
              "  'pixel49',\n",
              "  'pixel50',\n",
              "  'pixel51',\n",
              "  'pixel52',\n",
              "  'pixel53',\n",
              "  'pixel54',\n",
              "  'pixel55',\n",
              "  'pixel56',\n",
              "  'pixel57',\n",
              "  'pixel58',\n",
              "  'pixel59',\n",
              "  'pixel60',\n",
              "  'pixel61',\n",
              "  'pixel62',\n",
              "  'pixel63',\n",
              "  'pixel64',\n",
              "  'pixel65',\n",
              "  'pixel66',\n",
              "  'pixel67',\n",
              "  'pixel68',\n",
              "  'pixel69',\n",
              "  'pixel70',\n",
              "  'pixel71',\n",
              "  'pixel72',\n",
              "  'pixel73',\n",
              "  'pixel74',\n",
              "  'pixel75',\n",
              "  'pixel76',\n",
              "  'pixel77',\n",
              "  'pixel78',\n",
              "  'pixel79',\n",
              "  'pixel80',\n",
              "  'pixel81',\n",
              "  'pixel82',\n",
              "  'pixel83',\n",
              "  'pixel84',\n",
              "  'pixel85',\n",
              "  'pixel86',\n",
              "  'pixel87',\n",
              "  'pixel88',\n",
              "  'pixel89',\n",
              "  'pixel90',\n",
              "  'pixel91',\n",
              "  'pixel92',\n",
              "  'pixel93',\n",
              "  'pixel94',\n",
              "  'pixel95',\n",
              "  'pixel96',\n",
              "  'pixel97',\n",
              "  'pixel98',\n",
              "  'pixel99',\n",
              "  'pixel100',\n",
              "  'pixel101',\n",
              "  'pixel102',\n",
              "  'pixel103',\n",
              "  'pixel104',\n",
              "  'pixel105',\n",
              "  'pixel106',\n",
              "  'pixel107',\n",
              "  'pixel108',\n",
              "  'pixel109',\n",
              "  'pixel110',\n",
              "  'pixel111',\n",
              "  'pixel112',\n",
              "  'pixel113',\n",
              "  'pixel114',\n",
              "  'pixel115',\n",
              "  'pixel116',\n",
              "  'pixel117',\n",
              "  'pixel118',\n",
              "  'pixel119',\n",
              "  'pixel120',\n",
              "  'pixel121',\n",
              "  'pixel122',\n",
              "  'pixel123',\n",
              "  'pixel124',\n",
              "  'pixel125',\n",
              "  'pixel126',\n",
              "  'pixel127',\n",
              "  'pixel128',\n",
              "  'pixel129',\n",
              "  'pixel130',\n",
              "  'pixel131',\n",
              "  'pixel132',\n",
              "  'pixel133',\n",
              "  'pixel134',\n",
              "  'pixel135',\n",
              "  'pixel136',\n",
              "  'pixel137',\n",
              "  'pixel138',\n",
              "  'pixel139',\n",
              "  'pixel140',\n",
              "  'pixel141',\n",
              "  'pixel142',\n",
              "  'pixel143',\n",
              "  'pixel144',\n",
              "  'pixel145',\n",
              "  'pixel146',\n",
              "  'pixel147',\n",
              "  'pixel148',\n",
              "  'pixel149',\n",
              "  'pixel150',\n",
              "  'pixel151',\n",
              "  'pixel152',\n",
              "  'pixel153',\n",
              "  'pixel154',\n",
              "  'pixel155',\n",
              "  'pixel156',\n",
              "  'pixel157',\n",
              "  'pixel158',\n",
              "  'pixel159',\n",
              "  'pixel160',\n",
              "  'pixel161',\n",
              "  'pixel162',\n",
              "  'pixel163',\n",
              "  'pixel164',\n",
              "  'pixel165',\n",
              "  'pixel166',\n",
              "  'pixel167',\n",
              "  'pixel168',\n",
              "  'pixel169',\n",
              "  'pixel170',\n",
              "  'pixel171',\n",
              "  'pixel172',\n",
              "  'pixel173',\n",
              "  'pixel174',\n",
              "  'pixel175',\n",
              "  'pixel176',\n",
              "  'pixel177',\n",
              "  'pixel178',\n",
              "  'pixel179',\n",
              "  'pixel180',\n",
              "  'pixel181',\n",
              "  'pixel182',\n",
              "  'pixel183',\n",
              "  'pixel184',\n",
              "  'pixel185',\n",
              "  'pixel186',\n",
              "  'pixel187',\n",
              "  'pixel188',\n",
              "  'pixel189',\n",
              "  'pixel190',\n",
              "  'pixel191',\n",
              "  'pixel192',\n",
              "  'pixel193',\n",
              "  'pixel194',\n",
              "  'pixel195',\n",
              "  'pixel196',\n",
              "  'pixel197',\n",
              "  'pixel198',\n",
              "  'pixel199',\n",
              "  'pixel200',\n",
              "  'pixel201',\n",
              "  'pixel202',\n",
              "  'pixel203',\n",
              "  'pixel204',\n",
              "  'pixel205',\n",
              "  'pixel206',\n",
              "  'pixel207',\n",
              "  'pixel208',\n",
              "  'pixel209',\n",
              "  'pixel210',\n",
              "  'pixel211',\n",
              "  'pixel212',\n",
              "  'pixel213',\n",
              "  'pixel214',\n",
              "  'pixel215',\n",
              "  'pixel216',\n",
              "  'pixel217',\n",
              "  'pixel218',\n",
              "  'pixel219',\n",
              "  'pixel220',\n",
              "  'pixel221',\n",
              "  'pixel222',\n",
              "  'pixel223',\n",
              "  'pixel224',\n",
              "  'pixel225',\n",
              "  'pixel226',\n",
              "  'pixel227',\n",
              "  'pixel228',\n",
              "  'pixel229',\n",
              "  'pixel230',\n",
              "  'pixel231',\n",
              "  'pixel232',\n",
              "  'pixel233',\n",
              "  'pixel234',\n",
              "  'pixel235',\n",
              "  'pixel236',\n",
              "  'pixel237',\n",
              "  'pixel238',\n",
              "  'pixel239',\n",
              "  'pixel240',\n",
              "  'pixel241',\n",
              "  'pixel242',\n",
              "  'pixel243',\n",
              "  'pixel244',\n",
              "  'pixel245',\n",
              "  'pixel246',\n",
              "  'pixel247',\n",
              "  'pixel248',\n",
              "  'pixel249',\n",
              "  'pixel250',\n",
              "  'pixel251',\n",
              "  'pixel252',\n",
              "  'pixel253',\n",
              "  'pixel254',\n",
              "  'pixel255',\n",
              "  'pixel256',\n",
              "  'pixel257',\n",
              "  'pixel258',\n",
              "  'pixel259',\n",
              "  'pixel260',\n",
              "  'pixel261',\n",
              "  'pixel262',\n",
              "  'pixel263',\n",
              "  'pixel264',\n",
              "  'pixel265',\n",
              "  'pixel266',\n",
              "  'pixel267',\n",
              "  'pixel268',\n",
              "  'pixel269',\n",
              "  'pixel270',\n",
              "  'pixel271',\n",
              "  'pixel272',\n",
              "  'pixel273',\n",
              "  'pixel274',\n",
              "  'pixel275',\n",
              "  'pixel276',\n",
              "  'pixel277',\n",
              "  'pixel278',\n",
              "  'pixel279',\n",
              "  'pixel280',\n",
              "  'pixel281',\n",
              "  'pixel282',\n",
              "  'pixel283',\n",
              "  'pixel284',\n",
              "  'pixel285',\n",
              "  'pixel286',\n",
              "  'pixel287',\n",
              "  'pixel288',\n",
              "  'pixel289',\n",
              "  'pixel290',\n",
              "  'pixel291',\n",
              "  'pixel292',\n",
              "  'pixel293',\n",
              "  'pixel294',\n",
              "  'pixel295',\n",
              "  'pixel296',\n",
              "  'pixel297',\n",
              "  'pixel298',\n",
              "  'pixel299',\n",
              "  'pixel300',\n",
              "  'pixel301',\n",
              "  'pixel302',\n",
              "  'pixel303',\n",
              "  'pixel304',\n",
              "  'pixel305',\n",
              "  'pixel306',\n",
              "  'pixel307',\n",
              "  'pixel308',\n",
              "  'pixel309',\n",
              "  'pixel310',\n",
              "  'pixel311',\n",
              "  'pixel312',\n",
              "  'pixel313',\n",
              "  'pixel314',\n",
              "  'pixel315',\n",
              "  'pixel316',\n",
              "  'pixel317',\n",
              "  'pixel318',\n",
              "  'pixel319',\n",
              "  'pixel320',\n",
              "  'pixel321',\n",
              "  'pixel322',\n",
              "  'pixel323',\n",
              "  'pixel324',\n",
              "  'pixel325',\n",
              "  'pixel326',\n",
              "  'pixel327',\n",
              "  'pixel328',\n",
              "  'pixel329',\n",
              "  'pixel330',\n",
              "  'pixel331',\n",
              "  'pixel332',\n",
              "  'pixel333',\n",
              "  'pixel334',\n",
              "  'pixel335',\n",
              "  'pixel336',\n",
              "  'pixel337',\n",
              "  'pixel338',\n",
              "  'pixel339',\n",
              "  'pixel340',\n",
              "  'pixel341',\n",
              "  'pixel342',\n",
              "  'pixel343',\n",
              "  'pixel344',\n",
              "  'pixel345',\n",
              "  'pixel346',\n",
              "  'pixel347',\n",
              "  'pixel348',\n",
              "  'pixel349',\n",
              "  'pixel350',\n",
              "  'pixel351',\n",
              "  'pixel352',\n",
              "  'pixel353',\n",
              "  'pixel354',\n",
              "  'pixel355',\n",
              "  'pixel356',\n",
              "  'pixel357',\n",
              "  'pixel358',\n",
              "  'pixel359',\n",
              "  'pixel360',\n",
              "  'pixel361',\n",
              "  'pixel362',\n",
              "  'pixel363',\n",
              "  'pixel364',\n",
              "  'pixel365',\n",
              "  'pixel366',\n",
              "  'pixel367',\n",
              "  'pixel368',\n",
              "  'pixel369',\n",
              "  'pixel370',\n",
              "  'pixel371',\n",
              "  'pixel372',\n",
              "  'pixel373',\n",
              "  'pixel374',\n",
              "  'pixel375',\n",
              "  'pixel376',\n",
              "  'pixel377',\n",
              "  'pixel378',\n",
              "  'pixel379',\n",
              "  'pixel380',\n",
              "  'pixel381',\n",
              "  'pixel382',\n",
              "  'pixel383',\n",
              "  'pixel384',\n",
              "  'pixel385',\n",
              "  'pixel386',\n",
              "  'pixel387',\n",
              "  'pixel388',\n",
              "  'pixel389',\n",
              "  'pixel390',\n",
              "  'pixel391',\n",
              "  'pixel392',\n",
              "  'pixel393',\n",
              "  'pixel394',\n",
              "  'pixel395',\n",
              "  'pixel396',\n",
              "  'pixel397',\n",
              "  'pixel398',\n",
              "  'pixel399',\n",
              "  'pixel400',\n",
              "  'pixel401',\n",
              "  'pixel402',\n",
              "  'pixel403',\n",
              "  'pixel404',\n",
              "  'pixel405',\n",
              "  'pixel406',\n",
              "  'pixel407',\n",
              "  'pixel408',\n",
              "  'pixel409',\n",
              "  'pixel410',\n",
              "  'pixel411',\n",
              "  'pixel412',\n",
              "  'pixel413',\n",
              "  'pixel414',\n",
              "  'pixel415',\n",
              "  'pixel416',\n",
              "  'pixel417',\n",
              "  'pixel418',\n",
              "  'pixel419',\n",
              "  'pixel420',\n",
              "  'pixel421',\n",
              "  'pixel422',\n",
              "  'pixel423',\n",
              "  'pixel424',\n",
              "  'pixel425',\n",
              "  'pixel426',\n",
              "  'pixel427',\n",
              "  'pixel428',\n",
              "  'pixel429',\n",
              "  'pixel430',\n",
              "  'pixel431',\n",
              "  'pixel432',\n",
              "  'pixel433',\n",
              "  'pixel434',\n",
              "  'pixel435',\n",
              "  'pixel436',\n",
              "  'pixel437',\n",
              "  'pixel438',\n",
              "  'pixel439',\n",
              "  'pixel440',\n",
              "  'pixel441',\n",
              "  'pixel442',\n",
              "  'pixel443',\n",
              "  'pixel444',\n",
              "  'pixel445',\n",
              "  'pixel446',\n",
              "  'pixel447',\n",
              "  'pixel448',\n",
              "  'pixel449',\n",
              "  'pixel450',\n",
              "  'pixel451',\n",
              "  'pixel452',\n",
              "  'pixel453',\n",
              "  'pixel454',\n",
              "  'pixel455',\n",
              "  'pixel456',\n",
              "  'pixel457',\n",
              "  'pixel458',\n",
              "  'pixel459',\n",
              "  'pixel460',\n",
              "  'pixel461',\n",
              "  'pixel462',\n",
              "  'pixel463',\n",
              "  'pixel464',\n",
              "  'pixel465',\n",
              "  'pixel466',\n",
              "  'pixel467',\n",
              "  'pixel468',\n",
              "  'pixel469',\n",
              "  'pixel470',\n",
              "  'pixel471',\n",
              "  'pixel472',\n",
              "  'pixel473',\n",
              "  'pixel474',\n",
              "  'pixel475',\n",
              "  'pixel476',\n",
              "  'pixel477',\n",
              "  'pixel478',\n",
              "  'pixel479',\n",
              "  'pixel480',\n",
              "  'pixel481',\n",
              "  'pixel482',\n",
              "  'pixel483',\n",
              "  'pixel484',\n",
              "  'pixel485',\n",
              "  'pixel486',\n",
              "  'pixel487',\n",
              "  'pixel488',\n",
              "  'pixel489',\n",
              "  'pixel490',\n",
              "  'pixel491',\n",
              "  'pixel492',\n",
              "  'pixel493',\n",
              "  'pixel494',\n",
              "  'pixel495',\n",
              "  'pixel496',\n",
              "  'pixel497',\n",
              "  'pixel498',\n",
              "  'pixel499',\n",
              "  'pixel500',\n",
              "  'pixel501',\n",
              "  'pixel502',\n",
              "  'pixel503',\n",
              "  'pixel504',\n",
              "  'pixel505',\n",
              "  'pixel506',\n",
              "  'pixel507',\n",
              "  'pixel508',\n",
              "  'pixel509',\n",
              "  'pixel510',\n",
              "  'pixel511',\n",
              "  'pixel512',\n",
              "  'pixel513',\n",
              "  'pixel514',\n",
              "  'pixel515',\n",
              "  'pixel516',\n",
              "  'pixel517',\n",
              "  'pixel518',\n",
              "  'pixel519',\n",
              "  'pixel520',\n",
              "  'pixel521',\n",
              "  'pixel522',\n",
              "  'pixel523',\n",
              "  'pixel524',\n",
              "  'pixel525',\n",
              "  'pixel526',\n",
              "  'pixel527',\n",
              "  'pixel528',\n",
              "  'pixel529',\n",
              "  'pixel530',\n",
              "  'pixel531',\n",
              "  'pixel532',\n",
              "  'pixel533',\n",
              "  'pixel534',\n",
              "  'pixel535',\n",
              "  'pixel536',\n",
              "  'pixel537',\n",
              "  'pixel538',\n",
              "  'pixel539',\n",
              "  'pixel540',\n",
              "  'pixel541',\n",
              "  'pixel542',\n",
              "  'pixel543',\n",
              "  'pixel544',\n",
              "  'pixel545',\n",
              "  'pixel546',\n",
              "  'pixel547',\n",
              "  'pixel548',\n",
              "  'pixel549',\n",
              "  'pixel550',\n",
              "  'pixel551',\n",
              "  'pixel552',\n",
              "  'pixel553',\n",
              "  'pixel554',\n",
              "  'pixel555',\n",
              "  'pixel556',\n",
              "  'pixel557',\n",
              "  'pixel558',\n",
              "  'pixel559',\n",
              "  'pixel560',\n",
              "  'pixel561',\n",
              "  'pixel562',\n",
              "  'pixel563',\n",
              "  'pixel564',\n",
              "  'pixel565',\n",
              "  'pixel566',\n",
              "  'pixel567',\n",
              "  'pixel568',\n",
              "  'pixel569',\n",
              "  'pixel570',\n",
              "  'pixel571',\n",
              "  'pixel572',\n",
              "  'pixel573',\n",
              "  'pixel574',\n",
              "  'pixel575',\n",
              "  'pixel576',\n",
              "  'pixel577',\n",
              "  'pixel578',\n",
              "  'pixel579',\n",
              "  'pixel580',\n",
              "  'pixel581',\n",
              "  'pixel582',\n",
              "  'pixel583',\n",
              "  'pixel584',\n",
              "  'pixel585',\n",
              "  'pixel586',\n",
              "  'pixel587',\n",
              "  'pixel588',\n",
              "  'pixel589',\n",
              "  'pixel590',\n",
              "  'pixel591',\n",
              "  'pixel592',\n",
              "  'pixel593',\n",
              "  'pixel594',\n",
              "  'pixel595',\n",
              "  'pixel596',\n",
              "  'pixel597',\n",
              "  'pixel598',\n",
              "  'pixel599',\n",
              "  'pixel600',\n",
              "  'pixel601',\n",
              "  'pixel602',\n",
              "  'pixel603',\n",
              "  'pixel604',\n",
              "  'pixel605',\n",
              "  'pixel606',\n",
              "  'pixel607',\n",
              "  'pixel608',\n",
              "  'pixel609',\n",
              "  'pixel610',\n",
              "  'pixel611',\n",
              "  'pixel612',\n",
              "  'pixel613',\n",
              "  'pixel614',\n",
              "  'pixel615',\n",
              "  'pixel616',\n",
              "  'pixel617',\n",
              "  'pixel618',\n",
              "  'pixel619',\n",
              "  'pixel620',\n",
              "  'pixel621',\n",
              "  'pixel622',\n",
              "  'pixel623',\n",
              "  'pixel624',\n",
              "  'pixel625',\n",
              "  'pixel626',\n",
              "  'pixel627',\n",
              "  'pixel628',\n",
              "  'pixel629',\n",
              "  'pixel630',\n",
              "  'pixel631',\n",
              "  'pixel632',\n",
              "  'pixel633',\n",
              "  'pixel634',\n",
              "  'pixel635',\n",
              "  'pixel636',\n",
              "  'pixel637',\n",
              "  'pixel638',\n",
              "  'pixel639',\n",
              "  'pixel640',\n",
              "  'pixel641',\n",
              "  'pixel642',\n",
              "  'pixel643',\n",
              "  'pixel644',\n",
              "  'pixel645',\n",
              "  'pixel646',\n",
              "  'pixel647',\n",
              "  'pixel648',\n",
              "  'pixel649',\n",
              "  'pixel650',\n",
              "  'pixel651',\n",
              "  'pixel652',\n",
              "  'pixel653',\n",
              "  'pixel654',\n",
              "  'pixel655',\n",
              "  'pixel656',\n",
              "  'pixel657',\n",
              "  'pixel658',\n",
              "  'pixel659',\n",
              "  'pixel660',\n",
              "  'pixel661',\n",
              "  'pixel662',\n",
              "  'pixel663',\n",
              "  'pixel664',\n",
              "  'pixel665',\n",
              "  'pixel666',\n",
              "  'pixel667',\n",
              "  'pixel668',\n",
              "  'pixel669',\n",
              "  'pixel670',\n",
              "  'pixel671',\n",
              "  'pixel672',\n",
              "  'pixel673',\n",
              "  'pixel674',\n",
              "  'pixel675',\n",
              "  'pixel676',\n",
              "  'pixel677',\n",
              "  'pixel678',\n",
              "  'pixel679',\n",
              "  'pixel680',\n",
              "  'pixel681',\n",
              "  'pixel682',\n",
              "  'pixel683',\n",
              "  'pixel684',\n",
              "  'pixel685',\n",
              "  'pixel686',\n",
              "  'pixel687',\n",
              "  'pixel688',\n",
              "  'pixel689',\n",
              "  'pixel690',\n",
              "  'pixel691',\n",
              "  'pixel692',\n",
              "  'pixel693',\n",
              "  'pixel694',\n",
              "  'pixel695',\n",
              "  'pixel696',\n",
              "  'pixel697',\n",
              "  'pixel698',\n",
              "  'pixel699',\n",
              "  'pixel700',\n",
              "  'pixel701',\n",
              "  'pixel702',\n",
              "  'pixel703',\n",
              "  'pixel704',\n",
              "  'pixel705',\n",
              "  'pixel706',\n",
              "  'pixel707',\n",
              "  'pixel708',\n",
              "  'pixel709',\n",
              "  'pixel710',\n",
              "  'pixel711',\n",
              "  'pixel712',\n",
              "  'pixel713',\n",
              "  'pixel714',\n",
              "  'pixel715',\n",
              "  'pixel716',\n",
              "  'pixel717',\n",
              "  'pixel718',\n",
              "  'pixel719',\n",
              "  'pixel720',\n",
              "  'pixel721',\n",
              "  'pixel722',\n",
              "  'pixel723',\n",
              "  'pixel724',\n",
              "  'pixel725',\n",
              "  'pixel726',\n",
              "  'pixel727',\n",
              "  'pixel728',\n",
              "  'pixel729',\n",
              "  'pixel730',\n",
              "  'pixel731',\n",
              "  'pixel732',\n",
              "  'pixel733',\n",
              "  'pixel734',\n",
              "  'pixel735',\n",
              "  'pixel736',\n",
              "  'pixel737',\n",
              "  'pixel738',\n",
              "  'pixel739',\n",
              "  'pixel740',\n",
              "  'pixel741',\n",
              "  'pixel742',\n",
              "  'pixel743',\n",
              "  'pixel744',\n",
              "  'pixel745',\n",
              "  'pixel746',\n",
              "  'pixel747',\n",
              "  'pixel748',\n",
              "  'pixel749',\n",
              "  'pixel750',\n",
              "  'pixel751',\n",
              "  'pixel752',\n",
              "  'pixel753',\n",
              "  'pixel754',\n",
              "  'pixel755',\n",
              "  'pixel756',\n",
              "  'pixel757',\n",
              "  'pixel758',\n",
              "  'pixel759',\n",
              "  'pixel760',\n",
              "  'pixel761',\n",
              "  'pixel762',\n",
              "  'pixel763',\n",
              "  'pixel764',\n",
              "  'pixel765',\n",
              "  'pixel766',\n",
              "  'pixel767',\n",
              "  'pixel768',\n",
              "  'pixel769',\n",
              "  'pixel770',\n",
              "  'pixel771',\n",
              "  'pixel772',\n",
              "  'pixel773',\n",
              "  'pixel774',\n",
              "  'pixel775',\n",
              "  'pixel776',\n",
              "  'pixel777',\n",
              "  'pixel778',\n",
              "  'pixel779',\n",
              "  'pixel780',\n",
              "  'pixel781',\n",
              "  'pixel782',\n",
              "  'pixel783',\n",
              "  'pixel784'],\n",
              " 'target_names': ['class'],\n",
              " 'DESCR': \"**Author**: Yann LeCun, Corinna Cortes, Christopher J.C. Burges  \\n**Source**: [MNIST Website](http://yann.lecun.com/exdb/mnist/) - Date unknown  \\n**Please cite**:  \\n\\nThe MNIST database of handwritten digits with 784 features, raw data available at: http://yann.lecun.com/exdb/mnist/. It can be split in a training set of the first 60,000 examples, and a test set of 10,000 examples  \\n\\nIt is a subset of a larger set available from NIST. The digits have been size-normalized and centered in a fixed-size image. It is a good database for people who want to try learning techniques and pattern recognition methods on real-world data while spending minimal efforts on preprocessing and formatting. The original black and white (bilevel) images from NIST were size normalized to fit in a 20x20 pixel box while preserving their aspect ratio. The resulting images contain grey levels as a result of the anti-aliasing technique used by the normalization algorithm. the images were centered in a 28x28 image by computing the center of mass of the pixels, and translating the image so as to position this point at the center of the 28x28 field.  \\n\\nWith some classification methods (particularly template-based methods, such as SVM and K-nearest neighbors), the error rate improves when the digits are centered by bounding box rather than center of mass. If you do this kind of pre-processing, you should report it in your publications. The MNIST database was constructed from NIST's NIST originally designated SD-3 as their training set and SD-1 as their test set. However, SD-3 is much cleaner and easier to recognize than SD-1. The reason for this can be found on the fact that SD-3 was collected among Census Bureau employees, while SD-1 was collected among high-school students. Drawing sensible conclusions from learning experiments requires that the result be independent of the choice of training set and test among the complete set of samples. Therefore it was necessary to build a new database by mixing NIST's datasets.  \\n\\nThe MNIST training set is composed of 30,000 patterns from SD-3 and 30,000 patterns from SD-1. Our test set was composed of 5,000 patterns from SD-3 and 5,000 patterns from SD-1. The 60,000 pattern training set contained examples from approximately 250 writers. We made sure that the sets of writers of the training set and test set were disjoint. SD-1 contains 58,527 digit images written by 500 different writers. In contrast to SD-3, where blocks of data from each writer appeared in sequence, the data in SD-1 is scrambled. Writer identities for SD-1 is available and we used this information to unscramble the writers. We then split SD-1 in two: characters written by the first 250 writers went into our new training set. The remaining 250 writers were placed in our test set. Thus we had two sets with nearly 30,000 examples each. The new training set was completed with enough examples from SD-3, starting at pattern # 0, to make a full set of 60,000 training patterns. Similarly, the new test set was completed with SD-3 examples starting at pattern # 35,000 to make a full set with 60,000 test patterns. Only a subset of 10,000 test images (5,000 from SD-1 and 5,000 from SD-3) is available on this site. The full 60,000 sample training set is available.\\n\\nDownloaded from openml.org.\",\n",
              " 'details': {'id': '554',\n",
              "  'name': 'mnist_784',\n",
              "  'version': '1',\n",
              "  'description_version': '2',\n",
              "  'format': 'ARFF',\n",
              "  'creator': ['Yann LeCun', 'Corinna Cortes', 'Christopher J.C. Burges'],\n",
              "  'upload_date': '2014-09-29T03:28:38',\n",
              "  'language': 'English',\n",
              "  'licence': 'Public',\n",
              "  'url': 'https://api.openml.org/data/v1/download/52667/mnist_784.arff',\n",
              "  'parquet_url': 'http://openml1.win.tue.nl/dataset554/dataset_554.pq',\n",
              "  'file_id': '52667',\n",
              "  'default_target_attribute': 'class',\n",
              "  'tag': ['AzurePilot',\n",
              "   'OpenML-CC18',\n",
              "   'OpenML100',\n",
              "   'study_1',\n",
              "   'study_123',\n",
              "   'study_41',\n",
              "   'study_99',\n",
              "   'vision'],\n",
              "  'visibility': 'public',\n",
              "  'minio_url': 'http://openml1.win.tue.nl/dataset554/dataset_554.pq',\n",
              "  'status': 'active',\n",
              "  'processing_date': '2020-11-20 20:12:09',\n",
              "  'md5_checksum': '0298d579eb1b86163de7723944c7e495'},\n",
              " 'url': 'https://www.openml.org/d/554'}"
            ]
          },
          "metadata": {},
          "execution_count": 40
        }
      ]
    },
    {
      "cell_type": "code",
      "source": [
        "data, label = dataset.data, dataset.target"
      ],
      "metadata": {
        "id": "HMalwIrkj_-D"
      },
      "execution_count": 167,
      "outputs": []
    },
    {
      "cell_type": "code",
      "source": [
        "label"
      ],
      "metadata": {
        "id": "69b955KNkAB7",
        "colab": {
          "base_uri": "https://localhost:8080/"
        },
        "outputId": "613bca22-cb9e-415e-f6b0-d09926403a0b"
      },
      "execution_count": 168,
      "outputs": [
        {
          "output_type": "execute_result",
          "data": {
            "text/plain": [
              "0        5\n",
              "1        0\n",
              "2        4\n",
              "3        1\n",
              "4        9\n",
              "        ..\n",
              "69995    2\n",
              "69996    3\n",
              "69997    4\n",
              "69998    5\n",
              "69999    6\n",
              "Name: class, Length: 70000, dtype: category\n",
              "Categories (10, object): ['0', '1', '2', '3', ..., '6', '7', '8', '9']"
            ]
          },
          "metadata": {},
          "execution_count": 168
        }
      ]
    },
    {
      "cell_type": "code",
      "source": [
        "label = label.astype(int)"
      ],
      "metadata": {
        "id": "Ll_AE3YQkAFB"
      },
      "execution_count": 169,
      "outputs": []
    },
    {
      "cell_type": "code",
      "source": [
        "label"
      ],
      "metadata": {
        "id": "e0ijRBedkAH5",
        "colab": {
          "base_uri": "https://localhost:8080/"
        },
        "outputId": "01f5b612-b9c4-4005-f634-98b7f0325ae5"
      },
      "execution_count": 170,
      "outputs": [
        {
          "output_type": "execute_result",
          "data": {
            "text/plain": [
              "0        5\n",
              "1        0\n",
              "2        4\n",
              "3        1\n",
              "4        9\n",
              "        ..\n",
              "69995    2\n",
              "69996    3\n",
              "69997    4\n",
              "69998    5\n",
              "69999    6\n",
              "Name: class, Length: 70000, dtype: int64"
            ]
          },
          "metadata": {},
          "execution_count": 170
        }
      ]
    },
    {
      "cell_type": "code",
      "source": [
        "data.shape"
      ],
      "metadata": {
        "id": "40h35BZBkAK0",
        "colab": {
          "base_uri": "https://localhost:8080/"
        },
        "outputId": "126bea01-8e1a-47e9-96fa-0c093b232cac"
      },
      "execution_count": 171,
      "outputs": [
        {
          "output_type": "execute_result",
          "data": {
            "text/plain": [
              "(70000, 784)"
            ]
          },
          "metadata": {},
          "execution_count": 171
        }
      ]
    },
    {
      "cell_type": "code",
      "source": [
        "label.shape"
      ],
      "metadata": {
        "id": "zGmpV2BlkAN6",
        "colab": {
          "base_uri": "https://localhost:8080/"
        },
        "outputId": "47a973f1-7e33-4792-c52c-4a439a24ca8b"
      },
      "execution_count": 172,
      "outputs": [
        {
          "output_type": "execute_result",
          "data": {
            "text/plain": [
              "(70000,)"
            ]
          },
          "metadata": {},
          "execution_count": 172
        }
      ]
    },
    {
      "cell_type": "code",
      "source": [
        "choose_one_digit=data.iloc[2600]"
      ],
      "metadata": {
        "id": "71Cd-BoVkAQl"
      },
      "execution_count": 173,
      "outputs": []
    },
    {
      "cell_type": "code",
      "source": [
        "choose_one_digit = choose_one_digit.values\n",
        "#choose_one_digit = choose_one_digit.to_numpy()"
      ],
      "metadata": {
        "id": "angKxnBSnMXR"
      },
      "execution_count": 174,
      "outputs": []
    },
    {
      "cell_type": "code",
      "source": [
        "image = choose_one_digit.reshape(28,28)"
      ],
      "metadata": {
        "id": "p6DDch-okATX"
      },
      "execution_count": 175,
      "outputs": []
    },
    {
      "cell_type": "code",
      "source": [
        "plt.imshow(image, cmap = matplotlib.cm.binary, interpolation = \"nearest\")"
      ],
      "metadata": {
        "id": "J3YcBXLGk-5C",
        "colab": {
          "base_uri": "https://localhost:8080/",
          "height": 447
        },
        "outputId": "5ca41692-9958-4a83-b6ad-fce405a1977c"
      },
      "execution_count": 176,
      "outputs": [
        {
          "output_type": "execute_result",
          "data": {
            "text/plain": [
              "<matplotlib.image.AxesImage at 0x7ff6e11c7d00>"
            ]
          },
          "metadata": {},
          "execution_count": 176
        },
        {
          "output_type": "display_data",
          "data": {
            "text/plain": [
              "<Figure size 640x480 with 1 Axes>"
            ],
            "image/png": "[encoded data removed]"
          },
          "metadata": {}
        }
      ]
    },
    {
      "cell_type": "code",
      "source": [
        "#choose_one_digit=data[2600]\n",
        "label[2600]"
      ],
      "metadata": {
        "id": "6oTp6QHFk-71",
        "colab": {
          "base_uri": "https://localhost:8080/"
        },
        "outputId": "42ae8f6d-84c1-42f3-dbb3-5de7aab86b8e"
      },
      "execution_count": 177,
      "outputs": [
        {
          "output_type": "execute_result",
          "data": {
            "text/plain": [
              "9"
            ]
          },
          "metadata": {},
          "execution_count": 177
        }
      ]
    },
    {
      "cell_type": "code",
      "source": [
        "###"
      ],
      "metadata": {
        "id": "D3ovKSgBk_Bw"
      },
      "execution_count": 52,
      "outputs": []
    },
    {
      "cell_type": "code",
      "source": [
        "from keras.datasets import mnist\n",
        "from numpy import random\n",
        "import matplotlib.pyplot as plt\n",
        "\n",
        "# загружаем данные и делим их на тренировочные и валидационные\n",
        "(X_train, y_train), (X_test, y_test) = mnist.load_data()\n",
        "\n",
        "# фиксируем seed для повторяемости результатов\n",
        "random.seed(42)\n",
        "\n",
        "# берем 14 случайных изображений\n",
        "N = random.randint(0, X_train.shape[0], 14)\n",
        "digits = X_train[N]\n",
        "labels = y_train[N]\n",
        "\n",
        "# код для отрисовки\n",
        "f, ax = plt.subplots(\n",
        "    2, 7, figsize=(12,5),\n",
        "    gridspec_kw={'wspace':0.03, 'hspace':0.01},\n",
        "    squeeze=True\n",
        ")\n",
        "\n",
        "for r in range(2):\n",
        "    for c in range(7):\n",
        "        index = r * 7 + c\n",
        "        ax[r,c].axis(\"off\")\n",
        "        ax[r,c].imshow(digits[index], cmap='gray')\n",
        "        ax[r,c].set_title('No. {0}'.format(labels[index]))\n",
        "\n",
        "plt.show()\n",
        "plt.close()"
      ],
      "metadata": {
        "id": "GgRBYVk8qqGH",
        "colab": {
          "base_uri": "https://localhost:8080/",
          "height": 382
        },
        "outputId": "194742b8-8c2c-4737-8764-47c35369c89d"
      },
      "execution_count": 32,
      "outputs": [
        {
          "output_type": "display_data",
          "data": {
            "text/plain": [
              "<Figure size 1200x500 with 14 Axes>"
            ],
            "image/png": "[encoded data removed]"
          },
          "metadata": {}
        }
      ]
    },
    {
      "cell_type": "code",
      "source": [
        "print(len(X_train))\n",
        "print(len(X_test))\n",
        "print(len(y_train))\n",
        "print(len(y_test))"
      ],
      "metadata": {
        "id": "4dkFOQEz5SA_",
        "colab": {
          "base_uri": "https://localhost:8080/"
        },
        "outputId": "9f184795-64f2-4929-fafe-d0492c72661f"
      },
      "execution_count": 33,
      "outputs": [
        {
          "output_type": "stream",
          "name": "stdout",
          "text": [
            "60000\n",
            "10000\n",
            "60000\n",
            "10000\n"
          ]
        }
      ]
    },
    {
      "cell_type": "markdown",
      "source": [
        "##Начинаем основную часть ДЗ"
      ],
      "metadata": {
        "id": "xdoh-PQQMuTe"
      }
    },
    {
      "cell_type": "code",
      "source": [
        "###"
      ],
      "metadata": {
        "id": "BtqI3TGErKWo"
      },
      "execution_count": 5,
      "outputs": []
    },
    {
      "cell_type": "code",
      "source": [
        "%matplotlib inline\n",
        "import cv2\n",
        "import numpy as np\n",
        "import pandas as pd\n",
        "import matplotlib.pyplot as plt\n",
        "print(cv2.__version__)"
      ],
      "metadata": {
        "id": "X7DeqgSgrJfr",
        "colab": {
          "base_uri": "https://localhost:8080/"
        },
        "outputId": "0eb4d93d-a762-410a-e7c1-6ec983ba668f"
      },
      "execution_count": 9,
      "outputs": [
        {
          "output_type": "stream",
          "name": "stdout",
          "text": [
            "4.8.0\n"
          ]
        }
      ]
    },
    {
      "cell_type": "markdown",
      "metadata": {
        "id": "EhRrWJApfWle"
      },
      "source": [
        "## Загружаем исходные данные"
      ]
    },
    {
      "cell_type": "code",
      "source": [
        "#train = pd.read_csv('train.csv')\n",
        "#test = pd.read_csv('test.csv')\n",
        "#train = pd.read_csv('train.csv', delimiter =',', skiprows = 0)\n",
        "#test = pd.read_csv('test.csv',   delimiter =',', skiprows = 0)"
      ],
      "metadata": {
        "id": "_4n7OEOTtGQ6"
      },
      "execution_count": 40,
      "outputs": []
    },
    {
      "cell_type": "code",
      "source": [
        "#train.columns = list(range(0, train.shape[1]))\n",
        "#test.columns = list(range(0, test.shape[1]))"
      ],
      "metadata": {
        "id": "wqc-Uhhz2aEz"
      },
      "execution_count": null,
      "outputs": []
    },
    {
      "cell_type": "code",
      "source": [
        "#train.isnull().sum().sum ()"
      ],
      "metadata": {
        "id": "_MMmRWQTTHTp"
      },
      "execution_count": null,
      "outputs": []
    },
    {
      "cell_type": "code",
      "source": [
        "#test.isnull().sum().sum ()"
      ],
      "metadata": {
        "id": "OBqm5H53TpbV"
      },
      "execution_count": null,
      "outputs": []
    },
    {
      "cell_type": "code",
      "source": [
        "#train = train.dropna ()\n",
        "#test = test.dropna ()"
      ],
      "metadata": {
        "id": "Q4vX4FW7G_Ix"
      },
      "execution_count": 22,
      "outputs": []
    },
    {
      "cell_type": "code",
      "source": [
        "#train = train.values\n",
        "#test = test.values"
      ],
      "metadata": {
        "id": "X_0ZvdQvSgb3"
      },
      "execution_count": 46,
      "outputs": []
    },
    {
      "cell_type": "code",
      "source": [
        "#train = train.dropna ()\n",
        "#test = test.dropna ()\n",
        "#train = train.values(np.uint8)\n",
        "#test = test.values(np.uint8)\n",
        "#train = train.to_numpy(np.uint8)\n",
        "#test  = test.to_numpy(np.uint8)"
      ],
      "metadata": {
        "id": "WqmPwNNL2m_F"
      },
      "execution_count": null,
      "outputs": []
    },
    {
      "cell_type": "code",
      "source": [
        "train = np.loadtxt('train.csv', delimiter =',', skiprows = 1)\n",
        "test = np.loadtxt('test.csv',   delimiter =',', skiprows = 1)"
      ],
      "metadata": {
        "id": "-8drslMNUZ3b"
      },
      "execution_count": 10,
      "outputs": []
    },
    {
      "cell_type": "code",
      "source": [
        "print(type(test), type(train))"
      ],
      "metadata": {
        "id": "wab1mcWqtzvJ",
        "colab": {
          "base_uri": "https://localhost:8080/"
        },
        "outputId": "4cc3e084-4183-429e-f49a-4036c9cd246f"
      },
      "execution_count": 11,
      "outputs": [
        {
          "output_type": "stream",
          "name": "stdout",
          "text": [
            "<class 'numpy.ndarray'> <class 'numpy.ndarray'>\n"
          ]
        }
      ]
    },
    {
      "cell_type": "code",
      "execution_count": 12,
      "metadata": {
        "collapsed": true,
        "id": "Hbz4fJ8rfWlf"
      },
      "outputs": [],
      "source": [
        "# сохраняем разметку в отдельную переменную\n",
        "train_label = train[:, 0]\n",
        "\n",
        "# приводим размерность к удобному для обработки виду\n",
        "train_img = np.resize(train[:, 1:], (train.shape[0], 28, 28))\n",
        "test_img = np.resize(test, (test.shape[0], 28, 28))"
      ]
    },
    {
      "cell_type": "code",
      "execution_count": 13,
      "metadata": {
        "id": "QyRA71AUfWlg",
        "colab": {
          "base_uri": "https://localhost:8080/"
        },
        "outputId": "6bdb1e59-d998-411b-ced5-c879bd1b3ba8"
      },
      "outputs": [
        {
          "output_type": "stream",
          "name": "stdout",
          "text": [
            "(42000, 28, 28)\n",
            "(28000, 28, 28)\n"
          ]
        }
      ],
      "source": [
        "print(train_img.shape)\n",
        "print(test_img.shape)"
      ]
    },
    {
      "cell_type": "code",
      "source": [
        "\"\"\"winSize = (28,28)\n",
        "blockSize = (14,14)\n",
        "blockStride = (14,14)\n",
        "cellSize = (7,7)\n",
        "nbins = 9\n",
        "derivAperture = 1\n",
        "winSigma = 4.\n",
        "histogramNormType = 0\n",
        "L2HysThreshold = 0.2\n",
        "gammaCorrection = 0\n",
        "nlevels = 64\n",
        "\n",
        "hog = cv2.HOGDescriptor(winSize,\n",
        "                        blockSize,\n",
        "                        blockStride,\n",
        "                        cellSize,\n",
        "                        nbins,\n",
        "                        derivAperture,\n",
        "                        winSigma,\n",
        "                        histogramNormType,\n",
        "                        L2HysThreshold,\n",
        "                        gammaCorrection,\n",
        "                        nlevels)\"\"\""
      ],
      "metadata": {
        "id": "YFiVuwNlAOxo"
      },
      "execution_count": 58,
      "outputs": []
    },
    {
      "cell_type": "code",
      "source": [
        "\"\"\"descriptor = hog.compute(np.uint8(train_img[1])) # 0\n",
        "print('Descriptor size: %d' % len(descriptor))\"\"\""
      ],
      "metadata": {
        "id": "5b5U8JwTAO43",
        "colab": {
          "base_uri": "https://localhost:8080/"
        },
        "outputId": "745828ed-9f4d-4cd1-9519-a9ac90cac61d"
      },
      "execution_count": 59,
      "outputs": [
        {
          "output_type": "stream",
          "name": "stdout",
          "text": [
            "Descriptor size: 144\n"
          ]
        }
      ]
    },
    {
      "cell_type": "code",
      "source": [
        "\"\"\"from matplotlib import pyplot as plt\n",
        "\n",
        "fig = plt.figure()\n",
        "ax = fig.add_axes([0,0,2,1])\n",
        "ax.bar(range(len(descriptor)), descriptor.reshape(-1))\n",
        "plt.show()\"\"\""
      ],
      "metadata": {
        "id": "TM1UMagpAO7o"
      },
      "execution_count": null,
      "outputs": []
    },
    {
      "cell_type": "markdown",
      "metadata": {
        "id": "cwP9wZXUfWlh"
      },
      "source": [
        "## Визуализируем исходные данные"
      ]
    },
    {
      "cell_type": "code",
      "execution_count": 14,
      "metadata": {
        "id": "91kqGpFLfWlh",
        "colab": {
          "base_uri": "https://localhost:8080/",
          "height": 272
        },
        "outputId": "e12c1f75-c75f-4563-9031-d7fd69033d4f"
      },
      "outputs": [
        {
          "output_type": "display_data",
          "data": {
            "text/plain": [
              "<Figure size 2000x1000 with 5 Axes>"
            ],
            "image/png": "[encoded data removed]"
          },
          "metadata": {}
        }
      ],
      "source": [
        "fig = plt.figure(figsize = (20, 10))\n",
        "for i, img in enumerate(train_img[0:5], 1):\n",
        "    subplot = fig.add_subplot(1, 7, i)\n",
        "    plt.imshow(img, cmap='gray');\n",
        "    subplot.set_title('%s' % train_label[i - 1]);"
      ]
    },
    {
      "cell_type": "markdown",
      "metadata": {
        "id": "oHt7AgSJfWli"
      },
      "source": [
        "## Вычисляем X и Y составляющие градиента с помощью оператора Собеля"
      ]
    },
    {
      "cell_type": "code",
      "source": [
        "train_sobel_x = np.zeros_like(train_img)\n",
        "train_sobel_y = np.zeros_like(train_img)\n",
        "for i in range(len(train_img)):\n",
        "    train_sobel_x[i] = cv2.Sobel(train_img[i], cv2.CV_64F, dx=1, dy=0, ksize=3)\n",
        "    train_sobel_y[i] = cv2.Sobel(train_img[i], cv2.CV_64F, dx=0, dy=1, ksize=3)"
      ],
      "metadata": {
        "id": "JQ2W3eGl1ZEr"
      },
      "execution_count": 15,
      "outputs": []
    },
    {
      "cell_type": "code",
      "source": [
        "test_sobel_x = np.zeros_like(test_img)\n",
        "test_sobel_y = np.zeros_like(test_img)\n",
        "for i in range(len(test_img)):\n",
        "    test_sobel_x[i] = cv2.Sobel(test_img[i], cv2.CV_64F, dx=1, dy=0, ksize=3)\n",
        "    test_sobel_y[i] = cv2.Sobel(test_img[i], cv2.CV_64F, dx=0, dy=1, ksize=3)"
      ],
      "metadata": {
        "id": "HtxkT-HjyJ1U"
      },
      "execution_count": 16,
      "outputs": []
    },
    {
      "cell_type": "markdown",
      "metadata": {
        "id": "H3sGW1i0fWlj"
      },
      "source": [
        "## Вычисляем угол и длину вектора градиента"
      ]
    },
    {
      "cell_type": "code",
      "execution_count": 17,
      "metadata": {
        "collapsed": true,
        "id": "9DTqNzaEfWlj"
      },
      "outputs": [],
      "source": [
        "train_g, train_theta = cv2.cartToPolar(train_sobel_x, train_sobel_y)"
      ]
    },
    {
      "cell_type": "code",
      "execution_count": 18,
      "metadata": {
        "collapsed": true,
        "id": "1hCX7Df_fWlj"
      },
      "outputs": [],
      "source": [
        "test_g, test_theta = cv2.cartToPolar(test_sobel_x, test_sobel_y)"
      ]
    },
    {
      "cell_type": "code",
      "execution_count": 20,
      "metadata": {
        "id": "ZnwZPrJUfWlj",
        "colab": {
          "base_uri": "https://localhost:8080/",
          "height": 540
        },
        "outputId": "c13143b8-b4f2-414d-8ef4-65db4cb94ec8"
      },
      "outputs": [
        {
          "output_type": "display_data",
          "data": {
            "text/plain": [
              "<Figure size 2000x1000 with 10 Axes>"
            ],
            "image/png": "[encoded data removed]"
          },
          "metadata": {}
        }
      ],
      "source": [
        "fig = plt.figure(figsize=(20, 10))\n",
        "for i, img in enumerate(train_g[:5], 1):\n",
        "    subplot = fig.add_subplot(1, 7, i)\n",
        "    plt.imshow(img, cmap='gray');\n",
        "    subplot.set_title('%s' % train_label[i - 1]);\n",
        "    subplot = fig.add_subplot(3, 7, i)\n",
        "    plt.hist(train_theta[i - 1].flatten(),\n",
        "             bins=16, weights=train_g[i - 1].flatten())"
      ]
    },
    {
      "cell_type": "markdown",
      "metadata": {
        "id": "talKDEyofWlj"
      },
      "source": [
        "## Вычисляем гистограммы градиентов"
      ]
    },
    {
      "cell_type": "code",
      "execution_count": 21,
      "metadata": {
        "collapsed": true,
        "id": "tZwuQLIlfWlk"
      },
      "outputs": [],
      "source": [
        "# Гистограммы вычисляются с учетом длины вектора градиента\n",
        "train_hist = np.zeros((len(train_img), 16))\n",
        "for i in range(len(train_img)):\n",
        "    hist, borders = np.histogram(train_theta[i],\n",
        "                                 bins=16,\n",
        "                                 range=(0., 2. * np.pi),\n",
        "                                 weights=train_g[i])\n",
        "    train_hist[i] = hist"
      ]
    },
    {
      "cell_type": "code",
      "execution_count": 22,
      "metadata": {
        "collapsed": true,
        "id": "Ugqch_JefWlk"
      },
      "outputs": [],
      "source": [
        "test_hist = np.zeros((len(test_img), 16))\n",
        "for i in range(len(test_img)):\n",
        "    hist, borders = np.histogram(test_theta[i],\n",
        "                                 bins=16,\n",
        "                                 range=(0., 2. * np.pi),\n",
        "                                 weights=test_g[i])\n",
        "    test_hist[i] = hist"
      ]
    },
    {
      "cell_type": "markdown",
      "metadata": {
        "id": "GxDKa2xwfWlk"
      },
      "source": [
        "## Нормируем вектор гистограммы"
      ]
    },
    {
      "cell_type": "code",
      "execution_count": 23,
      "metadata": {
        "collapsed": true,
        "id": "aOXvYfZufWlk"
      },
      "outputs": [],
      "source": [
        "# По умолчанию используется L2 норма\n",
        "train_hist = train_hist / np.linalg.norm(train_hist, axis=1)[:, None]"
      ]
    },
    {
      "cell_type": "code",
      "execution_count": 24,
      "metadata": {
        "collapsed": true,
        "id": "BT8bKmYmfWlk"
      },
      "outputs": [],
      "source": [
        "test_hist = test_hist / np.linalg.norm(test_hist, axis=1)[:, None]"
      ]
    },
    {
      "cell_type": "markdown",
      "metadata": {
        "id": "esTT8eMZfWlk"
      },
      "source": [
        "## Разбиваем выборку на обучение и валидацию"
      ]
    },
    {
      "cell_type": "code",
      "execution_count": 25,
      "metadata": {
        "collapsed": true,
        "id": "A-1vy6zufWlk"
      },
      "outputs": [],
      "source": [
        "from sklearn.model_selection import train_test_split\n",
        "y_train, y_val, x_train, x_val = train_test_split(train_label, train_hist, test_size = 0.2, random_state = 42)"
      ]
    },
    {
      "cell_type": "markdown",
      "metadata": {
        "id": "z4dKMYa9fWll"
      },
      "source": [
        "# 1. Baseline solution"
      ]
    },
    {
      "cell_type": "markdown",
      "metadata": {
        "id": "P6l4jOebfWll"
      },
      "source": [
        "## Вычисляем центроиды каждого из 10 классов"
      ]
    },
    {
      "cell_type": "code",
      "execution_count": 26,
      "metadata": {
        "collapsed": true,
        "id": "uVubgTuUfWll"
      },
      "outputs": [],
      "source": [
        "centroids = np.zeros((10, train_hist.shape[1]), dtype = np.float32)"
      ]
    },
    {
      "cell_type": "code",
      "execution_count": 27,
      "metadata": {
        "collapsed": true,
        "id": "FKHnIxWGfWll"
      },
      "outputs": [],
      "source": [
        "for i in range(10):\n",
        "    centroids[i] = np.mean(x_train[y_train == i], axis = 0)"
      ]
    },
    {
      "cell_type": "markdown",
      "metadata": {
        "id": "fC4f3PrUfWll"
      },
      "source": [
        "## Находим ближайший центройд для валидации"
      ]
    },
    {
      "cell_type": "code",
      "execution_count": 28,
      "metadata": {
        "collapsed": true,
        "id": "29w4qrgQfWll"
      },
      "outputs": [],
      "source": [
        "pred_val = np.zeros_like(y_val)\n",
        "for i in range(len(y_val)):\n",
        "    distances = np.linalg.norm(centroids - x_val[i], axis=1)\n",
        "    pred_val[i] = np.argmin(distances)"
      ]
    },
    {
      "cell_type": "markdown",
      "metadata": {
        "id": "F2eA6QPAfWll"
      },
      "source": [
        "## Оцениваем качество решение на валидационной выборке"
      ]
    },
    {
      "cell_type": "code",
      "execution_count": 29,
      "metadata": {
        "id": "XFmWDRCIfWll",
        "colab": {
          "base_uri": "https://localhost:8080/"
        },
        "outputId": "27594362-3577-4c15-cfc8-411ac4511432"
      },
      "outputs": [
        {
          "output_type": "stream",
          "name": "stdout",
          "text": [
            "Accuracy: 0.4270238095238095\n"
          ]
        }
      ],
      "source": [
        "from sklearn.metrics import accuracy_score\n",
        "print('Accuracy: %s' % accuracy_score(y_val, pred_val))"
      ]
    },
    {
      "cell_type": "code",
      "execution_count": 30,
      "metadata": {
        "id": "r18F724nfWll",
        "colab": {
          "base_uri": "https://localhost:8080/"
        },
        "outputId": "c37b43ef-e14f-4d27-a068-e998e48435dc"
      },
      "outputs": [
        {
          "output_type": "stream",
          "name": "stdout",
          "text": [
            "              precision    recall  f1-score   support\n",
            "\n",
            "         0.0       0.34      0.12      0.18       816\n",
            "         1.0       0.59      0.76      0.66       909\n",
            "         2.0       0.33      0.29      0.31       846\n",
            "         3.0       0.55      0.49      0.51       937\n",
            "         4.0       0.33      0.31      0.32       839\n",
            "         5.0       0.46      0.67      0.55       702\n",
            "         6.0       0.24      0.45      0.31       785\n",
            "         7.0       0.73      0.41      0.53       893\n",
            "         8.0       0.39      0.49      0.44       835\n",
            "         9.0       0.48      0.27      0.34       838\n",
            "\n",
            "    accuracy                           0.43      8400\n",
            "   macro avg       0.44      0.43      0.42      8400\n",
            "weighted avg       0.45      0.43      0.42      8400\n",
            "\n"
          ]
        }
      ],
      "source": [
        "from sklearn.metrics import classification_report\n",
        "print(classification_report(y_val, pred_val))"
      ]
    },
    {
      "cell_type": "code",
      "execution_count": 31,
      "metadata": {
        "id": "vX8wql49fWlm",
        "colab": {
          "base_uri": "https://localhost:8080/"
        },
        "outputId": "538a62eb-899e-42de-ed25-9d192b852f0e"
      },
      "outputs": [
        {
          "output_type": "stream",
          "name": "stdout",
          "text": [
            "[[102  24  82  30 106  18 221   7 179  47]\n",
            " [  0 692   2   0  44   1 139  17  13   1]\n",
            " [ 21   0 245 158  12 203  54  16 119  18]\n",
            " [ 14   0 113 456   3 235   7   2  98   9]\n",
            " [ 11 248   5   2 260   0 205  43  37  28]\n",
            " [  3   0  84  97   5 472   3   4  33   1]\n",
            " [ 53  26  66  11 116   4 355  13  76  65]\n",
            " [  4 113  38  16  66  41 189 368  15  43]\n",
            " [ 81   6  68  44  36  44 107   3 411  35]\n",
            " [ 11  73  31  20 149  11 222  30  65 226]]\n"
          ]
        }
      ],
      "source": [
        "from sklearn.metrics import confusion_matrix\n",
        "print(confusion_matrix(y_val, pred_val))"
      ]
    },
    {
      "cell_type": "markdown",
      "metadata": {
        "id": "bWNwEtrbfWlm"
      },
      "source": [
        "## Предсказания на тестовыйх данных"
      ]
    },
    {
      "cell_type": "code",
      "execution_count": 32,
      "metadata": {
        "collapsed": true,
        "id": "46NOb_iyfWlm"
      },
      "outputs": [],
      "source": [
        "pred_test = np.zeros(len(test_img), np.uint8)\n",
        "for i in range(len(test_img)):\n",
        "    distances = np.linalg.norm(centroids - test_hist[i], axis=1)\n",
        "    pred_test[i] = np.argmin(distances)"
      ]
    },
    {
      "cell_type": "markdown",
      "metadata": {
        "id": "dVWNC0r2fWlm"
      },
      "source": [
        "## Визуализируем предсказания"
      ]
    },
    {
      "cell_type": "code",
      "execution_count": 33,
      "metadata": {
        "id": "KKjt56O7fWlm",
        "colab": {
          "base_uri": "https://localhost:8080/",
          "height": 272
        },
        "outputId": "351e3275-5c19-4dc0-e96c-41280bc29058"
      },
      "outputs": [
        {
          "output_type": "display_data",
          "data": {
            "text/plain": [
              "<Figure size 2000x1000 with 5 Axes>"
            ],
            "image/png": "[encoded data removed]"
          },
          "metadata": {}
        }
      ],
      "source": [
        "fig = plt.figure(figsize=(20, 10))\n",
        "for i, img in enumerate(test_img[0:5], 1):\n",
        "    subplot = fig.add_subplot(1, 7, i)\n",
        "    plt.imshow(img, cmap='gray');\n",
        "    subplot.set_title('%s' % pred_test[i - 1]);"
      ]
    },
    {
      "cell_type": "markdown",
      "metadata": {
        "id": "JDLjc91nfWlm"
      },
      "source": [
        "## Готовим файл для отправки"
      ]
    },
    {
      "cell_type": "code",
      "execution_count": 34,
      "metadata": {
        "collapsed": true,
        "id": "1XxKELVOfWlm"
      },
      "outputs": [],
      "source": [
        "with open('submit.txt', 'w') as dst:\n",
        "    dst.write('ImageId,Label\\n')\n",
        "    for i, p in enumerate(pred_test, 1):\n",
        "        dst.write('%s,%s\\n' % (i, p))"
      ]
    },
    {
      "cell_type": "code",
      "execution_count": 35,
      "metadata": {
        "id": "uoZtY5hGfWlq",
        "colab": {
          "base_uri": "https://localhost:8080/"
        },
        "outputId": "388b046c-7258-4c32-acb1-3167980b9de9"
      },
      "outputs": [
        {
          "output_type": "stream",
          "name": "stdout",
          "text": [
            "ImageId,Label\n",
            "1,5\n",
            "2,5\n",
            "3,6\n",
            "4,0\n",
            "5,8\n",
            "6,7\n",
            "7,6\n",
            "8,3\n",
            "9,8\n"
          ]
        }
      ],
      "source": [
        "!head submit.txt"
      ]
    },
    {
      "cell_type": "markdown",
      "metadata": {
        "id": "4AFB4zaFfWlr"
      },
      "source": [
        "# 2. Linear model' solution"
      ]
    },
    {
      "cell_type": "code",
      "execution_count": 36,
      "metadata": {
        "id": "dM-QFikDfWlr",
        "colab": {
          "base_uri": "https://localhost:8080/"
        },
        "outputId": "4ba3766c-9f6d-4d57-feef-f48ce59f0df0"
      },
      "outputs": [
        {
          "output_type": "execute_result",
          "data": {
            "text/plain": [
              "((33600,),\n",
              " array([8., 1., 9., ..., 3., 0., 9.]),\n",
              " (33600, 16),\n",
              " array([[0.41281347, 0.368608  , 0.18903207, ..., 0.22811746, 0.0608472 ,\n",
              "         0.26683354],\n",
              "        [0.65759467, 0.08075626, 0.03301447, ..., 0.01180928, 0.04207296,\n",
              "         0.11769157],\n",
              "        [0.3257592 , 0.50370109, 0.21290177, ..., 0.10697524, 0.09831463,\n",
              "         0.06179984],\n",
              "        ...,\n",
              "        [0.06224049, 0.20412941, 0.25190361, ..., 0.29521826, 0.09386408,\n",
              "         0.07608923],\n",
              "        [0.21475273, 0.2003948 , 0.3464693 , ..., 0.08707368, 0.11888592,\n",
              "         0.11854467],\n",
              "        [0.28903564, 0.36368445, 0.10787793, ..., 0.10475328, 0.1526668 ,\n",
              "         0.40338432]]))"
            ]
          },
          "metadata": {},
          "execution_count": 36
        }
      ],
      "source": [
        "y_train.shape, y_val, x_train.shape, x_val"
      ]
    },
    {
      "cell_type": "code",
      "execution_count": 37,
      "metadata": {
        "ExecuteTime": {
          "end_time": "2019-07-12T16:41:33.631426Z",
          "start_time": "2019-07-12T16:41:33.009793Z"
        },
        "id": "vCmk--m2fWlr",
        "colab": {
          "base_uri": "https://localhost:8080/",
          "height": 75
        },
        "outputId": "34822198-0971-4d85-d821-c69ef099baed"
      },
      "outputs": [
        {
          "output_type": "execute_result",
          "data": {
            "text/plain": [
              "LogisticRegression(max_iter=1000)"
            ],
            "text/html": [
              "<style>#sk-container-id-1 {color: black;background-color: white;}#sk-container-id-1 pre{padding: 0;}#sk-container-id-1 div.sk-toggleable {background-color: white;}#sk-container-id-1 label.sk-toggleable__label {cursor: pointer;display: block;width: 100%;margin-bottom: 0;padding: 0.3em;box-sizing: border-box;text-align: center;}#sk-container-id-1 label.sk-toggleable__label-arrow:before {content: \"▸\";float: left;margin-right: 0.25em;color: #696969;}#sk-container-id-1 label.sk-toggleable__label-arrow:hover:before {color: black;}#sk-container-id-1 div.sk-estimator:hover label.sk-toggleable__label-arrow:before {color: black;}#sk-container-id-1 div.sk-toggleable__content {max-height: 0;max-width: 0;overflow: hidden;text-align: left;background-color: #f0f8ff;}#sk-container-id-1 div.sk-toggleable__content pre {margin: 0.2em;color: black;border-radius: 0.25em;background-color: #f0f8ff;}#sk-container-id-1 input.sk-toggleable__control:checked~div.sk-toggleable__content {max-height: 200px;max-width: 100%;overflow: auto;}#sk-container-id-1 input.sk-toggleable__control:checked~label.sk-toggleable__label-arrow:before {content: \"▾\";}#sk-container-id-1 div.sk-estimator input.sk-toggleable__control:checked~label.sk-toggleable__label {background-color: #d4ebff;}#sk-container-id-1 div.sk-label input.sk-toggleable__control:checked~label.sk-toggleable__label {background-color: #d4ebff;}#sk-container-id-1 input.sk-hidden--visually {border: 0;clip: rect(1px 1px 1px 1px);clip: rect(1px, 1px, 1px, 1px);height: 1px;margin: -1px;overflow: hidden;padding: 0;position: absolute;width: 1px;}#sk-container-id-1 div.sk-estimator {font-family: monospace;background-color: #f0f8ff;border: 1px dotted black;border-radius: 0.25em;box-sizing: border-box;margin-bottom: 0.5em;}#sk-container-id-1 div.sk-estimator:hover {background-color: #d4ebff;}#sk-container-id-1 div.sk-parallel-item::after {content: \"\";width: 100%;border-bottom: 1px solid gray;flex-grow: 1;}#sk-container-id-1 div.sk-label:hover label.sk-toggleable__label {background-color: #d4ebff;}#sk-container-id-1 div.sk-serial::before {content: \"\";position: absolute;border-left: 1px solid gray;box-sizing: border-box;top: 0;bottom: 0;left: 50%;z-index: 0;}#sk-container-id-1 div.sk-serial {display: flex;flex-direction: column;align-items: center;background-color: white;padding-right: 0.2em;padding-left: 0.2em;position: relative;}#sk-container-id-1 div.sk-item {position: relative;z-index: 1;}#sk-container-id-1 div.sk-parallel {display: flex;align-items: stretch;justify-content: center;background-color: white;position: relative;}#sk-container-id-1 div.sk-item::before, #sk-container-id-1 div.sk-parallel-item::before {content: \"\";position: absolute;border-left: 1px solid gray;box-sizing: border-box;top: 0;bottom: 0;left: 50%;z-index: -1;}#sk-container-id-1 div.sk-parallel-item {display: flex;flex-direction: column;z-index: 1;position: relative;background-color: white;}#sk-container-id-1 div.sk-parallel-item:first-child::after {align-self: flex-end;width: 50%;}#sk-container-id-1 div.sk-parallel-item:last-child::after {align-self: flex-start;width: 50%;}#sk-container-id-1 div.sk-parallel-item:only-child::after {width: 0;}#sk-container-id-1 div.sk-dashed-wrapped {border: 1px dashed gray;margin: 0 0.4em 0.5em 0.4em;box-sizing: border-box;padding-bottom: 0.4em;background-color: white;}#sk-container-id-1 div.sk-label label {font-family: monospace;font-weight: bold;display: inline-block;line-height: 1.2em;}#sk-container-id-1 div.sk-label-container {text-align: center;}#sk-container-id-1 div.sk-container {/* jupyter's `normalize.less` sets `[hidden] { display: none; }` but bootstrap.min.css set `[hidden] { display: none !important; }` so we also need the `!important` here to be able to override the default hidden behavior on the sphinx rendered scikit-learn.org. See: https://github.com/scikit-learn/scikit-learn/issues/21755 */display: inline-block !important;position: relative;}#sk-container-id-1 div.sk-text-repr-fallback {display: none;}</style><div id=\"sk-container-id-1\" class=\"sk-top-container\"><div class=\"sk-text-repr-fallback\"><pre>LogisticRegression(max_iter=1000)</pre><b>In a Jupyter environment, please rerun this cell to show the HTML representation or trust the notebook. <br />On GitHub, the HTML representation is unable to render, please try loading this page with nbviewer.org.</b></div><div class=\"sk-container\" hidden><div class=\"sk-item\"><div class=\"sk-estimator sk-toggleable\"><input class=\"sk-toggleable__control sk-hidden--visually\" id=\"sk-estimator-id-1\" type=\"checkbox\" checked><label for=\"sk-estimator-id-1\" class=\"sk-toggleable__label sk-toggleable__label-arrow\">LogisticRegression</label><div class=\"sk-toggleable__content\"><pre>LogisticRegression(max_iter=1000)</pre></div></div></div></div></div>"
            ]
          },
          "metadata": {},
          "execution_count": 37
        }
      ],
      "source": [
        "from sklearn.linear_model import LogisticRegression\n",
        "model_lr = LogisticRegression(solver = 'lbfgs', max_iter = 1000)\n",
        "model_lr.fit(x_train, y_train)"
      ]
    },
    {
      "cell_type": "markdown",
      "metadata": {
        "id": "z2xke9vGfWlr"
      },
      "source": [
        "Получаем прогнозные значения модели (переменная predictions)"
      ]
    },
    {
      "cell_type": "code",
      "execution_count": 38,
      "metadata": {
        "ExecuteTime": {
          "end_time": "2019-07-12T16:41:50.143343Z",
          "start_time": "2019-07-12T16:41:50.134809Z"
        },
        "id": "k97jXIyHfWlr"
      },
      "outputs": [],
      "source": [
        "pred_val = model_lr.predict(x_val)"
      ]
    },
    {
      "cell_type": "markdown",
      "metadata": {
        "id": "a28njrEIfWls"
      },
      "source": [
        "## Оцениваем качество решение на валидационной выборке"
      ]
    },
    {
      "cell_type": "code",
      "execution_count": 39,
      "metadata": {
        "id": "R5N-OmPnfWls",
        "colab": {
          "base_uri": "https://localhost:8080/"
        },
        "outputId": "dbc84cb9-c747-414a-e0a4-5bd9f1c93bd1"
      },
      "outputs": [
        {
          "output_type": "stream",
          "name": "stdout",
          "text": [
            "Accuracy: 0.5786904761904762\n"
          ]
        }
      ],
      "source": [
        "from sklearn.metrics import accuracy_score\n",
        "print('Accuracy: %s' % accuracy_score(y_val, pred_val))"
      ]
    },
    {
      "cell_type": "code",
      "execution_count": 40,
      "metadata": {
        "id": "dIgoffYzfWls",
        "colab": {
          "base_uri": "https://localhost:8080/"
        },
        "outputId": "73904870-5dbc-4b00-e844-8a83281e36f0"
      },
      "outputs": [
        {
          "output_type": "stream",
          "name": "stdout",
          "text": [
            "              precision    recall  f1-score   support\n",
            "\n",
            "         0.0       0.37      0.27      0.31       816\n",
            "         1.0       0.91      0.96      0.94       909\n",
            "         2.0       0.41      0.30      0.35       846\n",
            "         3.0       0.59      0.69      0.64       937\n",
            "         4.0       0.62      0.61      0.61       839\n",
            "         5.0       0.54      0.63      0.58       702\n",
            "         6.0       0.41      0.40      0.40       785\n",
            "         7.0       0.79      0.78      0.79       893\n",
            "         8.0       0.44      0.54      0.48       835\n",
            "         9.0       0.57      0.54      0.56       838\n",
            "\n",
            "    accuracy                           0.58      8400\n",
            "   macro avg       0.56      0.57      0.57      8400\n",
            "weighted avg       0.57      0.58      0.57      8400\n",
            "\n"
          ]
        }
      ],
      "source": [
        "from sklearn.metrics import classification_report\n",
        "print(classification_report(y_val, pred_val))"
      ]
    },
    {
      "cell_type": "code",
      "execution_count": 41,
      "metadata": {
        "id": "3VZUFb4gfWls",
        "colab": {
          "base_uri": "https://localhost:8080/"
        },
        "outputId": "cdd367ce-c71a-478d-9ab2-b7076607b07a"
      },
      "outputs": [
        {
          "output_type": "stream",
          "name": "stdout",
          "text": [
            "[[222  10  73  32  48  26 161   4 187  53]\n",
            " [  1 873   2   0  20   0   3   4   1   5]\n",
            " [ 46   0 255 175  18 165  40  30 104  13]\n",
            " [ 21   0  68 645   1 106   8   8  68  12]\n",
            " [ 15  54  10   5 511   0 102  42  17  83]\n",
            " [  7   0  79 117   0 440   9  10  36   4]\n",
            " [118   5  56  18  89  11 314  15  94  65]\n",
            " [  6  11  26   7  38  14  32 699  10  50]\n",
            " [124   0  34  60  12  48  45   7 448  57]\n",
            " [ 46   5  22  28  92   8  59  68  56 454]]\n"
          ]
        }
      ],
      "source": [
        "from sklearn.metrics import confusion_matrix\n",
        "print(confusion_matrix(y_val, pred_val))"
      ]
    },
    {
      "cell_type": "markdown",
      "metadata": {
        "id": "v5hb80cJfWls"
      },
      "source": [
        "## Предсказания на тестовыйх данных"
      ]
    },
    {
      "cell_type": "code",
      "execution_count": 42,
      "metadata": {
        "collapsed": true,
        "id": "NVovmXcTfWls"
      },
      "outputs": [],
      "source": [
        "pred_test = model_lr.predict(test_hist)"
      ]
    },
    {
      "cell_type": "markdown",
      "metadata": {
        "id": "fM5R90g1fWls"
      },
      "source": [
        "## Визуализируем предсказания"
      ]
    },
    {
      "cell_type": "code",
      "execution_count": 43,
      "metadata": {
        "id": "71BQk44SfWls",
        "colab": {
          "base_uri": "https://localhost:8080/",
          "height": 272
        },
        "outputId": "ea2ac5a0-c848-493c-d511-bc5516c15182"
      },
      "outputs": [
        {
          "output_type": "display_data",
          "data": {
            "text/plain": [
              "<Figure size 2000x1000 with 5 Axes>"
            ],
            "image/png": "[encoded data removed]"
          },
          "metadata": {}
        }
      ],
      "source": [
        "fig = plt.figure(figsize=(20, 10))\n",
        "for i, img in enumerate(test_img[0:5], 1):\n",
        "    subplot = fig.add_subplot(1, 7, i)\n",
        "    plt.imshow(img, cmap='gray');\n",
        "    subplot.set_title('%s' % pred_test[i - 1]);"
      ]
    },
    {
      "cell_type": "markdown",
      "metadata": {
        "id": "qCIl2tsWfWlt"
      },
      "source": [
        "# 3. RF solution"
      ]
    },
    {
      "cell_type": "code",
      "execution_count": 77,
      "metadata": {
        "id": "_Jg-Q8H1fWlt"
      },
      "outputs": [],
      "source": [
        "from sklearn.ensemble import RandomForestClassifier"
      ]
    },
    {
      "cell_type": "code",
      "execution_count": 78,
      "metadata": {
        "id": "MYgWrfwEfWlt",
        "colab": {
          "base_uri": "https://localhost:8080/",
          "height": 75
        },
        "outputId": "fa56137d-0c56-4e7e-88f7-21fcb5f21588"
      },
      "outputs": [
        {
          "output_type": "execute_result",
          "data": {
            "text/plain": [
              "RandomForestClassifier(n_jobs=-1)"
            ],
            "text/html": [
              "<style>#sk-container-id-5 {color: black;background-color: white;}#sk-container-id-5 pre{padding: 0;}#sk-container-id-5 div.sk-toggleable {background-color: white;}#sk-container-id-5 label.sk-toggleable__label {cursor: pointer;display: block;width: 100%;margin-bottom: 0;padding: 0.3em;box-sizing: border-box;text-align: center;}#sk-container-id-5 label.sk-toggleable__label-arrow:before {content: \"▸\";float: left;margin-right: 0.25em;color: #696969;}#sk-container-id-5 label.sk-toggleable__label-arrow:hover:before {color: black;}#sk-container-id-5 div.sk-estimator:hover label.sk-toggleable__label-arrow:before {color: black;}#sk-container-id-5 div.sk-toggleable__content {max-height: 0;max-width: 0;overflow: hidden;text-align: left;background-color: #f0f8ff;}#sk-container-id-5 div.sk-toggleable__content pre {margin: 0.2em;color: black;border-radius: 0.25em;background-color: #f0f8ff;}#sk-container-id-5 input.sk-toggleable__control:checked~div.sk-toggleable__content {max-height: 200px;max-width: 100%;overflow: auto;}#sk-container-id-5 input.sk-toggleable__control:checked~label.sk-toggleable__label-arrow:before {content: \"▾\";}#sk-container-id-5 div.sk-estimator input.sk-toggleable__control:checked~label.sk-toggleable__label {background-color: #d4ebff;}#sk-container-id-5 div.sk-label input.sk-toggleable__control:checked~label.sk-toggleable__label {background-color: #d4ebff;}#sk-container-id-5 input.sk-hidden--visually {border: 0;clip: rect(1px 1px 1px 1px);clip: rect(1px, 1px, 1px, 1px);height: 1px;margin: -1px;overflow: hidden;padding: 0;position: absolute;width: 1px;}#sk-container-id-5 div.sk-estimator {font-family: monospace;background-color: #f0f8ff;border: 1px dotted black;border-radius: 0.25em;box-sizing: border-box;margin-bottom: 0.5em;}#sk-container-id-5 div.sk-estimator:hover {background-color: #d4ebff;}#sk-container-id-5 div.sk-parallel-item::after {content: \"\";width: 100%;border-bottom: 1px solid gray;flex-grow: 1;}#sk-container-id-5 div.sk-label:hover label.sk-toggleable__label {background-color: #d4ebff;}#sk-container-id-5 div.sk-serial::before {content: \"\";position: absolute;border-left: 1px solid gray;box-sizing: border-box;top: 0;bottom: 0;left: 50%;z-index: 0;}#sk-container-id-5 div.sk-serial {display: flex;flex-direction: column;align-items: center;background-color: white;padding-right: 0.2em;padding-left: 0.2em;position: relative;}#sk-container-id-5 div.sk-item {position: relative;z-index: 1;}#sk-container-id-5 div.sk-parallel {display: flex;align-items: stretch;justify-content: center;background-color: white;position: relative;}#sk-container-id-5 div.sk-item::before, #sk-container-id-5 div.sk-parallel-item::before {content: \"\";position: absolute;border-left: 1px solid gray;box-sizing: border-box;top: 0;bottom: 0;left: 50%;z-index: -1;}#sk-container-id-5 div.sk-parallel-item {display: flex;flex-direction: column;z-index: 1;position: relative;background-color: white;}#sk-container-id-5 div.sk-parallel-item:first-child::after {align-self: flex-end;width: 50%;}#sk-container-id-5 div.sk-parallel-item:last-child::after {align-self: flex-start;width: 50%;}#sk-container-id-5 div.sk-parallel-item:only-child::after {width: 0;}#sk-container-id-5 div.sk-dashed-wrapped {border: 1px dashed gray;margin: 0 0.4em 0.5em 0.4em;box-sizing: border-box;padding-bottom: 0.4em;background-color: white;}#sk-container-id-5 div.sk-label label {font-family: monospace;font-weight: bold;display: inline-block;line-height: 1.2em;}#sk-container-id-5 div.sk-label-container {text-align: center;}#sk-container-id-5 div.sk-container {/* jupyter's `normalize.less` sets `[hidden] { display: none; }` but bootstrap.min.css set `[hidden] { display: none !important; }` so we also need the `!important` here to be able to override the default hidden behavior on the sphinx rendered scikit-learn.org. See: https://github.com/scikit-learn/scikit-learn/issues/21755 */display: inline-block !important;position: relative;}#sk-container-id-5 div.sk-text-repr-fallback {display: none;}</style><div id=\"sk-container-id-5\" class=\"sk-top-container\"><div class=\"sk-text-repr-fallback\"><pre>RandomForestClassifier(n_jobs=-1)</pre><b>In a Jupyter environment, please rerun this cell to show the HTML representation or trust the notebook. <br />On GitHub, the HTML representation is unable to render, please try loading this page with nbviewer.org.</b></div><div class=\"sk-container\" hidden><div class=\"sk-item\"><div class=\"sk-estimator sk-toggleable\"><input class=\"sk-toggleable__control sk-hidden--visually\" id=\"sk-estimator-id-5\" type=\"checkbox\" checked><label for=\"sk-estimator-id-5\" class=\"sk-toggleable__label sk-toggleable__label-arrow\">RandomForestClassifier</label><div class=\"sk-toggleable__content\"><pre>RandomForestClassifier(n_jobs=-1)</pre></div></div></div></div></div>"
            ]
          },
          "metadata": {},
          "execution_count": 78
        }
      ],
      "source": [
        "clf_rf = RandomForestClassifier(n_estimators = 100, n_jobs = -1)\n",
        "clf_rf.fit(x_train, y_train)"
      ]
    },
    {
      "cell_type": "code",
      "execution_count": 79,
      "metadata": {
        "ExecuteTime": {
          "end_time": "2019-07-12T16:41:50.143343Z",
          "start_time": "2019-07-12T16:41:50.134809Z"
        },
        "id": "OG4KPHMPfWlt"
      },
      "outputs": [],
      "source": [
        "pred_val = clf_rf.predict(x_val)"
      ]
    },
    {
      "cell_type": "markdown",
      "metadata": {
        "id": "nW91ZCVafWlt"
      },
      "source": [
        "## Оцениваем качество решение на валидационной выборке"
      ]
    },
    {
      "cell_type": "code",
      "execution_count": 80,
      "metadata": {
        "id": "sUL2XKiMfWlt",
        "colab": {
          "base_uri": "https://localhost:8080/"
        },
        "outputId": "8adcb4a1-37cc-4a41-f6a2-3ef45f109480"
      },
      "outputs": [
        {
          "output_type": "stream",
          "name": "stdout",
          "text": [
            "Accuracy: 0.6414285714285715\n"
          ]
        }
      ],
      "source": [
        "from sklearn.metrics import accuracy_score\n",
        "print('Accuracy: %s' % accuracy_score(y_val, pred_val))"
      ]
    },
    {
      "cell_type": "code",
      "execution_count": 81,
      "metadata": {
        "id": "29d3m9RPfWlu",
        "colab": {
          "base_uri": "https://localhost:8080/"
        },
        "outputId": "cf0c7c9d-c1e7-4a2a-fa0d-7df96044fa81"
      },
      "outputs": [
        {
          "output_type": "stream",
          "name": "stdout",
          "text": [
            "              precision    recall  f1-score   support\n",
            "\n",
            "         0.0       0.42      0.39      0.41       816\n",
            "         1.0       0.97      0.96      0.97       909\n",
            "         2.0       0.47      0.46      0.46       846\n",
            "         3.0       0.65      0.69      0.67       937\n",
            "         4.0       0.72      0.70      0.71       839\n",
            "         5.0       0.64      0.66      0.65       702\n",
            "         6.0       0.46      0.45      0.45       785\n",
            "         7.0       0.86      0.79      0.82       893\n",
            "         8.0       0.51      0.57      0.54       835\n",
            "         9.0       0.66      0.69      0.67       838\n",
            "\n",
            "    accuracy                           0.64      8400\n",
            "   macro avg       0.64      0.64      0.64      8400\n",
            "weighted avg       0.64      0.64      0.64      8400\n",
            "\n"
          ]
        }
      ],
      "source": [
        "from sklearn.metrics import classification_report\n",
        "print(classification_report(y_val, pred_val))"
      ]
    },
    {
      "cell_type": "code",
      "execution_count": 82,
      "metadata": {
        "id": "2sEiVez8fWlu",
        "colab": {
          "base_uri": "https://localhost:8080/"
        },
        "outputId": "924250a1-22f1-4d03-8a58-6d909db10635"
      },
      "outputs": [
        {
          "output_type": "stream",
          "name": "stdout",
          "text": [
            "[[322   4  74  33  33  13 126  13 161  37]\n",
            " [  2 875   2   0  19   0   1   6   0   4]\n",
            " [ 55   0 385 129   3  96  63  18  82  15]\n",
            " [ 21   0  90 643   0  92   8   4  71   8]\n",
            " [ 20  12  12   1 588   1  79  33   8  85]\n",
            " [  6   0  80 106   0 466   7   5  30   2]\n",
            " [143   1  59  15  70   5 350  11  76  55]\n",
            " [  7   4  38   4  42  12  19 707   7  53]\n",
            " [137   0  49  39   9  43  44   4 476  34]\n",
            " [ 46   2  31  14  57   4  58  21  29 576]]\n"
          ]
        }
      ],
      "source": [
        "from sklearn.metrics import confusion_matrix\n",
        "print(confusion_matrix(y_val, pred_val))"
      ]
    },
    {
      "cell_type": "markdown",
      "metadata": {
        "id": "G1E7vxhZfWlu"
      },
      "source": [
        "## Предсказания на тестовыйх данных"
      ]
    },
    {
      "cell_type": "code",
      "execution_count": 83,
      "metadata": {
        "collapsed": true,
        "id": "vQKhW5psfWlu"
      },
      "outputs": [],
      "source": [
        "pred_test = clf_rf.predict(test_hist)"
      ]
    },
    {
      "cell_type": "markdown",
      "metadata": {
        "id": "HFAtCFrefWlv"
      },
      "source": [
        "## Визуализируем предсказания"
      ]
    },
    {
      "cell_type": "code",
      "execution_count": 84,
      "metadata": {
        "id": "5r6zHx-QfWlv",
        "colab": {
          "base_uri": "https://localhost:8080/",
          "height": 272
        },
        "outputId": "8c15bf2a-3558-4d70-f864-90b11362ab81"
      },
      "outputs": [
        {
          "output_type": "display_data",
          "data": {
            "text/plain": [
              "<Figure size 2000x1000 with 5 Axes>"
            ],
            "image/png": "[encoded data removed]"
          },
          "metadata": {}
        }
      ],
      "source": [
        "fig = plt.figure(figsize=(20, 10))\n",
        "for i, img in enumerate(test_img[0:5], 1):\n",
        "    subplot = fig.add_subplot(1, 7, i)\n",
        "    plt.imshow(img, cmap='gray');\n",
        "    subplot.set_title('%s' % pred_test[i - 1]);"
      ]
    },
    {
      "cell_type": "markdown",
      "source": [
        "# Готовим файл для отправки"
      ],
      "metadata": {
        "id": "v1luQ2TL8oOS"
      }
    },
    {
      "cell_type": "code",
      "source": [
        "with open('submit.txt', 'w') as dst:\n",
        "    dst.write('ImageId,Label\\n')\n",
        "    for i, p in enumerate(pred_test, 1):\n",
        "        dst.write('%s,%s\\n' % (i, int(p)))"
      ],
      "metadata": {
        "id": "I-s-_Iv08jIJ"
      },
      "execution_count": 85,
      "outputs": []
    },
    {
      "cell_type": "code",
      "source": [
        "!head submit.txt"
      ],
      "metadata": {
        "id": "XNdINP9f8jXD"
      },
      "execution_count": null,
      "outputs": []
    },
    {
      "cell_type": "markdown",
      "metadata": {
        "id": "Ze8KJd6lfWlv"
      },
      "source": [
        "# 4. CATBOOST solution"
      ]
    },
    {
      "cell_type": "code",
      "source": [
        "pip install catboost"
      ],
      "metadata": {
        "id": "5DM1ZEfUHt3A",
        "colab": {
          "base_uri": "https://localhost:8080/"
        },
        "outputId": "0066da21-e3f3-418f-9725-b9ef131eaaaf"
      },
      "execution_count": 52,
      "outputs": [
        {
          "output_type": "stream",
          "name": "stdout",
          "text": [
            "Collecting catboost\n",
            "  Downloading catboost-1.2.2-cp310-cp310-manylinux2014_x86_64.whl (98.7 MB)\n",
            "\u001b[2K     \u001b[90m━━━━━━━━━━━━━━━━━━━━━━━━━━━━━━━━━━━━━━━━\u001b[0m \u001b[32m98.7/98.7 MB\u001b[0m \u001b[31m5.2 MB/s\u001b[0m eta \u001b[36m0:00:00\u001b[0m\n",
            "\u001b[?25hRequirement already satisfied: graphviz in /usr/local/lib/python3.10/dist-packages (from catboost) (0.20.1)\n",
            "Requirement already satisfied: matplotlib in /usr/local/lib/python3.10/dist-packages (from catboost) (3.7.1)\n",
            "Requirement already satisfied: numpy>=1.16.0 in /usr/local/lib/python3.10/dist-packages (from catboost) (1.23.5)\n",
            "Requirement already satisfied: pandas>=0.24 in /usr/local/lib/python3.10/dist-packages (from catboost) (1.5.3)\n",
            "Requirement already satisfied: scipy in /usr/local/lib/python3.10/dist-packages (from catboost) (1.11.3)\n",
            "Requirement already satisfied: plotly in /usr/local/lib/python3.10/dist-packages (from catboost) (5.15.0)\n",
            "Requirement already satisfied: six in /usr/local/lib/python3.10/dist-packages (from catboost) (1.16.0)\n",
            "Requirement already satisfied: python-dateutil>=2.8.1 in /usr/local/lib/python3.10/dist-packages (from pandas>=0.24->catboost) (2.8.2)\n",
            "Requirement already satisfied: pytz>=2020.1 in /usr/local/lib/python3.10/dist-packages (from pandas>=0.24->catboost) (2023.3.post1)\n",
            "Requirement already satisfied: contourpy>=1.0.1 in /usr/local/lib/python3.10/dist-packages (from matplotlib->catboost) (1.1.1)\n",
            "Requirement already satisfied: cycler>=0.10 in /usr/local/lib/python3.10/dist-packages (from matplotlib->catboost) (0.12.1)\n",
            "Requirement already satisfied: fonttools>=4.22.0 in /usr/local/lib/python3.10/dist-packages (from matplotlib->catboost) (4.43.1)\n",
            "Requirement already satisfied: kiwisolver>=1.0.1 in /usr/local/lib/python3.10/dist-packages (from matplotlib->catboost) (1.4.5)\n",
            "Requirement already satisfied: packaging>=20.0 in /usr/local/lib/python3.10/dist-packages (from matplotlib->catboost) (23.2)\n",
            "Requirement already satisfied: pillow>=6.2.0 in /usr/local/lib/python3.10/dist-packages (from matplotlib->catboost) (9.4.0)\n",
            "Requirement already satisfied: pyparsing>=2.3.1 in /usr/local/lib/python3.10/dist-packages (from matplotlib->catboost) (3.1.1)\n",
            "Requirement already satisfied: tenacity>=6.2.0 in /usr/local/lib/python3.10/dist-packages (from plotly->catboost) (8.2.3)\n",
            "Installing collected packages: catboost\n",
            "Successfully installed catboost-1.2.2\n"
          ]
        }
      ]
    },
    {
      "cell_type": "code",
      "execution_count": 53,
      "metadata": {
        "ExecuteTime": {
          "end_time": "2019-02-15T17:04:10.044719Z",
          "start_time": "2019-02-15T17:04:10.037836Z"
        },
        "id": "_SgVERzMfWlv"
      },
      "outputs": [],
      "source": [
        "from catboost import CatBoostClassifier"
      ]
    },
    {
      "cell_type": "code",
      "execution_count": 54,
      "metadata": {
        "id": "D59I3zRYfWlv",
        "colab": {
          "base_uri": "https://localhost:8080/"
        },
        "outputId": "35e4f7f9-5611-4a03-a889-cf38687dec6d"
      },
      "outputs": [
        {
          "output_type": "stream",
          "name": "stdout",
          "text": [
            "Learning rate set to 0.09466\n",
            "0:\tlearn: 2.1437510\ttotal: 266ms\tremaining: 4m 26s\n",
            "1:\tlearn: 2.0280831\ttotal: 403ms\tremaining: 3m 21s\n",
            "2:\tlearn: 1.9349339\ttotal: 532ms\tremaining: 2m 56s\n",
            "3:\tlearn: 1.8634587\ttotal: 654ms\tremaining: 2m 42s\n",
            "4:\tlearn: 1.8062744\ttotal: 784ms\tremaining: 2m 35s\n",
            "5:\tlearn: 1.7528330\ttotal: 948ms\tremaining: 2m 37s\n",
            "6:\tlearn: 1.7036981\ttotal: 1.25s\tremaining: 2m 57s\n",
            "7:\tlearn: 1.6594946\ttotal: 1.48s\tremaining: 3m 3s\n",
            "8:\tlearn: 1.6223373\ttotal: 1.7s\tremaining: 3m 6s\n",
            "9:\tlearn: 1.5852105\ttotal: 1.94s\tremaining: 3m 11s\n",
            "10:\tlearn: 1.5534665\ttotal: 2.2s\tremaining: 3m 17s\n",
            "11:\tlearn: 1.5260465\ttotal: 2.47s\tremaining: 3m 23s\n",
            "12:\tlearn: 1.5007060\ttotal: 2.68s\tremaining: 3m 23s\n",
            "13:\tlearn: 1.4754305\ttotal: 2.92s\tremaining: 3m 25s\n",
            "14:\tlearn: 1.4523913\ttotal: 3.16s\tremaining: 3m 27s\n",
            "15:\tlearn: 1.4299146\ttotal: 3.42s\tremaining: 3m 30s\n",
            "16:\tlearn: 1.4089485\ttotal: 3.67s\tremaining: 3m 32s\n",
            "17:\tlearn: 1.3907630\ttotal: 3.96s\tremaining: 3m 35s\n",
            "18:\tlearn: 1.3744174\ttotal: 4.2s\tremaining: 3m 36s\n",
            "19:\tlearn: 1.3569336\ttotal: 4.49s\tremaining: 3m 39s\n",
            "20:\tlearn: 1.3415698\ttotal: 4.84s\tremaining: 3m 45s\n",
            "21:\tlearn: 1.3282612\ttotal: 5.12s\tremaining: 3m 47s\n",
            "22:\tlearn: 1.3132903\ttotal: 5.4s\tremaining: 3m 49s\n",
            "23:\tlearn: 1.2993072\ttotal: 5.57s\tremaining: 3m 46s\n",
            "24:\tlearn: 1.2890250\ttotal: 5.79s\tremaining: 3m 45s\n",
            "25:\tlearn: 1.2775046\ttotal: 5.97s\tremaining: 3m 43s\n",
            "26:\tlearn: 1.2657023\ttotal: 6.15s\tremaining: 3m 41s\n",
            "27:\tlearn: 1.2550497\ttotal: 6.38s\tremaining: 3m 41s\n",
            "28:\tlearn: 1.2456292\ttotal: 6.63s\tremaining: 3m 42s\n",
            "29:\tlearn: 1.2355727\ttotal: 6.82s\tremaining: 3m 40s\n",
            "30:\tlearn: 1.2267360\ttotal: 7.02s\tremaining: 3m 39s\n",
            "31:\tlearn: 1.2187283\ttotal: 7.24s\tremaining: 3m 38s\n",
            "32:\tlearn: 1.2113103\ttotal: 7.48s\tremaining: 3m 39s\n",
            "33:\tlearn: 1.2047783\ttotal: 7.68s\tremaining: 3m 38s\n",
            "34:\tlearn: 1.1972276\ttotal: 7.9s\tremaining: 3m 37s\n",
            "35:\tlearn: 1.1909625\ttotal: 8.19s\tremaining: 3m 39s\n",
            "36:\tlearn: 1.1851890\ttotal: 8.41s\tremaining: 3m 38s\n",
            "37:\tlearn: 1.1797841\ttotal: 8.7s\tremaining: 3m 40s\n",
            "38:\tlearn: 1.1725027\ttotal: 9.05s\tremaining: 3m 42s\n",
            "39:\tlearn: 1.1658445\ttotal: 9.32s\tremaining: 3m 43s\n",
            "40:\tlearn: 1.1601812\ttotal: 9.67s\tremaining: 3m 46s\n",
            "41:\tlearn: 1.1540538\ttotal: 10.1s\tremaining: 3m 50s\n",
            "42:\tlearn: 1.1485522\ttotal: 10.5s\tremaining: 3m 52s\n",
            "43:\tlearn: 1.1431364\ttotal: 10.8s\tremaining: 3m 55s\n",
            "44:\tlearn: 1.1386189\ttotal: 11.2s\tremaining: 3m 56s\n",
            "45:\tlearn: 1.1340195\ttotal: 11.5s\tremaining: 3m 58s\n",
            "46:\tlearn: 1.1279654\ttotal: 11.8s\tremaining: 3m 58s\n",
            "47:\tlearn: 1.1223461\ttotal: 12s\tremaining: 3m 57s\n",
            "48:\tlearn: 1.1172786\ttotal: 12.2s\tremaining: 3m 56s\n",
            "49:\tlearn: 1.1130088\ttotal: 12.4s\tremaining: 3m 56s\n",
            "50:\tlearn: 1.1087338\ttotal: 12.6s\tremaining: 3m 55s\n",
            "51:\tlearn: 1.1046611\ttotal: 12.9s\tremaining: 3m 54s\n",
            "52:\tlearn: 1.1010505\ttotal: 13.1s\tremaining: 3m 54s\n",
            "53:\tlearn: 1.0970080\ttotal: 13.3s\tremaining: 3m 53s\n",
            "54:\tlearn: 1.0932437\ttotal: 13.6s\tremaining: 3m 52s\n",
            "55:\tlearn: 1.0899965\ttotal: 13.8s\tremaining: 3m 52s\n",
            "56:\tlearn: 1.0868532\ttotal: 14s\tremaining: 3m 51s\n",
            "57:\tlearn: 1.0835292\ttotal: 14.3s\tremaining: 3m 51s\n",
            "58:\tlearn: 1.0802646\ttotal: 14.5s\tremaining: 3m 51s\n",
            "59:\tlearn: 1.0768085\ttotal: 14.8s\tremaining: 3m 51s\n",
            "60:\tlearn: 1.0737572\ttotal: 15s\tremaining: 3m 51s\n",
            "61:\tlearn: 1.0706129\ttotal: 15.3s\tremaining: 3m 50s\n",
            "62:\tlearn: 1.0670120\ttotal: 15.5s\tremaining: 3m 50s\n",
            "63:\tlearn: 1.0639166\ttotal: 15.7s\tremaining: 3m 49s\n",
            "64:\tlearn: 1.0611890\ttotal: 16.1s\tremaining: 3m 50s\n",
            "65:\tlearn: 1.0581235\ttotal: 16.3s\tremaining: 3m 51s\n",
            "66:\tlearn: 1.0557035\ttotal: 16.6s\tremaining: 3m 51s\n",
            "67:\tlearn: 1.0535775\ttotal: 16.8s\tremaining: 3m 50s\n",
            "68:\tlearn: 1.0506870\ttotal: 17s\tremaining: 3m 49s\n",
            "69:\tlearn: 1.0485824\ttotal: 17.3s\tremaining: 3m 50s\n",
            "70:\tlearn: 1.0458984\ttotal: 17.6s\tremaining: 3m 49s\n",
            "71:\tlearn: 1.0427044\ttotal: 17.8s\tremaining: 3m 49s\n",
            "72:\tlearn: 1.0402267\ttotal: 18s\tremaining: 3m 48s\n",
            "73:\tlearn: 1.0371586\ttotal: 18.2s\tremaining: 3m 47s\n",
            "74:\tlearn: 1.0349968\ttotal: 18.4s\tremaining: 3m 46s\n",
            "75:\tlearn: 1.0325613\ttotal: 18.6s\tremaining: 3m 46s\n",
            "76:\tlearn: 1.0302193\ttotal: 18.8s\tremaining: 3m 45s\n",
            "77:\tlearn: 1.0277453\ttotal: 19s\tremaining: 3m 44s\n",
            "78:\tlearn: 1.0255238\ttotal: 19.2s\tremaining: 3m 44s\n",
            "79:\tlearn: 1.0225094\ttotal: 19.5s\tremaining: 3m 43s\n",
            "80:\tlearn: 1.0202797\ttotal: 19.7s\tremaining: 3m 43s\n",
            "81:\tlearn: 1.0178624\ttotal: 19.9s\tremaining: 3m 43s\n",
            "82:\tlearn: 1.0153914\ttotal: 20.2s\tremaining: 3m 42s\n",
            "83:\tlearn: 1.0133644\ttotal: 20.4s\tremaining: 3m 42s\n",
            "84:\tlearn: 1.0110260\ttotal: 20.7s\tremaining: 3m 42s\n",
            "85:\tlearn: 1.0088315\ttotal: 20.8s\tremaining: 3m 41s\n",
            "86:\tlearn: 1.0063691\ttotal: 21s\tremaining: 3m 40s\n",
            "87:\tlearn: 1.0046671\ttotal: 21.3s\tremaining: 3m 41s\n",
            "88:\tlearn: 1.0025174\ttotal: 21.6s\tremaining: 3m 41s\n",
            "89:\tlearn: 1.0006528\ttotal: 21.9s\tremaining: 3m 41s\n",
            "90:\tlearn: 0.9986577\ttotal: 22.2s\tremaining: 3m 41s\n",
            "91:\tlearn: 0.9970762\ttotal: 22.5s\tremaining: 3m 42s\n",
            "92:\tlearn: 0.9948353\ttotal: 23.1s\tremaining: 3m 44s\n",
            "93:\tlearn: 0.9931575\ttotal: 23.6s\tremaining: 3m 47s\n",
            "94:\tlearn: 0.9908427\ttotal: 24.3s\tremaining: 3m 51s\n",
            "95:\tlearn: 0.9890424\ttotal: 24.7s\tremaining: 3m 52s\n",
            "96:\tlearn: 0.9874647\ttotal: 25s\tremaining: 3m 52s\n",
            "97:\tlearn: 0.9859168\ttotal: 25.3s\tremaining: 3m 52s\n",
            "98:\tlearn: 0.9845403\ttotal: 25.6s\tremaining: 3m 52s\n",
            "99:\tlearn: 0.9829758\ttotal: 25.8s\tremaining: 3m 52s\n",
            "100:\tlearn: 0.9812679\ttotal: 26s\tremaining: 3m 51s\n",
            "101:\tlearn: 0.9797527\ttotal: 26.3s\tremaining: 3m 51s\n",
            "102:\tlearn: 0.9783781\ttotal: 26.5s\tremaining: 3m 50s\n",
            "103:\tlearn: 0.9765900\ttotal: 26.7s\tremaining: 3m 50s\n",
            "104:\tlearn: 0.9748682\ttotal: 27.1s\tremaining: 3m 50s\n",
            "105:\tlearn: 0.9734209\ttotal: 27.3s\tremaining: 3m 50s\n",
            "106:\tlearn: 0.9720446\ttotal: 27.5s\tremaining: 3m 49s\n",
            "107:\tlearn: 0.9707871\ttotal: 27.7s\tremaining: 3m 48s\n",
            "108:\tlearn: 0.9695089\ttotal: 27.8s\tremaining: 3m 47s\n",
            "109:\tlearn: 0.9680552\ttotal: 28s\tremaining: 3m 46s\n",
            "110:\tlearn: 0.9666681\ttotal: 28.2s\tremaining: 3m 45s\n",
            "111:\tlearn: 0.9650561\ttotal: 28.4s\tremaining: 3m 45s\n",
            "112:\tlearn: 0.9633154\ttotal: 28.6s\tremaining: 3m 44s\n",
            "113:\tlearn: 0.9617686\ttotal: 28.8s\tremaining: 3m 43s\n",
            "114:\tlearn: 0.9597197\ttotal: 29s\tremaining: 3m 43s\n",
            "115:\tlearn: 0.9581317\ttotal: 29.2s\tremaining: 3m 42s\n",
            "116:\tlearn: 0.9565639\ttotal: 29.4s\tremaining: 3m 41s\n",
            "117:\tlearn: 0.9555186\ttotal: 29.6s\tremaining: 3m 41s\n",
            "118:\tlearn: 0.9541657\ttotal: 29.9s\tremaining: 3m 41s\n",
            "119:\tlearn: 0.9530963\ttotal: 30.1s\tremaining: 3m 40s\n",
            "120:\tlearn: 0.9513785\ttotal: 30.3s\tremaining: 3m 40s\n",
            "121:\tlearn: 0.9500587\ttotal: 30.6s\tremaining: 3m 40s\n",
            "122:\tlearn: 0.9485155\ttotal: 30.9s\tremaining: 3m 40s\n",
            "123:\tlearn: 0.9469937\ttotal: 31.1s\tremaining: 3m 39s\n",
            "124:\tlearn: 0.9456538\ttotal: 31.4s\tremaining: 3m 39s\n",
            "125:\tlearn: 0.9447000\ttotal: 31.6s\tremaining: 3m 39s\n",
            "126:\tlearn: 0.9433838\ttotal: 31.8s\tremaining: 3m 38s\n",
            "127:\tlearn: 0.9423342\ttotal: 32s\tremaining: 3m 37s\n",
            "128:\tlearn: 0.9412370\ttotal: 32.2s\tremaining: 3m 37s\n",
            "129:\tlearn: 0.9398828\ttotal: 32.4s\tremaining: 3m 36s\n",
            "130:\tlearn: 0.9386336\ttotal: 32.7s\tremaining: 3m 37s\n",
            "131:\tlearn: 0.9371395\ttotal: 33s\tremaining: 3m 36s\n",
            "132:\tlearn: 0.9362305\ttotal: 33.1s\tremaining: 3m 36s\n",
            "133:\tlearn: 0.9352801\ttotal: 33.3s\tremaining: 3m 35s\n",
            "134:\tlearn: 0.9339443\ttotal: 33.6s\tremaining: 3m 35s\n",
            "135:\tlearn: 0.9328554\ttotal: 33.8s\tremaining: 3m 34s\n",
            "136:\tlearn: 0.9318434\ttotal: 34s\tremaining: 3m 34s\n",
            "137:\tlearn: 0.9304272\ttotal: 34.3s\tremaining: 3m 33s\n",
            "138:\tlearn: 0.9292868\ttotal: 34.5s\tremaining: 3m 33s\n",
            "139:\tlearn: 0.9281982\ttotal: 34.6s\tremaining: 3m 32s\n",
            "140:\tlearn: 0.9270082\ttotal: 34.9s\tremaining: 3m 32s\n",
            "141:\tlearn: 0.9261024\ttotal: 35.2s\tremaining: 3m 32s\n",
            "142:\tlearn: 0.9249539\ttotal: 35.5s\tremaining: 3m 32s\n",
            "143:\tlearn: 0.9237412\ttotal: 35.8s\tremaining: 3m 33s\n",
            "144:\tlearn: 0.9228967\ttotal: 36.4s\tremaining: 3m 34s\n",
            "145:\tlearn: 0.9220362\ttotal: 36.8s\tremaining: 3m 35s\n",
            "146:\tlearn: 0.9207661\ttotal: 37.2s\tremaining: 3m 36s\n",
            "147:\tlearn: 0.9198163\ttotal: 37.6s\tremaining: 3m 36s\n",
            "148:\tlearn: 0.9185947\ttotal: 38s\tremaining: 3m 36s\n",
            "149:\tlearn: 0.9175471\ttotal: 38.3s\tremaining: 3m 37s\n",
            "150:\tlearn: 0.9163158\ttotal: 38.7s\tremaining: 3m 37s\n",
            "151:\tlearn: 0.9154727\ttotal: 39.1s\tremaining: 3m 38s\n",
            "152:\tlearn: 0.9145303\ttotal: 39.3s\tremaining: 3m 37s\n",
            "153:\tlearn: 0.9135877\ttotal: 39.5s\tremaining: 3m 37s\n",
            "154:\tlearn: 0.9125964\ttotal: 39.7s\tremaining: 3m 36s\n",
            "155:\tlearn: 0.9113805\ttotal: 39.9s\tremaining: 3m 36s\n",
            "156:\tlearn: 0.9105432\ttotal: 40.2s\tremaining: 3m 35s\n",
            "157:\tlearn: 0.9096459\ttotal: 40.4s\tremaining: 3m 35s\n",
            "158:\tlearn: 0.9087952\ttotal: 40.6s\tremaining: 3m 34s\n",
            "159:\tlearn: 0.9081988\ttotal: 40.8s\tremaining: 3m 34s\n",
            "160:\tlearn: 0.9071993\ttotal: 41s\tremaining: 3m 33s\n",
            "161:\tlearn: 0.9063527\ttotal: 41.3s\tremaining: 3m 33s\n",
            "162:\tlearn: 0.9053909\ttotal: 41.5s\tremaining: 3m 33s\n",
            "163:\tlearn: 0.9045434\ttotal: 41.7s\tremaining: 3m 32s\n",
            "164:\tlearn: 0.9035045\ttotal: 41.9s\tremaining: 3m 32s\n",
            "165:\tlearn: 0.9026164\ttotal: 42.1s\tremaining: 3m 31s\n",
            "166:\tlearn: 0.9017411\ttotal: 42.3s\tremaining: 3m 31s\n",
            "167:\tlearn: 0.9007648\ttotal: 42.5s\tremaining: 3m 30s\n",
            "168:\tlearn: 0.8996407\ttotal: 42.7s\tremaining: 3m 30s\n",
            "169:\tlearn: 0.8989499\ttotal: 42.9s\tremaining: 3m 29s\n",
            "170:\tlearn: 0.8980582\ttotal: 43.1s\tremaining: 3m 29s\n",
            "171:\tlearn: 0.8973127\ttotal: 43.3s\tremaining: 3m 28s\n",
            "172:\tlearn: 0.8963211\ttotal: 43.5s\tremaining: 3m 27s\n",
            "173:\tlearn: 0.8951246\ttotal: 43.7s\tremaining: 3m 27s\n",
            "174:\tlearn: 0.8940630\ttotal: 43.9s\tremaining: 3m 26s\n",
            "175:\tlearn: 0.8934029\ttotal: 44.1s\tremaining: 3m 26s\n",
            "176:\tlearn: 0.8923639\ttotal: 44.3s\tremaining: 3m 25s\n",
            "177:\tlearn: 0.8914106\ttotal: 44.5s\tremaining: 3m 25s\n",
            "178:\tlearn: 0.8906937\ttotal: 44.7s\tremaining: 3m 24s\n",
            "179:\tlearn: 0.8898924\ttotal: 44.9s\tremaining: 3m 24s\n",
            "180:\tlearn: 0.8889785\ttotal: 45.1s\tremaining: 3m 24s\n",
            "181:\tlearn: 0.8879317\ttotal: 45.3s\tremaining: 3m 23s\n",
            "182:\tlearn: 0.8870016\ttotal: 45.5s\tremaining: 3m 23s\n",
            "183:\tlearn: 0.8858877\ttotal: 45.7s\tremaining: 3m 22s\n",
            "184:\tlearn: 0.8846409\ttotal: 45.9s\tremaining: 3m 22s\n",
            "185:\tlearn: 0.8839364\ttotal: 46.2s\tremaining: 3m 22s\n",
            "186:\tlearn: 0.8830745\ttotal: 46.4s\tremaining: 3m 21s\n",
            "187:\tlearn: 0.8820705\ttotal: 46.7s\tremaining: 3m 21s\n",
            "188:\tlearn: 0.8813419\ttotal: 47s\tremaining: 3m 21s\n",
            "189:\tlearn: 0.8804907\ttotal: 47.2s\tremaining: 3m 21s\n",
            "190:\tlearn: 0.8797493\ttotal: 47.5s\tremaining: 3m 21s\n",
            "191:\tlearn: 0.8789352\ttotal: 47.7s\tremaining: 3m 20s\n",
            "192:\tlearn: 0.8781469\ttotal: 47.9s\tremaining: 3m 20s\n",
            "193:\tlearn: 0.8772326\ttotal: 48.1s\tremaining: 3m 19s\n",
            "194:\tlearn: 0.8762920\ttotal: 48.3s\tremaining: 3m 19s\n",
            "195:\tlearn: 0.8754137\ttotal: 48.5s\tremaining: 3m 18s\n",
            "196:\tlearn: 0.8746124\ttotal: 48.7s\tremaining: 3m 18s\n",
            "197:\tlearn: 0.8738973\ttotal: 48.9s\tremaining: 3m 17s\n",
            "198:\tlearn: 0.8732857\ttotal: 49.1s\tremaining: 3m 17s\n",
            "199:\tlearn: 0.8724668\ttotal: 49.3s\tremaining: 3m 17s\n",
            "200:\tlearn: 0.8718442\ttotal: 49.5s\tremaining: 3m 16s\n",
            "201:\tlearn: 0.8714117\ttotal: 49.7s\tremaining: 3m 16s\n",
            "202:\tlearn: 0.8705966\ttotal: 49.9s\tremaining: 3m 16s\n",
            "203:\tlearn: 0.8700045\ttotal: 50.2s\tremaining: 3m 15s\n",
            "204:\tlearn: 0.8694612\ttotal: 50.4s\tremaining: 3m 15s\n",
            "205:\tlearn: 0.8687044\ttotal: 50.6s\tremaining: 3m 15s\n",
            "206:\tlearn: 0.8679963\ttotal: 50.8s\tremaining: 3m 14s\n",
            "207:\tlearn: 0.8672204\ttotal: 51s\tremaining: 3m 14s\n",
            "208:\tlearn: 0.8666388\ttotal: 51.1s\tremaining: 3m 13s\n",
            "209:\tlearn: 0.8662142\ttotal: 51.3s\tremaining: 3m 12s\n",
            "210:\tlearn: 0.8656438\ttotal: 51.4s\tremaining: 3m 12s\n",
            "211:\tlearn: 0.8650729\ttotal: 51.5s\tremaining: 3m 11s\n",
            "212:\tlearn: 0.8640825\ttotal: 51.6s\tremaining: 3m 10s\n",
            "213:\tlearn: 0.8629343\ttotal: 51.7s\tremaining: 3m 9s\n",
            "214:\tlearn: 0.8620288\ttotal: 51.8s\tremaining: 3m 9s\n",
            "215:\tlearn: 0.8613977\ttotal: 51.9s\tremaining: 3m 8s\n",
            "216:\tlearn: 0.8607805\ttotal: 52s\tremaining: 3m 7s\n",
            "217:\tlearn: 0.8599805\ttotal: 52.1s\tremaining: 3m 7s\n",
            "218:\tlearn: 0.8591592\ttotal: 52.3s\tremaining: 3m 6s\n",
            "219:\tlearn: 0.8584507\ttotal: 52.4s\tremaining: 3m 5s\n",
            "220:\tlearn: 0.8578402\ttotal: 52.5s\tremaining: 3m 4s\n",
            "221:\tlearn: 0.8573900\ttotal: 52.6s\tremaining: 3m 4s\n",
            "222:\tlearn: 0.8565916\ttotal: 52.7s\tremaining: 3m 3s\n",
            "223:\tlearn: 0.8559590\ttotal: 52.8s\tremaining: 3m 2s\n",
            "224:\tlearn: 0.8551096\ttotal: 52.9s\tremaining: 3m 2s\n",
            "225:\tlearn: 0.8546376\ttotal: 53s\tremaining: 3m 1s\n",
            "226:\tlearn: 0.8541216\ttotal: 53.1s\tremaining: 3m\n",
            "227:\tlearn: 0.8534252\ttotal: 53.2s\tremaining: 3m\n",
            "228:\tlearn: 0.8527724\ttotal: 53.4s\tremaining: 2m 59s\n",
            "229:\tlearn: 0.8519490\ttotal: 53.5s\tremaining: 2m 58s\n",
            "230:\tlearn: 0.8512510\ttotal: 53.6s\tremaining: 2m 58s\n",
            "231:\tlearn: 0.8504984\ttotal: 53.7s\tremaining: 2m 57s\n",
            "232:\tlearn: 0.8500484\ttotal: 53.8s\tremaining: 2m 57s\n",
            "233:\tlearn: 0.8491450\ttotal: 53.9s\tremaining: 2m 56s\n",
            "234:\tlearn: 0.8485332\ttotal: 54s\tremaining: 2m 55s\n",
            "235:\tlearn: 0.8478075\ttotal: 54.1s\tremaining: 2m 55s\n",
            "236:\tlearn: 0.8473160\ttotal: 54.2s\tremaining: 2m 54s\n",
            "237:\tlearn: 0.8469018\ttotal: 54.3s\tremaining: 2m 53s\n",
            "238:\tlearn: 0.8464120\ttotal: 54.4s\tremaining: 2m 53s\n",
            "239:\tlearn: 0.8456060\ttotal: 54.6s\tremaining: 2m 52s\n",
            "240:\tlearn: 0.8447267\ttotal: 54.7s\tremaining: 2m 52s\n",
            "241:\tlearn: 0.8441644\ttotal: 54.8s\tremaining: 2m 51s\n",
            "242:\tlearn: 0.8435228\ttotal: 54.9s\tremaining: 2m 50s\n",
            "243:\tlearn: 0.8429319\ttotal: 55s\tremaining: 2m 50s\n",
            "244:\tlearn: 0.8423158\ttotal: 55.1s\tremaining: 2m 49s\n",
            "245:\tlearn: 0.8417424\ttotal: 55.2s\tremaining: 2m 49s\n",
            "246:\tlearn: 0.8410206\ttotal: 55.3s\tremaining: 2m 48s\n",
            "247:\tlearn: 0.8404017\ttotal: 55.4s\tremaining: 2m 48s\n",
            "248:\tlearn: 0.8399178\ttotal: 55.5s\tremaining: 2m 47s\n",
            "249:\tlearn: 0.8392942\ttotal: 55.6s\tremaining: 2m 46s\n",
            "250:\tlearn: 0.8386313\ttotal: 55.8s\tremaining: 2m 46s\n",
            "251:\tlearn: 0.8379880\ttotal: 55.9s\tremaining: 2m 45s\n",
            "252:\tlearn: 0.8375223\ttotal: 56s\tremaining: 2m 45s\n",
            "253:\tlearn: 0.8370664\ttotal: 56.1s\tremaining: 2m 44s\n",
            "254:\tlearn: 0.8364096\ttotal: 56.2s\tremaining: 2m 44s\n",
            "255:\tlearn: 0.8355692\ttotal: 56.3s\tremaining: 2m 43s\n",
            "256:\tlearn: 0.8350081\ttotal: 56.4s\tremaining: 2m 43s\n",
            "257:\tlearn: 0.8344694\ttotal: 56.5s\tremaining: 2m 42s\n",
            "258:\tlearn: 0.8335722\ttotal: 56.6s\tremaining: 2m 42s\n",
            "259:\tlearn: 0.8330013\ttotal: 56.7s\tremaining: 2m 41s\n",
            "260:\tlearn: 0.8324329\ttotal: 56.8s\tremaining: 2m 40s\n",
            "261:\tlearn: 0.8319627\ttotal: 56.9s\tremaining: 2m 40s\n",
            "262:\tlearn: 0.8314409\ttotal: 57.1s\tremaining: 2m 39s\n",
            "263:\tlearn: 0.8308749\ttotal: 57.2s\tremaining: 2m 39s\n",
            "264:\tlearn: 0.8304657\ttotal: 57.3s\tremaining: 2m 38s\n",
            "265:\tlearn: 0.8299018\ttotal: 57.4s\tremaining: 2m 38s\n",
            "266:\tlearn: 0.8294161\ttotal: 57.5s\tremaining: 2m 37s\n",
            "267:\tlearn: 0.8288832\ttotal: 57.6s\tremaining: 2m 37s\n",
            "268:\tlearn: 0.8285966\ttotal: 57.7s\tremaining: 2m 36s\n",
            "269:\tlearn: 0.8281913\ttotal: 57.8s\tremaining: 2m 36s\n",
            "270:\tlearn: 0.8275730\ttotal: 57.9s\tremaining: 2m 35s\n",
            "271:\tlearn: 0.8270775\ttotal: 58s\tremaining: 2m 35s\n",
            "272:\tlearn: 0.8263650\ttotal: 58.2s\tremaining: 2m 34s\n",
            "273:\tlearn: 0.8258824\ttotal: 58.3s\tremaining: 2m 34s\n",
            "274:\tlearn: 0.8252962\ttotal: 58.4s\tremaining: 2m 33s\n",
            "275:\tlearn: 0.8246776\ttotal: 58.5s\tremaining: 2m 33s\n",
            "276:\tlearn: 0.8242928\ttotal: 58.6s\tremaining: 2m 32s\n",
            "277:\tlearn: 0.8237276\ttotal: 58.7s\tremaining: 2m 32s\n",
            "278:\tlearn: 0.8231426\ttotal: 58.8s\tremaining: 2m 31s\n",
            "279:\tlearn: 0.8225820\ttotal: 58.9s\tremaining: 2m 31s\n",
            "280:\tlearn: 0.8218739\ttotal: 59s\tremaining: 2m 31s\n",
            "281:\tlearn: 0.8212120\ttotal: 59.1s\tremaining: 2m 30s\n",
            "282:\tlearn: 0.8205912\ttotal: 59.3s\tremaining: 2m 30s\n",
            "283:\tlearn: 0.8196527\ttotal: 59.4s\tremaining: 2m 29s\n",
            "284:\tlearn: 0.8190448\ttotal: 59.5s\tremaining: 2m 29s\n",
            "285:\tlearn: 0.8185323\ttotal: 59.6s\tremaining: 2m 28s\n",
            "286:\tlearn: 0.8179074\ttotal: 59.7s\tremaining: 2m 28s\n",
            "287:\tlearn: 0.8175211\ttotal: 59.8s\tremaining: 2m 27s\n",
            "288:\tlearn: 0.8170313\ttotal: 59.9s\tremaining: 2m 27s\n",
            "289:\tlearn: 0.8165288\ttotal: 1m\tremaining: 2m 26s\n",
            "290:\tlearn: 0.8159636\ttotal: 1m\tremaining: 2m 26s\n",
            "291:\tlearn: 0.8154756\ttotal: 1m\tremaining: 2m 26s\n",
            "292:\tlearn: 0.8148890\ttotal: 1m\tremaining: 2m 25s\n",
            "293:\tlearn: 0.8142667\ttotal: 1m\tremaining: 2m 25s\n",
            "294:\tlearn: 0.8138796\ttotal: 1m\tremaining: 2m 24s\n",
            "295:\tlearn: 0.8130476\ttotal: 1m\tremaining: 2m 24s\n",
            "296:\tlearn: 0.8124187\ttotal: 1m\tremaining: 2m 23s\n",
            "297:\tlearn: 0.8119116\ttotal: 1m\tremaining: 2m 23s\n",
            "298:\tlearn: 0.8115284\ttotal: 1m\tremaining: 2m 23s\n",
            "299:\tlearn: 0.8110723\ttotal: 1m 1s\tremaining: 2m 22s\n",
            "300:\tlearn: 0.8105626\ttotal: 1m 1s\tremaining: 2m 22s\n",
            "301:\tlearn: 0.8098798\ttotal: 1m 1s\tremaining: 2m 22s\n",
            "302:\tlearn: 0.8092836\ttotal: 1m 1s\tremaining: 2m 22s\n",
            "303:\tlearn: 0.8088108\ttotal: 1m 1s\tremaining: 2m 21s\n",
            "304:\tlearn: 0.8081986\ttotal: 1m 2s\tremaining: 2m 21s\n",
            "305:\tlearn: 0.8077321\ttotal: 1m 2s\tremaining: 2m 21s\n",
            "306:\tlearn: 0.8072224\ttotal: 1m 2s\tremaining: 2m 21s\n",
            "307:\tlearn: 0.8067890\ttotal: 1m 2s\tremaining: 2m 21s\n",
            "308:\tlearn: 0.8061282\ttotal: 1m 3s\tremaining: 2m 21s\n",
            "309:\tlearn: 0.8056310\ttotal: 1m 3s\tremaining: 2m 20s\n",
            "310:\tlearn: 0.8052916\ttotal: 1m 3s\tremaining: 2m 20s\n",
            "311:\tlearn: 0.8047944\ttotal: 1m 3s\tremaining: 2m 20s\n",
            "312:\tlearn: 0.8043348\ttotal: 1m 3s\tremaining: 2m 20s\n",
            "313:\tlearn: 0.8039655\ttotal: 1m 4s\tremaining: 2m 19s\n",
            "314:\tlearn: 0.8034680\ttotal: 1m 4s\tremaining: 2m 19s\n",
            "315:\tlearn: 0.8028284\ttotal: 1m 4s\tremaining: 2m 19s\n",
            "316:\tlearn: 0.8023121\ttotal: 1m 4s\tremaining: 2m 18s\n",
            "317:\tlearn: 0.8015735\ttotal: 1m 4s\tremaining: 2m 18s\n",
            "318:\tlearn: 0.8009920\ttotal: 1m 4s\tremaining: 2m 17s\n",
            "319:\tlearn: 0.8005283\ttotal: 1m 4s\tremaining: 2m 17s\n",
            "320:\tlearn: 0.8000121\ttotal: 1m 4s\tremaining: 2m 17s\n",
            "321:\tlearn: 0.7993328\ttotal: 1m 4s\tremaining: 2m 16s\n",
            "322:\tlearn: 0.7988916\ttotal: 1m 5s\tremaining: 2m 16s\n",
            "323:\tlearn: 0.7984227\ttotal: 1m 5s\tremaining: 2m 15s\n",
            "324:\tlearn: 0.7977687\ttotal: 1m 5s\tremaining: 2m 15s\n",
            "325:\tlearn: 0.7973014\ttotal: 1m 5s\tremaining: 2m 15s\n",
            "326:\tlearn: 0.7967316\ttotal: 1m 5s\tremaining: 2m 14s\n",
            "327:\tlearn: 0.7963292\ttotal: 1m 5s\tremaining: 2m 14s\n",
            "328:\tlearn: 0.7957388\ttotal: 1m 5s\tremaining: 2m 14s\n",
            "329:\tlearn: 0.7952293\ttotal: 1m 5s\tremaining: 2m 13s\n",
            "330:\tlearn: 0.7945793\ttotal: 1m 5s\tremaining: 2m 13s\n",
            "331:\tlearn: 0.7941297\ttotal: 1m 6s\tremaining: 2m 12s\n",
            "332:\tlearn: 0.7936887\ttotal: 1m 6s\tremaining: 2m 12s\n",
            "333:\tlearn: 0.7931155\ttotal: 1m 6s\tremaining: 2m 12s\n",
            "334:\tlearn: 0.7928103\ttotal: 1m 6s\tremaining: 2m 11s\n",
            "335:\tlearn: 0.7921580\ttotal: 1m 6s\tremaining: 2m 11s\n",
            "336:\tlearn: 0.7916609\ttotal: 1m 6s\tremaining: 2m 10s\n",
            "337:\tlearn: 0.7913297\ttotal: 1m 6s\tremaining: 2m 10s\n",
            "338:\tlearn: 0.7910519\ttotal: 1m 6s\tremaining: 2m 10s\n",
            "339:\tlearn: 0.7902489\ttotal: 1m 6s\tremaining: 2m 9s\n",
            "340:\tlearn: 0.7898089\ttotal: 1m 7s\tremaining: 2m 9s\n",
            "341:\tlearn: 0.7893358\ttotal: 1m 7s\tremaining: 2m 9s\n",
            "342:\tlearn: 0.7890547\ttotal: 1m 7s\tremaining: 2m 8s\n",
            "343:\tlearn: 0.7886217\ttotal: 1m 7s\tremaining: 2m 8s\n",
            "344:\tlearn: 0.7879335\ttotal: 1m 7s\tremaining: 2m 8s\n",
            "345:\tlearn: 0.7874070\ttotal: 1m 7s\tremaining: 2m 7s\n",
            "346:\tlearn: 0.7866616\ttotal: 1m 7s\tremaining: 2m 7s\n",
            "347:\tlearn: 0.7860789\ttotal: 1m 7s\tremaining: 2m 7s\n",
            "348:\tlearn: 0.7858730\ttotal: 1m 7s\tremaining: 2m 6s\n",
            "349:\tlearn: 0.7854193\ttotal: 1m 8s\tremaining: 2m 6s\n",
            "350:\tlearn: 0.7850192\ttotal: 1m 8s\tremaining: 2m 5s\n",
            "351:\tlearn: 0.7848078\ttotal: 1m 8s\tremaining: 2m 5s\n",
            "352:\tlearn: 0.7844078\ttotal: 1m 8s\tremaining: 2m 5s\n",
            "353:\tlearn: 0.7839936\ttotal: 1m 8s\tremaining: 2m 4s\n",
            "354:\tlearn: 0.7834057\ttotal: 1m 8s\tremaining: 2m 4s\n",
            "355:\tlearn: 0.7830462\ttotal: 1m 8s\tremaining: 2m 4s\n",
            "356:\tlearn: 0.7826194\ttotal: 1m 8s\tremaining: 2m 3s\n",
            "357:\tlearn: 0.7822808\ttotal: 1m 8s\tremaining: 2m 3s\n",
            "358:\tlearn: 0.7815451\ttotal: 1m 9s\tremaining: 2m 3s\n",
            "359:\tlearn: 0.7812231\ttotal: 1m 9s\tremaining: 2m 2s\n",
            "360:\tlearn: 0.7807689\ttotal: 1m 9s\tremaining: 2m 2s\n",
            "361:\tlearn: 0.7803942\ttotal: 1m 9s\tremaining: 2m 2s\n",
            "362:\tlearn: 0.7799772\ttotal: 1m 9s\tremaining: 2m 1s\n",
            "363:\tlearn: 0.7794025\ttotal: 1m 9s\tremaining: 2m 1s\n",
            "364:\tlearn: 0.7790327\ttotal: 1m 9s\tremaining: 2m 1s\n",
            "365:\tlearn: 0.7786280\ttotal: 1m 9s\tremaining: 2m\n",
            "366:\tlearn: 0.7781951\ttotal: 1m 9s\tremaining: 2m\n",
            "367:\tlearn: 0.7777139\ttotal: 1m 10s\tremaining: 2m\n",
            "368:\tlearn: 0.7774096\ttotal: 1m 10s\tremaining: 1m 59s\n",
            "369:\tlearn: 0.7770503\ttotal: 1m 10s\tremaining: 1m 59s\n",
            "370:\tlearn: 0.7766872\ttotal: 1m 10s\tremaining: 1m 59s\n",
            "371:\tlearn: 0.7762138\ttotal: 1m 10s\tremaining: 1m 58s\n",
            "372:\tlearn: 0.7756985\ttotal: 1m 10s\tremaining: 1m 58s\n",
            "373:\tlearn: 0.7752970\ttotal: 1m 10s\tremaining: 1m 58s\n",
            "374:\tlearn: 0.7748867\ttotal: 1m 10s\tremaining: 1m 57s\n",
            "375:\tlearn: 0.7744909\ttotal: 1m 10s\tremaining: 1m 57s\n",
            "376:\tlearn: 0.7738434\ttotal: 1m 10s\tremaining: 1m 57s\n",
            "377:\tlearn: 0.7733888\ttotal: 1m 11s\tremaining: 1m 56s\n",
            "378:\tlearn: 0.7730868\ttotal: 1m 11s\tremaining: 1m 56s\n",
            "379:\tlearn: 0.7725712\ttotal: 1m 11s\tremaining: 1m 56s\n",
            "380:\tlearn: 0.7720256\ttotal: 1m 11s\tremaining: 1m 56s\n",
            "381:\tlearn: 0.7716276\ttotal: 1m 11s\tremaining: 1m 55s\n",
            "382:\tlearn: 0.7713773\ttotal: 1m 11s\tremaining: 1m 55s\n",
            "383:\tlearn: 0.7710634\ttotal: 1m 11s\tremaining: 1m 55s\n",
            "384:\tlearn: 0.7707184\ttotal: 1m 11s\tremaining: 1m 54s\n",
            "385:\tlearn: 0.7704647\ttotal: 1m 11s\tremaining: 1m 54s\n",
            "386:\tlearn: 0.7702622\ttotal: 1m 12s\tremaining: 1m 54s\n",
            "387:\tlearn: 0.7697673\ttotal: 1m 12s\tremaining: 1m 53s\n",
            "388:\tlearn: 0.7691381\ttotal: 1m 12s\tremaining: 1m 53s\n",
            "389:\tlearn: 0.7687065\ttotal: 1m 12s\tremaining: 1m 53s\n",
            "390:\tlearn: 0.7681624\ttotal: 1m 12s\tremaining: 1m 52s\n",
            "391:\tlearn: 0.7674997\ttotal: 1m 12s\tremaining: 1m 52s\n",
            "392:\tlearn: 0.7670288\ttotal: 1m 12s\tremaining: 1m 52s\n",
            "393:\tlearn: 0.7665523\ttotal: 1m 12s\tremaining: 1m 52s\n",
            "394:\tlearn: 0.7659976\ttotal: 1m 12s\tremaining: 1m 51s\n",
            "395:\tlearn: 0.7655559\ttotal: 1m 13s\tremaining: 1m 51s\n",
            "396:\tlearn: 0.7650161\ttotal: 1m 13s\tremaining: 1m 51s\n",
            "397:\tlearn: 0.7646732\ttotal: 1m 13s\tremaining: 1m 50s\n",
            "398:\tlearn: 0.7642228\ttotal: 1m 13s\tremaining: 1m 50s\n",
            "399:\tlearn: 0.7637462\ttotal: 1m 13s\tremaining: 1m 50s\n",
            "400:\tlearn: 0.7633605\ttotal: 1m 13s\tremaining: 1m 49s\n",
            "401:\tlearn: 0.7627427\ttotal: 1m 13s\tremaining: 1m 49s\n",
            "402:\tlearn: 0.7622534\ttotal: 1m 13s\tremaining: 1m 49s\n",
            "403:\tlearn: 0.7615501\ttotal: 1m 13s\tremaining: 1m 49s\n",
            "404:\tlearn: 0.7611295\ttotal: 1m 14s\tremaining: 1m 48s\n",
            "405:\tlearn: 0.7606668\ttotal: 1m 14s\tremaining: 1m 48s\n",
            "406:\tlearn: 0.7600478\ttotal: 1m 14s\tremaining: 1m 48s\n",
            "407:\tlearn: 0.7596898\ttotal: 1m 14s\tremaining: 1m 48s\n",
            "408:\tlearn: 0.7593259\ttotal: 1m 14s\tremaining: 1m 48s\n",
            "409:\tlearn: 0.7587999\ttotal: 1m 15s\tremaining: 1m 48s\n",
            "410:\tlearn: 0.7582226\ttotal: 1m 15s\tremaining: 1m 47s\n",
            "411:\tlearn: 0.7579134\ttotal: 1m 15s\tremaining: 1m 47s\n",
            "412:\tlearn: 0.7575633\ttotal: 1m 15s\tremaining: 1m 47s\n",
            "413:\tlearn: 0.7572570\ttotal: 1m 16s\tremaining: 1m 47s\n",
            "414:\tlearn: 0.7567262\ttotal: 1m 16s\tremaining: 1m 47s\n",
            "415:\tlearn: 0.7564034\ttotal: 1m 16s\tremaining: 1m 47s\n",
            "416:\tlearn: 0.7558575\ttotal: 1m 16s\tremaining: 1m 47s\n",
            "417:\tlearn: 0.7554737\ttotal: 1m 16s\tremaining: 1m 47s\n",
            "418:\tlearn: 0.7550775\ttotal: 1m 17s\tremaining: 1m 46s\n",
            "419:\tlearn: 0.7547632\ttotal: 1m 17s\tremaining: 1m 46s\n",
            "420:\tlearn: 0.7544986\ttotal: 1m 17s\tremaining: 1m 46s\n",
            "421:\tlearn: 0.7541705\ttotal: 1m 17s\tremaining: 1m 45s\n",
            "422:\tlearn: 0.7536674\ttotal: 1m 17s\tremaining: 1m 45s\n",
            "423:\tlearn: 0.7533738\ttotal: 1m 17s\tremaining: 1m 45s\n",
            "424:\tlearn: 0.7530189\ttotal: 1m 17s\tremaining: 1m 45s\n",
            "425:\tlearn: 0.7525901\ttotal: 1m 17s\tremaining: 1m 44s\n",
            "426:\tlearn: 0.7520542\ttotal: 1m 17s\tremaining: 1m 44s\n",
            "427:\tlearn: 0.7517482\ttotal: 1m 18s\tremaining: 1m 44s\n",
            "428:\tlearn: 0.7512347\ttotal: 1m 18s\tremaining: 1m 43s\n",
            "429:\tlearn: 0.7506707\ttotal: 1m 18s\tremaining: 1m 43s\n",
            "430:\tlearn: 0.7502261\ttotal: 1m 18s\tremaining: 1m 43s\n",
            "431:\tlearn: 0.7499726\ttotal: 1m 18s\tremaining: 1m 43s\n",
            "432:\tlearn: 0.7496656\ttotal: 1m 18s\tremaining: 1m 42s\n",
            "433:\tlearn: 0.7495171\ttotal: 1m 18s\tremaining: 1m 42s\n",
            "434:\tlearn: 0.7492237\ttotal: 1m 18s\tremaining: 1m 42s\n",
            "435:\tlearn: 0.7488281\ttotal: 1m 18s\tremaining: 1m 42s\n",
            "436:\tlearn: 0.7484673\ttotal: 1m 19s\tremaining: 1m 41s\n",
            "437:\tlearn: 0.7478130\ttotal: 1m 19s\tremaining: 1m 41s\n",
            "438:\tlearn: 0.7472312\ttotal: 1m 19s\tremaining: 1m 41s\n",
            "439:\tlearn: 0.7468478\ttotal: 1m 19s\tremaining: 1m 40s\n",
            "440:\tlearn: 0.7461441\ttotal: 1m 19s\tremaining: 1m 40s\n",
            "441:\tlearn: 0.7458032\ttotal: 1m 19s\tremaining: 1m 40s\n",
            "442:\tlearn: 0.7453272\ttotal: 1m 19s\tremaining: 1m 40s\n",
            "443:\tlearn: 0.7448569\ttotal: 1m 19s\tremaining: 1m 39s\n",
            "444:\tlearn: 0.7444573\ttotal: 1m 19s\tremaining: 1m 39s\n",
            "445:\tlearn: 0.7440620\ttotal: 1m 20s\tremaining: 1m 39s\n",
            "446:\tlearn: 0.7437766\ttotal: 1m 20s\tremaining: 1m 39s\n",
            "447:\tlearn: 0.7435115\ttotal: 1m 20s\tremaining: 1m 38s\n",
            "448:\tlearn: 0.7431215\ttotal: 1m 20s\tremaining: 1m 38s\n",
            "449:\tlearn: 0.7427974\ttotal: 1m 20s\tremaining: 1m 38s\n",
            "450:\tlearn: 0.7423816\ttotal: 1m 20s\tremaining: 1m 38s\n",
            "451:\tlearn: 0.7422015\ttotal: 1m 20s\tremaining: 1m 37s\n",
            "452:\tlearn: 0.7418092\ttotal: 1m 20s\tremaining: 1m 37s\n",
            "453:\tlearn: 0.7413425\ttotal: 1m 20s\tremaining: 1m 37s\n",
            "454:\tlearn: 0.7409699\ttotal: 1m 20s\tremaining: 1m 37s\n",
            "455:\tlearn: 0.7405515\ttotal: 1m 21s\tremaining: 1m 36s\n",
            "456:\tlearn: 0.7401785\ttotal: 1m 21s\tremaining: 1m 36s\n",
            "457:\tlearn: 0.7396515\ttotal: 1m 21s\tremaining: 1m 36s\n",
            "458:\tlearn: 0.7393139\ttotal: 1m 21s\tremaining: 1m 35s\n",
            "459:\tlearn: 0.7389790\ttotal: 1m 21s\tremaining: 1m 35s\n",
            "460:\tlearn: 0.7385251\ttotal: 1m 21s\tremaining: 1m 35s\n",
            "461:\tlearn: 0.7378861\ttotal: 1m 21s\tremaining: 1m 35s\n",
            "462:\tlearn: 0.7374656\ttotal: 1m 21s\tremaining: 1m 34s\n",
            "463:\tlearn: 0.7371052\ttotal: 1m 21s\tremaining: 1m 34s\n",
            "464:\tlearn: 0.7368805\ttotal: 1m 22s\tremaining: 1m 34s\n",
            "465:\tlearn: 0.7365566\ttotal: 1m 22s\tremaining: 1m 34s\n",
            "466:\tlearn: 0.7361594\ttotal: 1m 22s\tremaining: 1m 33s\n",
            "467:\tlearn: 0.7358812\ttotal: 1m 22s\tremaining: 1m 33s\n",
            "468:\tlearn: 0.7355938\ttotal: 1m 22s\tremaining: 1m 33s\n",
            "469:\tlearn: 0.7352899\ttotal: 1m 22s\tremaining: 1m 33s\n",
            "470:\tlearn: 0.7348822\ttotal: 1m 22s\tremaining: 1m 32s\n",
            "471:\tlearn: 0.7346457\ttotal: 1m 22s\tremaining: 1m 32s\n",
            "472:\tlearn: 0.7343410\ttotal: 1m 22s\tremaining: 1m 32s\n",
            "473:\tlearn: 0.7340804\ttotal: 1m 23s\tremaining: 1m 32s\n",
            "474:\tlearn: 0.7338051\ttotal: 1m 23s\tremaining: 1m 31s\n",
            "475:\tlearn: 0.7333117\ttotal: 1m 23s\tremaining: 1m 31s\n",
            "476:\tlearn: 0.7330655\ttotal: 1m 23s\tremaining: 1m 31s\n",
            "477:\tlearn: 0.7325338\ttotal: 1m 23s\tremaining: 1m 31s\n",
            "478:\tlearn: 0.7322018\ttotal: 1m 23s\tremaining: 1m 30s\n",
            "479:\tlearn: 0.7318620\ttotal: 1m 23s\tremaining: 1m 30s\n",
            "480:\tlearn: 0.7312571\ttotal: 1m 23s\tremaining: 1m 30s\n",
            "481:\tlearn: 0.7307113\ttotal: 1m 23s\tremaining: 1m 30s\n",
            "482:\tlearn: 0.7302064\ttotal: 1m 24s\tremaining: 1m 29s\n",
            "483:\tlearn: 0.7298461\ttotal: 1m 24s\tremaining: 1m 29s\n",
            "484:\tlearn: 0.7295342\ttotal: 1m 24s\tremaining: 1m 29s\n",
            "485:\tlearn: 0.7292995\ttotal: 1m 24s\tremaining: 1m 29s\n",
            "486:\tlearn: 0.7289596\ttotal: 1m 24s\tremaining: 1m 29s\n",
            "487:\tlearn: 0.7285274\ttotal: 1m 24s\tremaining: 1m 28s\n",
            "488:\tlearn: 0.7280438\ttotal: 1m 24s\tremaining: 1m 28s\n",
            "489:\tlearn: 0.7276871\ttotal: 1m 24s\tremaining: 1m 28s\n",
            "490:\tlearn: 0.7273490\ttotal: 1m 24s\tremaining: 1m 28s\n",
            "491:\tlearn: 0.7268569\ttotal: 1m 25s\tremaining: 1m 27s\n",
            "492:\tlearn: 0.7263978\ttotal: 1m 25s\tremaining: 1m 27s\n",
            "493:\tlearn: 0.7256771\ttotal: 1m 25s\tremaining: 1m 27s\n",
            "494:\tlearn: 0.7252479\ttotal: 1m 25s\tremaining: 1m 27s\n",
            "495:\tlearn: 0.7249737\ttotal: 1m 25s\tremaining: 1m 26s\n",
            "496:\tlearn: 0.7245690\ttotal: 1m 25s\tremaining: 1m 26s\n",
            "497:\tlearn: 0.7241783\ttotal: 1m 25s\tremaining: 1m 26s\n",
            "498:\tlearn: 0.7237616\ttotal: 1m 25s\tremaining: 1m 26s\n",
            "499:\tlearn: 0.7235972\ttotal: 1m 25s\tremaining: 1m 25s\n",
            "500:\tlearn: 0.7231153\ttotal: 1m 26s\tremaining: 1m 25s\n",
            "501:\tlearn: 0.7227273\ttotal: 1m 26s\tremaining: 1m 25s\n",
            "502:\tlearn: 0.7223829\ttotal: 1m 26s\tremaining: 1m 25s\n",
            "503:\tlearn: 0.7219107\ttotal: 1m 26s\tremaining: 1m 24s\n",
            "504:\tlearn: 0.7214891\ttotal: 1m 26s\tremaining: 1m 24s\n",
            "505:\tlearn: 0.7211001\ttotal: 1m 26s\tremaining: 1m 24s\n",
            "506:\tlearn: 0.7206471\ttotal: 1m 26s\tremaining: 1m 24s\n",
            "507:\tlearn: 0.7203377\ttotal: 1m 26s\tremaining: 1m 24s\n",
            "508:\tlearn: 0.7201055\ttotal: 1m 26s\tremaining: 1m 23s\n",
            "509:\tlearn: 0.7198465\ttotal: 1m 27s\tremaining: 1m 23s\n",
            "510:\tlearn: 0.7195206\ttotal: 1m 27s\tremaining: 1m 23s\n",
            "511:\tlearn: 0.7190331\ttotal: 1m 27s\tremaining: 1m 23s\n",
            "512:\tlearn: 0.7184795\ttotal: 1m 27s\tremaining: 1m 23s\n",
            "513:\tlearn: 0.7181229\ttotal: 1m 27s\tremaining: 1m 23s\n",
            "514:\tlearn: 0.7177412\ttotal: 1m 28s\tremaining: 1m 22s\n",
            "515:\tlearn: 0.7173766\ttotal: 1m 28s\tremaining: 1m 22s\n",
            "516:\tlearn: 0.7170107\ttotal: 1m 28s\tremaining: 1m 22s\n",
            "517:\tlearn: 0.7166371\ttotal: 1m 28s\tremaining: 1m 22s\n",
            "518:\tlearn: 0.7164268\ttotal: 1m 28s\tremaining: 1m 22s\n",
            "519:\tlearn: 0.7161105\ttotal: 1m 29s\tremaining: 1m 22s\n",
            "520:\tlearn: 0.7157433\ttotal: 1m 29s\tremaining: 1m 22s\n",
            "521:\tlearn: 0.7154656\ttotal: 1m 29s\tremaining: 1m 22s\n",
            "522:\tlearn: 0.7148517\ttotal: 1m 29s\tremaining: 1m 21s\n",
            "523:\tlearn: 0.7143425\ttotal: 1m 29s\tremaining: 1m 21s\n",
            "524:\tlearn: 0.7140095\ttotal: 1m 30s\tremaining: 1m 21s\n",
            "525:\tlearn: 0.7136243\ttotal: 1m 30s\tremaining: 1m 21s\n",
            "526:\tlearn: 0.7131637\ttotal: 1m 30s\tremaining: 1m 21s\n",
            "527:\tlearn: 0.7127933\ttotal: 1m 30s\tremaining: 1m 20s\n",
            "528:\tlearn: 0.7125774\ttotal: 1m 30s\tremaining: 1m 20s\n",
            "529:\tlearn: 0.7122639\ttotal: 1m 30s\tremaining: 1m 20s\n",
            "530:\tlearn: 0.7118660\ttotal: 1m 30s\tremaining: 1m 20s\n",
            "531:\tlearn: 0.7114971\ttotal: 1m 30s\tremaining: 1m 19s\n",
            "532:\tlearn: 0.7110342\ttotal: 1m 30s\tremaining: 1m 19s\n",
            "533:\tlearn: 0.7106508\ttotal: 1m 31s\tremaining: 1m 19s\n",
            "534:\tlearn: 0.7102976\ttotal: 1m 31s\tremaining: 1m 19s\n",
            "535:\tlearn: 0.7101324\ttotal: 1m 31s\tremaining: 1m 19s\n",
            "536:\tlearn: 0.7098136\ttotal: 1m 31s\tremaining: 1m 18s\n",
            "537:\tlearn: 0.7094937\ttotal: 1m 31s\tremaining: 1m 18s\n",
            "538:\tlearn: 0.7091518\ttotal: 1m 31s\tremaining: 1m 18s\n",
            "539:\tlearn: 0.7086831\ttotal: 1m 31s\tremaining: 1m 18s\n",
            "540:\tlearn: 0.7083551\ttotal: 1m 31s\tremaining: 1m 17s\n",
            "541:\tlearn: 0.7080290\ttotal: 1m 31s\tremaining: 1m 17s\n",
            "542:\tlearn: 0.7076909\ttotal: 1m 32s\tremaining: 1m 17s\n",
            "543:\tlearn: 0.7073520\ttotal: 1m 32s\tremaining: 1m 17s\n",
            "544:\tlearn: 0.7070081\ttotal: 1m 32s\tremaining: 1m 17s\n",
            "545:\tlearn: 0.7067762\ttotal: 1m 32s\tremaining: 1m 16s\n",
            "546:\tlearn: 0.7062558\ttotal: 1m 32s\tremaining: 1m 16s\n",
            "547:\tlearn: 0.7059182\ttotal: 1m 32s\tremaining: 1m 16s\n",
            "548:\tlearn: 0.7055716\ttotal: 1m 32s\tremaining: 1m 16s\n",
            "549:\tlearn: 0.7052468\ttotal: 1m 32s\tremaining: 1m 15s\n",
            "550:\tlearn: 0.7049201\ttotal: 1m 32s\tremaining: 1m 15s\n",
            "551:\tlearn: 0.7046268\ttotal: 1m 33s\tremaining: 1m 15s\n",
            "552:\tlearn: 0.7043325\ttotal: 1m 33s\tremaining: 1m 15s\n",
            "553:\tlearn: 0.7038048\ttotal: 1m 33s\tremaining: 1m 15s\n",
            "554:\tlearn: 0.7035784\ttotal: 1m 33s\tremaining: 1m 14s\n",
            "555:\tlearn: 0.7031179\ttotal: 1m 33s\tremaining: 1m 14s\n",
            "556:\tlearn: 0.7028766\ttotal: 1m 33s\tremaining: 1m 14s\n",
            "557:\tlearn: 0.7024363\ttotal: 1m 33s\tremaining: 1m 14s\n",
            "558:\tlearn: 0.7020980\ttotal: 1m 33s\tremaining: 1m 14s\n",
            "559:\tlearn: 0.7019502\ttotal: 1m 33s\tremaining: 1m 13s\n",
            "560:\tlearn: 0.7017619\ttotal: 1m 34s\tremaining: 1m 13s\n",
            "561:\tlearn: 0.7013375\ttotal: 1m 34s\tremaining: 1m 13s\n",
            "562:\tlearn: 0.7010779\ttotal: 1m 34s\tremaining: 1m 13s\n",
            "563:\tlearn: 0.7006338\ttotal: 1m 34s\tremaining: 1m 12s\n",
            "564:\tlearn: 0.7002470\ttotal: 1m 34s\tremaining: 1m 12s\n",
            "565:\tlearn: 0.6999373\ttotal: 1m 34s\tremaining: 1m 12s\n",
            "566:\tlearn: 0.6994659\ttotal: 1m 34s\tremaining: 1m 12s\n",
            "567:\tlearn: 0.6991069\ttotal: 1m 34s\tremaining: 1m 12s\n",
            "568:\tlearn: 0.6987936\ttotal: 1m 34s\tremaining: 1m 11s\n",
            "569:\tlearn: 0.6983462\ttotal: 1m 35s\tremaining: 1m 11s\n",
            "570:\tlearn: 0.6980781\ttotal: 1m 35s\tremaining: 1m 11s\n",
            "571:\tlearn: 0.6978026\ttotal: 1m 35s\tremaining: 1m 11s\n",
            "572:\tlearn: 0.6975075\ttotal: 1m 35s\tremaining: 1m 11s\n",
            "573:\tlearn: 0.6969700\ttotal: 1m 35s\tremaining: 1m 10s\n",
            "574:\tlearn: 0.6965535\ttotal: 1m 35s\tremaining: 1m 10s\n",
            "575:\tlearn: 0.6960285\ttotal: 1m 35s\tremaining: 1m 10s\n",
            "576:\tlearn: 0.6956706\ttotal: 1m 35s\tremaining: 1m 10s\n",
            "577:\tlearn: 0.6951461\ttotal: 1m 35s\tremaining: 1m 10s\n",
            "578:\tlearn: 0.6947195\ttotal: 1m 36s\tremaining: 1m 9s\n",
            "579:\tlearn: 0.6943049\ttotal: 1m 36s\tremaining: 1m 9s\n",
            "580:\tlearn: 0.6940473\ttotal: 1m 36s\tremaining: 1m 9s\n",
            "581:\tlearn: 0.6935345\ttotal: 1m 36s\tremaining: 1m 9s\n",
            "582:\tlearn: 0.6931881\ttotal: 1m 36s\tremaining: 1m 9s\n",
            "583:\tlearn: 0.6927992\ttotal: 1m 36s\tremaining: 1m 8s\n",
            "584:\tlearn: 0.6925651\ttotal: 1m 36s\tremaining: 1m 8s\n",
            "585:\tlearn: 0.6921145\ttotal: 1m 36s\tremaining: 1m 8s\n",
            "586:\tlearn: 0.6918552\ttotal: 1m 36s\tremaining: 1m 8s\n",
            "587:\tlearn: 0.6915573\ttotal: 1m 37s\tremaining: 1m 7s\n",
            "588:\tlearn: 0.6911776\ttotal: 1m 37s\tremaining: 1m 7s\n",
            "589:\tlearn: 0.6909062\ttotal: 1m 37s\tremaining: 1m 7s\n",
            "590:\tlearn: 0.6905077\ttotal: 1m 37s\tremaining: 1m 7s\n",
            "591:\tlearn: 0.6900932\ttotal: 1m 37s\tremaining: 1m 7s\n",
            "592:\tlearn: 0.6894265\ttotal: 1m 37s\tremaining: 1m 6s\n",
            "593:\tlearn: 0.6892086\ttotal: 1m 37s\tremaining: 1m 6s\n",
            "594:\tlearn: 0.6888624\ttotal: 1m 37s\tremaining: 1m 6s\n",
            "595:\tlearn: 0.6886717\ttotal: 1m 37s\tremaining: 1m 6s\n",
            "596:\tlearn: 0.6882652\ttotal: 1m 38s\tremaining: 1m 6s\n",
            "597:\tlearn: 0.6878701\ttotal: 1m 38s\tremaining: 1m 5s\n",
            "598:\tlearn: 0.6874481\ttotal: 1m 38s\tremaining: 1m 5s\n",
            "599:\tlearn: 0.6871082\ttotal: 1m 38s\tremaining: 1m 5s\n",
            "600:\tlearn: 0.6865441\ttotal: 1m 38s\tremaining: 1m 5s\n",
            "601:\tlearn: 0.6861653\ttotal: 1m 38s\tremaining: 1m 5s\n",
            "602:\tlearn: 0.6858246\ttotal: 1m 38s\tremaining: 1m 4s\n",
            "603:\tlearn: 0.6853986\ttotal: 1m 38s\tremaining: 1m 4s\n",
            "604:\tlearn: 0.6848665\ttotal: 1m 38s\tremaining: 1m 4s\n",
            "605:\tlearn: 0.6846443\ttotal: 1m 38s\tremaining: 1m 4s\n",
            "606:\tlearn: 0.6840466\ttotal: 1m 39s\tremaining: 1m 4s\n",
            "607:\tlearn: 0.6836392\ttotal: 1m 39s\tremaining: 1m 3s\n",
            "608:\tlearn: 0.6833197\ttotal: 1m 39s\tremaining: 1m 3s\n",
            "609:\tlearn: 0.6829486\ttotal: 1m 39s\tremaining: 1m 3s\n",
            "610:\tlearn: 0.6827843\ttotal: 1m 39s\tremaining: 1m 3s\n",
            "611:\tlearn: 0.6823748\ttotal: 1m 39s\tremaining: 1m 3s\n",
            "612:\tlearn: 0.6821038\ttotal: 1m 39s\tremaining: 1m 2s\n",
            "613:\tlearn: 0.6816700\ttotal: 1m 39s\tremaining: 1m 2s\n",
            "614:\tlearn: 0.6812529\ttotal: 1m 40s\tremaining: 1m 2s\n",
            "615:\tlearn: 0.6809412\ttotal: 1m 40s\tremaining: 1m 2s\n",
            "616:\tlearn: 0.6805112\ttotal: 1m 40s\tremaining: 1m 2s\n",
            "617:\tlearn: 0.6801556\ttotal: 1m 40s\tremaining: 1m 2s\n",
            "618:\tlearn: 0.6797513\ttotal: 1m 40s\tremaining: 1m 2s\n",
            "619:\tlearn: 0.6790656\ttotal: 1m 41s\tremaining: 1m 1s\n",
            "620:\tlearn: 0.6788538\ttotal: 1m 41s\tremaining: 1m 1s\n",
            "621:\tlearn: 0.6785833\ttotal: 1m 41s\tremaining: 1m 1s\n",
            "622:\tlearn: 0.6782743\ttotal: 1m 41s\tremaining: 1m 1s\n",
            "623:\tlearn: 0.6779914\ttotal: 1m 41s\tremaining: 1m 1s\n",
            "624:\tlearn: 0.6776407\ttotal: 1m 42s\tremaining: 1m 1s\n",
            "625:\tlearn: 0.6772394\ttotal: 1m 42s\tremaining: 1m 1s\n",
            "626:\tlearn: 0.6769574\ttotal: 1m 42s\tremaining: 1m 1s\n",
            "627:\tlearn: 0.6765338\ttotal: 1m 42s\tremaining: 1m\n",
            "628:\tlearn: 0.6762201\ttotal: 1m 42s\tremaining: 1m\n",
            "629:\tlearn: 0.6758640\ttotal: 1m 43s\tremaining: 1m\n",
            "630:\tlearn: 0.6753802\ttotal: 1m 43s\tremaining: 1m\n",
            "631:\tlearn: 0.6749639\ttotal: 1m 43s\tremaining: 1m\n",
            "632:\tlearn: 0.6745703\ttotal: 1m 43s\tremaining: 59.9s\n",
            "633:\tlearn: 0.6742549\ttotal: 1m 43s\tremaining: 59.8s\n",
            "634:\tlearn: 0.6739855\ttotal: 1m 43s\tremaining: 59.6s\n",
            "635:\tlearn: 0.6736144\ttotal: 1m 43s\tremaining: 59.4s\n",
            "636:\tlearn: 0.6733926\ttotal: 1m 43s\tremaining: 59.2s\n",
            "637:\tlearn: 0.6730136\ttotal: 1m 43s\tremaining: 59s\n",
            "638:\tlearn: 0.6726597\ttotal: 1m 44s\tremaining: 58.8s\n",
            "639:\tlearn: 0.6723231\ttotal: 1m 44s\tremaining: 58.6s\n",
            "640:\tlearn: 0.6721350\ttotal: 1m 44s\tremaining: 58.4s\n",
            "641:\tlearn: 0.6715560\ttotal: 1m 44s\tremaining: 58.2s\n",
            "642:\tlearn: 0.6711337\ttotal: 1m 44s\tremaining: 58s\n",
            "643:\tlearn: 0.6709115\ttotal: 1m 44s\tremaining: 57.8s\n",
            "644:\tlearn: 0.6705996\ttotal: 1m 44s\tremaining: 57.6s\n",
            "645:\tlearn: 0.6700096\ttotal: 1m 44s\tremaining: 57.4s\n",
            "646:\tlearn: 0.6697378\ttotal: 1m 44s\tremaining: 57.3s\n",
            "647:\tlearn: 0.6692718\ttotal: 1m 45s\tremaining: 57.1s\n",
            "648:\tlearn: 0.6687478\ttotal: 1m 45s\tremaining: 56.9s\n",
            "649:\tlearn: 0.6684236\ttotal: 1m 45s\tremaining: 56.7s\n",
            "650:\tlearn: 0.6681538\ttotal: 1m 45s\tremaining: 56.5s\n",
            "651:\tlearn: 0.6679145\ttotal: 1m 45s\tremaining: 56.3s\n",
            "652:\tlearn: 0.6675712\ttotal: 1m 45s\tremaining: 56.1s\n",
            "653:\tlearn: 0.6672266\ttotal: 1m 45s\tremaining: 55.9s\n",
            "654:\tlearn: 0.6667948\ttotal: 1m 45s\tremaining: 55.7s\n",
            "655:\tlearn: 0.6664912\ttotal: 1m 45s\tremaining: 55.5s\n",
            "656:\tlearn: 0.6661283\ttotal: 1m 46s\tremaining: 55.4s\n",
            "657:\tlearn: 0.6656229\ttotal: 1m 46s\tremaining: 55.2s\n",
            "658:\tlearn: 0.6653639\ttotal: 1m 46s\tremaining: 55s\n",
            "659:\tlearn: 0.6651326\ttotal: 1m 46s\tremaining: 54.8s\n",
            "660:\tlearn: 0.6647266\ttotal: 1m 46s\tremaining: 54.6s\n",
            "661:\tlearn: 0.6644466\ttotal: 1m 46s\tremaining: 54.4s\n",
            "662:\tlearn: 0.6640497\ttotal: 1m 46s\tremaining: 54.2s\n",
            "663:\tlearn: 0.6637437\ttotal: 1m 46s\tremaining: 54s\n",
            "664:\tlearn: 0.6634616\ttotal: 1m 46s\tremaining: 53.9s\n",
            "665:\tlearn: 0.6630896\ttotal: 1m 47s\tremaining: 53.7s\n",
            "666:\tlearn: 0.6627978\ttotal: 1m 47s\tremaining: 53.5s\n",
            "667:\tlearn: 0.6625142\ttotal: 1m 47s\tremaining: 53.3s\n",
            "668:\tlearn: 0.6621219\ttotal: 1m 47s\tremaining: 53.1s\n",
            "669:\tlearn: 0.6618928\ttotal: 1m 47s\tremaining: 52.9s\n",
            "670:\tlearn: 0.6617002\ttotal: 1m 47s\tremaining: 52.8s\n",
            "671:\tlearn: 0.6614545\ttotal: 1m 47s\tremaining: 52.6s\n",
            "672:\tlearn: 0.6611330\ttotal: 1m 47s\tremaining: 52.4s\n",
            "673:\tlearn: 0.6608954\ttotal: 1m 47s\tremaining: 52.2s\n",
            "674:\tlearn: 0.6605434\ttotal: 1m 48s\tremaining: 52s\n",
            "675:\tlearn: 0.6603500\ttotal: 1m 48s\tremaining: 51.8s\n",
            "676:\tlearn: 0.6601294\ttotal: 1m 48s\tremaining: 51.6s\n",
            "677:\tlearn: 0.6598071\ttotal: 1m 48s\tremaining: 51.5s\n",
            "678:\tlearn: 0.6595239\ttotal: 1m 48s\tremaining: 51.3s\n",
            "679:\tlearn: 0.6592941\ttotal: 1m 48s\tremaining: 51.1s\n",
            "680:\tlearn: 0.6589245\ttotal: 1m 48s\tremaining: 50.9s\n",
            "681:\tlearn: 0.6586132\ttotal: 1m 48s\tremaining: 50.7s\n",
            "682:\tlearn: 0.6582677\ttotal: 1m 48s\tremaining: 50.5s\n",
            "683:\tlearn: 0.6579365\ttotal: 1m 49s\tremaining: 50.4s\n",
            "684:\tlearn: 0.6576073\ttotal: 1m 49s\tremaining: 50.2s\n",
            "685:\tlearn: 0.6572219\ttotal: 1m 49s\tremaining: 50s\n",
            "686:\tlearn: 0.6569568\ttotal: 1m 49s\tremaining: 49.8s\n",
            "687:\tlearn: 0.6564011\ttotal: 1m 49s\tremaining: 49.6s\n",
            "688:\tlearn: 0.6560184\ttotal: 1m 49s\tremaining: 49.4s\n",
            "689:\tlearn: 0.6557090\ttotal: 1m 49s\tremaining: 49.3s\n",
            "690:\tlearn: 0.6554985\ttotal: 1m 49s\tremaining: 49.1s\n",
            "691:\tlearn: 0.6552174\ttotal: 1m 49s\tremaining: 48.9s\n",
            "692:\tlearn: 0.6547909\ttotal: 1m 49s\tremaining: 48.7s\n",
            "693:\tlearn: 0.6545259\ttotal: 1m 50s\tremaining: 48.5s\n",
            "694:\tlearn: 0.6540998\ttotal: 1m 50s\tremaining: 48.4s\n",
            "695:\tlearn: 0.6535841\ttotal: 1m 50s\tremaining: 48.2s\n",
            "696:\tlearn: 0.6533847\ttotal: 1m 50s\tremaining: 48s\n",
            "697:\tlearn: 0.6530151\ttotal: 1m 50s\tremaining: 47.8s\n",
            "698:\tlearn: 0.6527722\ttotal: 1m 50s\tremaining: 47.7s\n",
            "699:\tlearn: 0.6525876\ttotal: 1m 50s\tremaining: 47.5s\n",
            "700:\tlearn: 0.6523609\ttotal: 1m 50s\tremaining: 47.3s\n",
            "701:\tlearn: 0.6520902\ttotal: 1m 50s\tremaining: 47.1s\n",
            "702:\tlearn: 0.6517491\ttotal: 1m 51s\tremaining: 46.9s\n",
            "703:\tlearn: 0.6514555\ttotal: 1m 51s\tremaining: 46.8s\n",
            "704:\tlearn: 0.6511265\ttotal: 1m 51s\tremaining: 46.6s\n",
            "705:\tlearn: 0.6508569\ttotal: 1m 51s\tremaining: 46.4s\n",
            "706:\tlearn: 0.6505065\ttotal: 1m 51s\tremaining: 46.2s\n",
            "707:\tlearn: 0.6501004\ttotal: 1m 51s\tremaining: 46s\n",
            "708:\tlearn: 0.6496841\ttotal: 1m 51s\tremaining: 45.9s\n",
            "709:\tlearn: 0.6494839\ttotal: 1m 51s\tremaining: 45.7s\n",
            "710:\tlearn: 0.6491304\ttotal: 1m 51s\tremaining: 45.5s\n",
            "711:\tlearn: 0.6487293\ttotal: 1m 52s\tremaining: 45.3s\n",
            "712:\tlearn: 0.6483681\ttotal: 1m 52s\tremaining: 45.2s\n",
            "713:\tlearn: 0.6480207\ttotal: 1m 52s\tremaining: 45s\n",
            "714:\tlearn: 0.6478038\ttotal: 1m 52s\tremaining: 44.8s\n",
            "715:\tlearn: 0.6474135\ttotal: 1m 52s\tremaining: 44.6s\n",
            "716:\tlearn: 0.6470881\ttotal: 1m 52s\tremaining: 44.5s\n",
            "717:\tlearn: 0.6467268\ttotal: 1m 52s\tremaining: 44.3s\n",
            "718:\tlearn: 0.6464222\ttotal: 1m 52s\tremaining: 44.1s\n",
            "719:\tlearn: 0.6461397\ttotal: 1m 53s\tremaining: 44s\n",
            "720:\tlearn: 0.6456857\ttotal: 1m 53s\tremaining: 43.8s\n",
            "721:\tlearn: 0.6453055\ttotal: 1m 53s\tremaining: 43.7s\n",
            "722:\tlearn: 0.6447240\ttotal: 1m 53s\tremaining: 43.6s\n",
            "723:\tlearn: 0.6445081\ttotal: 1m 54s\tremaining: 43.5s\n",
            "724:\tlearn: 0.6441433\ttotal: 1m 54s\tremaining: 43.3s\n",
            "725:\tlearn: 0.6438962\ttotal: 1m 54s\tremaining: 43.2s\n",
            "726:\tlearn: 0.6435562\ttotal: 1m 54s\tremaining: 43.1s\n",
            "727:\tlearn: 0.6434159\ttotal: 1m 54s\tremaining: 42.9s\n",
            "728:\tlearn: 0.6430302\ttotal: 1m 55s\tremaining: 42.8s\n",
            "729:\tlearn: 0.6425866\ttotal: 1m 55s\tremaining: 42.6s\n",
            "730:\tlearn: 0.6423284\ttotal: 1m 55s\tremaining: 42.5s\n",
            "731:\tlearn: 0.6420235\ttotal: 1m 55s\tremaining: 42.4s\n",
            "732:\tlearn: 0.6416129\ttotal: 1m 55s\tremaining: 42.2s\n",
            "733:\tlearn: 0.6413125\ttotal: 1m 55s\tremaining: 42s\n",
            "734:\tlearn: 0.6409670\ttotal: 1m 56s\tremaining: 41.9s\n",
            "735:\tlearn: 0.6406256\ttotal: 1m 56s\tremaining: 41.7s\n",
            "736:\tlearn: 0.6401863\ttotal: 1m 56s\tremaining: 41.5s\n",
            "737:\tlearn: 0.6397682\ttotal: 1m 56s\tremaining: 41.3s\n",
            "738:\tlearn: 0.6394382\ttotal: 1m 56s\tremaining: 41.2s\n",
            "739:\tlearn: 0.6391752\ttotal: 1m 56s\tremaining: 41s\n",
            "740:\tlearn: 0.6388567\ttotal: 1m 56s\tremaining: 40.8s\n",
            "741:\tlearn: 0.6385148\ttotal: 1m 56s\tremaining: 40.6s\n",
            "742:\tlearn: 0.6382742\ttotal: 1m 56s\tremaining: 40.5s\n",
            "743:\tlearn: 0.6380360\ttotal: 1m 57s\tremaining: 40.3s\n",
            "744:\tlearn: 0.6377209\ttotal: 1m 57s\tremaining: 40.1s\n",
            "745:\tlearn: 0.6372690\ttotal: 1m 57s\tremaining: 39.9s\n",
            "746:\tlearn: 0.6370494\ttotal: 1m 57s\tremaining: 39.8s\n",
            "747:\tlearn: 0.6367170\ttotal: 1m 57s\tremaining: 39.6s\n",
            "748:\tlearn: 0.6364983\ttotal: 1m 57s\tremaining: 39.4s\n",
            "749:\tlearn: 0.6362279\ttotal: 1m 57s\tremaining: 39.2s\n",
            "750:\tlearn: 0.6360707\ttotal: 1m 57s\tremaining: 39.1s\n",
            "751:\tlearn: 0.6357922\ttotal: 1m 57s\tremaining: 38.9s\n",
            "752:\tlearn: 0.6357321\ttotal: 1m 58s\tremaining: 38.7s\n",
            "753:\tlearn: 0.6354688\ttotal: 1m 58s\tremaining: 38.6s\n",
            "754:\tlearn: 0.6352628\ttotal: 1m 58s\tremaining: 38.4s\n",
            "755:\tlearn: 0.6350677\ttotal: 1m 58s\tremaining: 38.2s\n",
            "756:\tlearn: 0.6347189\ttotal: 1m 58s\tremaining: 38s\n",
            "757:\tlearn: 0.6344777\ttotal: 1m 58s\tremaining: 37.9s\n",
            "758:\tlearn: 0.6342682\ttotal: 1m 58s\tremaining: 37.7s\n",
            "759:\tlearn: 0.6340896\ttotal: 1m 58s\tremaining: 37.5s\n",
            "760:\tlearn: 0.6335838\ttotal: 1m 58s\tremaining: 37.4s\n",
            "761:\tlearn: 0.6332672\ttotal: 1m 59s\tremaining: 37.2s\n",
            "762:\tlearn: 0.6329050\ttotal: 1m 59s\tremaining: 37s\n",
            "763:\tlearn: 0.6326524\ttotal: 1m 59s\tremaining: 36.8s\n",
            "764:\tlearn: 0.6323984\ttotal: 1m 59s\tremaining: 36.7s\n",
            "765:\tlearn: 0.6321126\ttotal: 1m 59s\tremaining: 36.5s\n",
            "766:\tlearn: 0.6319828\ttotal: 1m 59s\tremaining: 36.3s\n",
            "767:\tlearn: 0.6317259\ttotal: 1m 59s\tremaining: 36.2s\n",
            "768:\tlearn: 0.6314389\ttotal: 1m 59s\tremaining: 36s\n",
            "769:\tlearn: 0.6312937\ttotal: 1m 59s\tremaining: 35.8s\n",
            "770:\tlearn: 0.6307820\ttotal: 2m\tremaining: 35.7s\n",
            "771:\tlearn: 0.6305831\ttotal: 2m\tremaining: 35.5s\n",
            "772:\tlearn: 0.6302793\ttotal: 2m\tremaining: 35.3s\n",
            "773:\tlearn: 0.6300722\ttotal: 2m\tremaining: 35.1s\n",
            "774:\tlearn: 0.6298236\ttotal: 2m\tremaining: 35s\n",
            "775:\tlearn: 0.6293374\ttotal: 2m\tremaining: 34.8s\n",
            "776:\tlearn: 0.6288873\ttotal: 2m\tremaining: 34.6s\n",
            "777:\tlearn: 0.6286130\ttotal: 2m\tremaining: 34.5s\n",
            "778:\tlearn: 0.6281851\ttotal: 2m\tremaining: 34.3s\n",
            "779:\tlearn: 0.6278044\ttotal: 2m 1s\tremaining: 34.1s\n",
            "780:\tlearn: 0.6274651\ttotal: 2m 1s\tremaining: 34s\n",
            "781:\tlearn: 0.6270265\ttotal: 2m 1s\tremaining: 33.8s\n",
            "782:\tlearn: 0.6267598\ttotal: 2m 1s\tremaining: 33.6s\n",
            "783:\tlearn: 0.6264656\ttotal: 2m 1s\tremaining: 33.5s\n",
            "784:\tlearn: 0.6262340\ttotal: 2m 1s\tremaining: 33.3s\n",
            "785:\tlearn: 0.6257672\ttotal: 2m 1s\tremaining: 33.1s\n",
            "786:\tlearn: 0.6252881\ttotal: 2m 1s\tremaining: 33s\n",
            "787:\tlearn: 0.6247729\ttotal: 2m 1s\tremaining: 32.8s\n",
            "788:\tlearn: 0.6244726\ttotal: 2m 2s\tremaining: 32.6s\n",
            "789:\tlearn: 0.6241568\ttotal: 2m 2s\tremaining: 32.5s\n",
            "790:\tlearn: 0.6240225\ttotal: 2m 2s\tremaining: 32.3s\n",
            "791:\tlearn: 0.6236600\ttotal: 2m 2s\tremaining: 32.1s\n",
            "792:\tlearn: 0.6232157\ttotal: 2m 2s\tremaining: 32s\n",
            "793:\tlearn: 0.6229821\ttotal: 2m 2s\tremaining: 31.8s\n",
            "794:\tlearn: 0.6227477\ttotal: 2m 2s\tremaining: 31.6s\n",
            "795:\tlearn: 0.6223200\ttotal: 2m 2s\tremaining: 31.5s\n",
            "796:\tlearn: 0.6219859\ttotal: 2m 2s\tremaining: 31.3s\n",
            "797:\tlearn: 0.6218046\ttotal: 2m 3s\tremaining: 31.1s\n",
            "798:\tlearn: 0.6214917\ttotal: 2m 3s\tremaining: 31s\n",
            "799:\tlearn: 0.6210349\ttotal: 2m 3s\tremaining: 30.8s\n",
            "800:\tlearn: 0.6206951\ttotal: 2m 3s\tremaining: 30.6s\n",
            "801:\tlearn: 0.6203516\ttotal: 2m 3s\tremaining: 30.5s\n",
            "802:\tlearn: 0.6200847\ttotal: 2m 3s\tremaining: 30.3s\n",
            "803:\tlearn: 0.6197670\ttotal: 2m 3s\tremaining: 30.2s\n",
            "804:\tlearn: 0.6194546\ttotal: 2m 3s\tremaining: 30s\n",
            "805:\tlearn: 0.6191962\ttotal: 2m 3s\tremaining: 29.8s\n",
            "806:\tlearn: 0.6188221\ttotal: 2m 4s\tremaining: 29.7s\n",
            "807:\tlearn: 0.6184951\ttotal: 2m 4s\tremaining: 29.5s\n",
            "808:\tlearn: 0.6183349\ttotal: 2m 4s\tremaining: 29.3s\n",
            "809:\tlearn: 0.6180175\ttotal: 2m 4s\tremaining: 29.2s\n",
            "810:\tlearn: 0.6175445\ttotal: 2m 4s\tremaining: 29s\n",
            "811:\tlearn: 0.6172222\ttotal: 2m 4s\tremaining: 28.8s\n",
            "812:\tlearn: 0.6167978\ttotal: 2m 4s\tremaining: 28.7s\n",
            "813:\tlearn: 0.6164929\ttotal: 2m 4s\tremaining: 28.5s\n",
            "814:\tlearn: 0.6163081\ttotal: 2m 4s\tremaining: 28.4s\n",
            "815:\tlearn: 0.6157572\ttotal: 2m 5s\tremaining: 28.2s\n",
            "816:\tlearn: 0.6155543\ttotal: 2m 5s\tremaining: 28s\n",
            "817:\tlearn: 0.6153686\ttotal: 2m 5s\tremaining: 27.9s\n",
            "818:\tlearn: 0.6151295\ttotal: 2m 5s\tremaining: 27.7s\n",
            "819:\tlearn: 0.6147294\ttotal: 2m 5s\tremaining: 27.5s\n",
            "820:\tlearn: 0.6144705\ttotal: 2m 5s\tremaining: 27.4s\n",
            "821:\tlearn: 0.6143431\ttotal: 2m 5s\tremaining: 27.2s\n",
            "822:\tlearn: 0.6140470\ttotal: 2m 5s\tremaining: 27.1s\n",
            "823:\tlearn: 0.6138061\ttotal: 2m 5s\tremaining: 26.9s\n",
            "824:\tlearn: 0.6136028\ttotal: 2m 6s\tremaining: 26.8s\n",
            "825:\tlearn: 0.6133349\ttotal: 2m 6s\tremaining: 26.6s\n",
            "826:\tlearn: 0.6130618\ttotal: 2m 6s\tremaining: 26.5s\n",
            "827:\tlearn: 0.6128891\ttotal: 2m 6s\tremaining: 26.3s\n",
            "828:\tlearn: 0.6125980\ttotal: 2m 7s\tremaining: 26.2s\n",
            "829:\tlearn: 0.6123346\ttotal: 2m 7s\tremaining: 26.1s\n",
            "830:\tlearn: 0.6120867\ttotal: 2m 7s\tremaining: 25.9s\n",
            "831:\tlearn: 0.6117521\ttotal: 2m 7s\tremaining: 25.8s\n",
            "832:\tlearn: 0.6112361\ttotal: 2m 7s\tremaining: 25.6s\n",
            "833:\tlearn: 0.6108886\ttotal: 2m 8s\tremaining: 25.5s\n",
            "834:\tlearn: 0.6105440\ttotal: 2m 8s\tremaining: 25.4s\n",
            "835:\tlearn: 0.6102666\ttotal: 2m 8s\tremaining: 25.2s\n",
            "836:\tlearn: 0.6100240\ttotal: 2m 8s\tremaining: 25.1s\n",
            "837:\tlearn: 0.6098173\ttotal: 2m 8s\tremaining: 24.9s\n",
            "838:\tlearn: 0.6095951\ttotal: 2m 8s\tremaining: 24.7s\n",
            "839:\tlearn: 0.6093784\ttotal: 2m 9s\tremaining: 24.6s\n",
            "840:\tlearn: 0.6090790\ttotal: 2m 9s\tremaining: 24.4s\n",
            "841:\tlearn: 0.6086985\ttotal: 2m 9s\tremaining: 24.3s\n",
            "842:\tlearn: 0.6084324\ttotal: 2m 9s\tremaining: 24.1s\n",
            "843:\tlearn: 0.6081962\ttotal: 2m 9s\tremaining: 23.9s\n",
            "844:\tlearn: 0.6079017\ttotal: 2m 9s\tremaining: 23.8s\n",
            "845:\tlearn: 0.6076332\ttotal: 2m 9s\tremaining: 23.6s\n",
            "846:\tlearn: 0.6073469\ttotal: 2m 9s\tremaining: 23.5s\n",
            "847:\tlearn: 0.6070620\ttotal: 2m 9s\tremaining: 23.3s\n",
            "848:\tlearn: 0.6068268\ttotal: 2m 10s\tremaining: 23.1s\n",
            "849:\tlearn: 0.6064909\ttotal: 2m 10s\tremaining: 23s\n",
            "850:\tlearn: 0.6060391\ttotal: 2m 10s\tremaining: 22.8s\n",
            "851:\tlearn: 0.6058402\ttotal: 2m 10s\tremaining: 22.6s\n",
            "852:\tlearn: 0.6055535\ttotal: 2m 10s\tremaining: 22.5s\n",
            "853:\tlearn: 0.6053570\ttotal: 2m 10s\tremaining: 22.3s\n",
            "854:\tlearn: 0.6049535\ttotal: 2m 10s\tremaining: 22.2s\n",
            "855:\tlearn: 0.6047290\ttotal: 2m 10s\tremaining: 22s\n",
            "856:\tlearn: 0.6044128\ttotal: 2m 10s\tremaining: 21.8s\n",
            "857:\tlearn: 0.6040459\ttotal: 2m 11s\tremaining: 21.7s\n",
            "858:\tlearn: 0.6038479\ttotal: 2m 11s\tremaining: 21.5s\n",
            "859:\tlearn: 0.6033522\ttotal: 2m 11s\tremaining: 21.4s\n",
            "860:\tlearn: 0.6029971\ttotal: 2m 11s\tremaining: 21.2s\n",
            "861:\tlearn: 0.6027161\ttotal: 2m 11s\tremaining: 21s\n",
            "862:\tlearn: 0.6025573\ttotal: 2m 11s\tremaining: 20.9s\n",
            "863:\tlearn: 0.6023927\ttotal: 2m 11s\tremaining: 20.7s\n",
            "864:\tlearn: 0.6021065\ttotal: 2m 11s\tremaining: 20.6s\n",
            "865:\tlearn: 0.6018632\ttotal: 2m 11s\tremaining: 20.4s\n",
            "866:\tlearn: 0.6014735\ttotal: 2m 12s\tremaining: 20.3s\n",
            "867:\tlearn: 0.6012461\ttotal: 2m 12s\tremaining: 20.1s\n",
            "868:\tlearn: 0.6009911\ttotal: 2m 12s\tremaining: 19.9s\n",
            "869:\tlearn: 0.6007983\ttotal: 2m 12s\tremaining: 19.8s\n",
            "870:\tlearn: 0.6004196\ttotal: 2m 12s\tremaining: 19.6s\n",
            "871:\tlearn: 0.5998084\ttotal: 2m 12s\tremaining: 19.5s\n",
            "872:\tlearn: 0.5994446\ttotal: 2m 12s\tremaining: 19.3s\n",
            "873:\tlearn: 0.5990207\ttotal: 2m 12s\tremaining: 19.1s\n",
            "874:\tlearn: 0.5987422\ttotal: 2m 12s\tremaining: 19s\n",
            "875:\tlearn: 0.5984396\ttotal: 2m 12s\tremaining: 18.8s\n",
            "876:\tlearn: 0.5981911\ttotal: 2m 13s\tremaining: 18.7s\n",
            "877:\tlearn: 0.5979481\ttotal: 2m 13s\tremaining: 18.5s\n",
            "878:\tlearn: 0.5978266\ttotal: 2m 13s\tremaining: 18.4s\n",
            "879:\tlearn: 0.5976069\ttotal: 2m 13s\tremaining: 18.2s\n",
            "880:\tlearn: 0.5973882\ttotal: 2m 13s\tremaining: 18s\n",
            "881:\tlearn: 0.5970229\ttotal: 2m 13s\tremaining: 17.9s\n",
            "882:\tlearn: 0.5966814\ttotal: 2m 13s\tremaining: 17.7s\n",
            "883:\tlearn: 0.5964726\ttotal: 2m 13s\tremaining: 17.6s\n",
            "884:\tlearn: 0.5962261\ttotal: 2m 13s\tremaining: 17.4s\n",
            "885:\tlearn: 0.5958882\ttotal: 2m 14s\tremaining: 17.3s\n",
            "886:\tlearn: 0.5955333\ttotal: 2m 14s\tremaining: 17.1s\n",
            "887:\tlearn: 0.5953910\ttotal: 2m 14s\tremaining: 16.9s\n",
            "888:\tlearn: 0.5951105\ttotal: 2m 14s\tremaining: 16.8s\n",
            "889:\tlearn: 0.5948657\ttotal: 2m 14s\tremaining: 16.6s\n",
            "890:\tlearn: 0.5945963\ttotal: 2m 14s\tremaining: 16.5s\n",
            "891:\tlearn: 0.5943792\ttotal: 2m 14s\tremaining: 16.3s\n",
            "892:\tlearn: 0.5942077\ttotal: 2m 14s\tremaining: 16.2s\n",
            "893:\tlearn: 0.5940185\ttotal: 2m 14s\tremaining: 16s\n",
            "894:\tlearn: 0.5937300\ttotal: 2m 15s\tremaining: 15.8s\n",
            "895:\tlearn: 0.5933997\ttotal: 2m 15s\tremaining: 15.7s\n",
            "896:\tlearn: 0.5930767\ttotal: 2m 15s\tremaining: 15.5s\n",
            "897:\tlearn: 0.5928644\ttotal: 2m 15s\tremaining: 15.4s\n",
            "898:\tlearn: 0.5926231\ttotal: 2m 15s\tremaining: 15.2s\n",
            "899:\tlearn: 0.5924490\ttotal: 2m 15s\tremaining: 15.1s\n",
            "900:\tlearn: 0.5921411\ttotal: 2m 15s\tremaining: 14.9s\n",
            "901:\tlearn: 0.5918437\ttotal: 2m 15s\tremaining: 14.8s\n",
            "902:\tlearn: 0.5914481\ttotal: 2m 15s\tremaining: 14.6s\n",
            "903:\tlearn: 0.5912480\ttotal: 2m 16s\tremaining: 14.4s\n",
            "904:\tlearn: 0.5908858\ttotal: 2m 16s\tremaining: 14.3s\n",
            "905:\tlearn: 0.5906832\ttotal: 2m 16s\tremaining: 14.1s\n",
            "906:\tlearn: 0.5904086\ttotal: 2m 16s\tremaining: 14s\n",
            "907:\tlearn: 0.5903165\ttotal: 2m 16s\tremaining: 13.8s\n",
            "908:\tlearn: 0.5899991\ttotal: 2m 16s\tremaining: 13.7s\n",
            "909:\tlearn: 0.5898351\ttotal: 2m 16s\tremaining: 13.5s\n",
            "910:\tlearn: 0.5894886\ttotal: 2m 16s\tremaining: 13.4s\n",
            "911:\tlearn: 0.5890721\ttotal: 2m 16s\tremaining: 13.2s\n",
            "912:\tlearn: 0.5888751\ttotal: 2m 17s\tremaining: 13.1s\n",
            "913:\tlearn: 0.5885220\ttotal: 2m 17s\tremaining: 12.9s\n",
            "914:\tlearn: 0.5882349\ttotal: 2m 17s\tremaining: 12.8s\n",
            "915:\tlearn: 0.5878283\ttotal: 2m 17s\tremaining: 12.6s\n",
            "916:\tlearn: 0.5874894\ttotal: 2m 17s\tremaining: 12.4s\n",
            "917:\tlearn: 0.5872491\ttotal: 2m 17s\tremaining: 12.3s\n",
            "918:\tlearn: 0.5869722\ttotal: 2m 17s\tremaining: 12.1s\n",
            "919:\tlearn: 0.5866811\ttotal: 2m 17s\tremaining: 12s\n",
            "920:\tlearn: 0.5864464\ttotal: 2m 17s\tremaining: 11.8s\n",
            "921:\tlearn: 0.5863435\ttotal: 2m 18s\tremaining: 11.7s\n",
            "922:\tlearn: 0.5858878\ttotal: 2m 18s\tremaining: 11.5s\n",
            "923:\tlearn: 0.5854785\ttotal: 2m 18s\tremaining: 11.4s\n",
            "924:\tlearn: 0.5851832\ttotal: 2m 18s\tremaining: 11.2s\n",
            "925:\tlearn: 0.5849701\ttotal: 2m 18s\tremaining: 11.1s\n",
            "926:\tlearn: 0.5846885\ttotal: 2m 18s\tremaining: 10.9s\n",
            "927:\tlearn: 0.5844342\ttotal: 2m 18s\tremaining: 10.8s\n",
            "928:\tlearn: 0.5841214\ttotal: 2m 18s\tremaining: 10.6s\n",
            "929:\tlearn: 0.5839795\ttotal: 2m 19s\tremaining: 10.5s\n",
            "930:\tlearn: 0.5837838\ttotal: 2m 19s\tremaining: 10.3s\n",
            "931:\tlearn: 0.5834621\ttotal: 2m 19s\tremaining: 10.2s\n",
            "932:\tlearn: 0.5830146\ttotal: 2m 19s\tremaining: 10s\n",
            "933:\tlearn: 0.5828540\ttotal: 2m 19s\tremaining: 9.88s\n",
            "934:\tlearn: 0.5825614\ttotal: 2m 20s\tremaining: 9.74s\n",
            "935:\tlearn: 0.5822272\ttotal: 2m 20s\tremaining: 9.6s\n",
            "936:\tlearn: 0.5820631\ttotal: 2m 20s\tremaining: 9.45s\n",
            "937:\tlearn: 0.5818301\ttotal: 2m 20s\tremaining: 9.3s\n",
            "938:\tlearn: 0.5816303\ttotal: 2m 21s\tremaining: 9.16s\n",
            "939:\tlearn: 0.5812792\ttotal: 2m 21s\tremaining: 9.01s\n",
            "940:\tlearn: 0.5809301\ttotal: 2m 21s\tremaining: 8.87s\n",
            "941:\tlearn: 0.5805730\ttotal: 2m 21s\tremaining: 8.72s\n",
            "942:\tlearn: 0.5803429\ttotal: 2m 21s\tremaining: 8.57s\n",
            "943:\tlearn: 0.5799865\ttotal: 2m 21s\tremaining: 8.41s\n",
            "944:\tlearn: 0.5796768\ttotal: 2m 21s\tremaining: 8.26s\n",
            "945:\tlearn: 0.5795331\ttotal: 2m 22s\tremaining: 8.11s\n",
            "946:\tlearn: 0.5792453\ttotal: 2m 22s\tremaining: 7.96s\n",
            "947:\tlearn: 0.5789311\ttotal: 2m 22s\tremaining: 7.8s\n",
            "948:\tlearn: 0.5786535\ttotal: 2m 22s\tremaining: 7.65s\n",
            "949:\tlearn: 0.5785110\ttotal: 2m 22s\tremaining: 7.5s\n",
            "950:\tlearn: 0.5782523\ttotal: 2m 22s\tremaining: 7.35s\n",
            "951:\tlearn: 0.5778497\ttotal: 2m 22s\tremaining: 7.2s\n",
            "952:\tlearn: 0.5776357\ttotal: 2m 22s\tremaining: 7.04s\n",
            "953:\tlearn: 0.5775583\ttotal: 2m 22s\tremaining: 6.89s\n",
            "954:\tlearn: 0.5773228\ttotal: 2m 23s\tremaining: 6.74s\n",
            "955:\tlearn: 0.5770251\ttotal: 2m 23s\tremaining: 6.59s\n",
            "956:\tlearn: 0.5768296\ttotal: 2m 23s\tremaining: 6.44s\n",
            "957:\tlearn: 0.5766454\ttotal: 2m 23s\tremaining: 6.29s\n",
            "958:\tlearn: 0.5763929\ttotal: 2m 23s\tremaining: 6.13s\n",
            "959:\tlearn: 0.5760946\ttotal: 2m 23s\tremaining: 5.98s\n",
            "960:\tlearn: 0.5758452\ttotal: 2m 23s\tremaining: 5.83s\n",
            "961:\tlearn: 0.5755824\ttotal: 2m 23s\tremaining: 5.68s\n",
            "962:\tlearn: 0.5751669\ttotal: 2m 23s\tremaining: 5.53s\n",
            "963:\tlearn: 0.5749260\ttotal: 2m 24s\tremaining: 5.38s\n",
            "964:\tlearn: 0.5745522\ttotal: 2m 24s\tremaining: 5.23s\n",
            "965:\tlearn: 0.5743732\ttotal: 2m 24s\tremaining: 5.08s\n",
            "966:\tlearn: 0.5740105\ttotal: 2m 24s\tremaining: 4.93s\n",
            "967:\tlearn: 0.5738563\ttotal: 2m 24s\tremaining: 4.78s\n",
            "968:\tlearn: 0.5734591\ttotal: 2m 24s\tremaining: 4.63s\n",
            "969:\tlearn: 0.5730997\ttotal: 2m 24s\tremaining: 4.48s\n",
            "970:\tlearn: 0.5728360\ttotal: 2m 24s\tremaining: 4.33s\n",
            "971:\tlearn: 0.5725983\ttotal: 2m 25s\tremaining: 4.18s\n",
            "972:\tlearn: 0.5723415\ttotal: 2m 25s\tremaining: 4.04s\n",
            "973:\tlearn: 0.5721085\ttotal: 2m 25s\tremaining: 3.89s\n",
            "974:\tlearn: 0.5717994\ttotal: 2m 25s\tremaining: 3.74s\n",
            "975:\tlearn: 0.5716654\ttotal: 2m 26s\tremaining: 3.59s\n",
            "976:\tlearn: 0.5713888\ttotal: 2m 26s\tremaining: 3.44s\n",
            "977:\tlearn: 0.5710239\ttotal: 2m 26s\tremaining: 3.29s\n",
            "978:\tlearn: 0.5707315\ttotal: 2m 26s\tremaining: 3.14s\n",
            "979:\tlearn: 0.5704978\ttotal: 2m 26s\tremaining: 2.99s\n",
            "980:\tlearn: 0.5701946\ttotal: 2m 26s\tremaining: 2.84s\n",
            "981:\tlearn: 0.5699359\ttotal: 2m 26s\tremaining: 2.69s\n",
            "982:\tlearn: 0.5696016\ttotal: 2m 26s\tremaining: 2.54s\n",
            "983:\tlearn: 0.5691228\ttotal: 2m 26s\tremaining: 2.39s\n",
            "984:\tlearn: 0.5689150\ttotal: 2m 27s\tremaining: 2.24s\n",
            "985:\tlearn: 0.5687233\ttotal: 2m 27s\tremaining: 2.09s\n",
            "986:\tlearn: 0.5684680\ttotal: 2m 27s\tremaining: 1.94s\n",
            "987:\tlearn: 0.5683364\ttotal: 2m 27s\tremaining: 1.79s\n",
            "988:\tlearn: 0.5681613\ttotal: 2m 27s\tremaining: 1.64s\n",
            "989:\tlearn: 0.5677061\ttotal: 2m 27s\tremaining: 1.49s\n",
            "990:\tlearn: 0.5674131\ttotal: 2m 27s\tremaining: 1.34s\n",
            "991:\tlearn: 0.5671327\ttotal: 2m 27s\tremaining: 1.19s\n",
            "992:\tlearn: 0.5669531\ttotal: 2m 27s\tremaining: 1.04s\n",
            "993:\tlearn: 0.5667875\ttotal: 2m 28s\tremaining: 894ms\n",
            "994:\tlearn: 0.5665421\ttotal: 2m 28s\tremaining: 744ms\n",
            "995:\tlearn: 0.5663320\ttotal: 2m 28s\tremaining: 595ms\n",
            "996:\tlearn: 0.5661195\ttotal: 2m 28s\tremaining: 446ms\n",
            "997:\tlearn: 0.5658509\ttotal: 2m 28s\tremaining: 298ms\n",
            "998:\tlearn: 0.5655947\ttotal: 2m 28s\tremaining: 149ms\n",
            "999:\tlearn: 0.5654999\ttotal: 2m 28s\tremaining: 0us\n"
          ]
        },
        {
          "output_type": "execute_result",
          "data": {
            "text/plain": [
              "<catboost.core.CatBoostClassifier at 0x7ca4233cded0>"
            ]
          },
          "metadata": {},
          "execution_count": 54
        }
      ],
      "source": [
        "model_cb = CatBoostClassifier()\n",
        "model_cb.fit(x_train, y_train)"
      ]
    },
    {
      "cell_type": "code",
      "execution_count": 55,
      "metadata": {
        "ExecuteTime": {
          "end_time": "2019-07-12T16:41:50.143343Z",
          "start_time": "2019-07-12T16:41:50.134809Z"
        },
        "id": "qiuLUQNpfWlv"
      },
      "outputs": [],
      "source": [
        "pred_val = model_cb.predict(x_val)"
      ]
    },
    {
      "cell_type": "markdown",
      "metadata": {
        "id": "YAiI7-lpfWlw"
      },
      "source": [
        "## Оцениваем качество решение на валидационной выборке"
      ]
    },
    {
      "cell_type": "code",
      "execution_count": 56,
      "metadata": {
        "id": "700gQiw4fWlw",
        "colab": {
          "base_uri": "https://localhost:8080/"
        },
        "outputId": "9954a372-dac8-4e56-b4e4-12af8c446846"
      },
      "outputs": [
        {
          "output_type": "stream",
          "name": "stdout",
          "text": [
            "Accuracy: 0.6715476190476191\n"
          ]
        }
      ],
      "source": [
        "from sklearn.metrics import accuracy_score\n",
        "print('Accuracy: %s' % accuracy_score(y_val, pred_val))"
      ]
    },
    {
      "cell_type": "code",
      "execution_count": 57,
      "metadata": {
        "id": "8vLX1DgFfWlw",
        "colab": {
          "base_uri": "https://localhost:8080/"
        },
        "outputId": "c78882d7-4240-4528-e3c4-20a1725b58fd"
      },
      "outputs": [
        {
          "output_type": "stream",
          "name": "stdout",
          "text": [
            "              precision    recall  f1-score   support\n",
            "\n",
            "         0.0       0.46      0.44      0.45       816\n",
            "         1.0       0.96      0.96      0.96       909\n",
            "         2.0       0.54      0.50      0.52       846\n",
            "         3.0       0.68      0.71      0.70       937\n",
            "         4.0       0.74      0.72      0.73       839\n",
            "         5.0       0.64      0.69      0.66       702\n",
            "         6.0       0.54      0.51      0.53       785\n",
            "         7.0       0.87      0.83      0.85       893\n",
            "         8.0       0.52      0.58      0.55       835\n",
            "         9.0       0.69      0.72      0.71       838\n",
            "\n",
            "    accuracy                           0.67      8400\n",
            "   macro avg       0.67      0.67      0.67      8400\n",
            "weighted avg       0.67      0.67      0.67      8400\n",
            "\n"
          ]
        }
      ],
      "source": [
        "from sklearn.metrics import classification_report\n",
        "print(classification_report(y_val, pred_val))"
      ]
    },
    {
      "cell_type": "code",
      "execution_count": null,
      "metadata": {
        "id": "zSYbZ1YKfWlw"
      },
      "outputs": [],
      "source": [
        "from sklearn.metrics import confusion_matrix\n",
        "print(confusion_matrix(y_val, pred_val))"
      ]
    },
    {
      "cell_type": "markdown",
      "metadata": {
        "id": "JjLvm240fWlw"
      },
      "source": [
        "## Предсказания на тестовыйх данных"
      ]
    },
    {
      "cell_type": "code",
      "execution_count": 59,
      "metadata": {
        "collapsed": true,
        "id": "JJ20sHVofWlw"
      },
      "outputs": [],
      "source": [
        "pred_test = model_cb.predict(test_hist)"
      ]
    },
    {
      "cell_type": "markdown",
      "metadata": {
        "id": "yelW7iNifWlw"
      },
      "source": [
        "## Визуализируем предсказания"
      ]
    },
    {
      "cell_type": "code",
      "execution_count": 60,
      "metadata": {
        "id": "ckrMwT4IfWlw",
        "colab": {
          "base_uri": "https://localhost:8080/",
          "height": 148
        },
        "outputId": "601942a7-5a9a-463e-b42b-49fa06d93df9"
      },
      "outputs": [
        {
          "output_type": "display_data",
          "data": {
            "text/plain": [
              "<Figure size 1000x600 with 10 Axes>"
            ],
            "image/png": "[encoded data removed]"
          },
          "metadata": {}
        }
      ],
      "source": [
        "fig = plt.figure(figsize=(10, 6))\n",
        "for i, img in enumerate(test_img[0:10], 1):\n",
        "    subplot = fig.add_subplot(1, 10, i)\n",
        "    plt.imshow(img, cmap='gray');\n",
        "    subplot.set_title('%s' % pred_test[i - 1]);"
      ]
    },
    {
      "cell_type": "markdown",
      "metadata": {
        "id": "WJ19621WfWlx"
      },
      "source": [
        "## Готовим файл для отправки"
      ]
    },
    {
      "cell_type": "code",
      "execution_count": 61,
      "metadata": {
        "collapsed": true,
        "id": "dNemaXt3fWlx"
      },
      "outputs": [],
      "source": [
        "with open('submit.txt', 'w') as dst:\n",
        "    dst.write('ImageId,Label\\n')\n",
        "    for i, p in enumerate(pred_test, 1):\n",
        "        dst.write('%s,%s\\n' % (i, int(p)))"
      ]
    },
    {
      "cell_type": "code",
      "execution_count": null,
      "metadata": {
        "id": "FZ485dqYfWlx"
      },
      "outputs": [],
      "source": [
        "!head submit.txt"
      ]
    },
    {
      "cell_type": "markdown",
      "source": [
        "# 5. Метод опорных векторов"
      ],
      "metadata": {
        "id": "_gkGcnF9PrF9"
      }
    },
    {
      "cell_type": "code",
      "source": [
        "from sklearn.svm import LinearSVC"
      ],
      "metadata": {
        "id": "2DDUNrDnFr4N"
      },
      "execution_count": 62,
      "outputs": []
    },
    {
      "cell_type": "code",
      "source": [
        "svc = LinearSVC(C = 1.0, class_weight = None, dual = True, fit_intercept = True,\n",
        "          intercept_scaling = 1, loss = 'squared_hinge', max_iter = 1000,\n",
        "          multi_class = 'ovr', penalty = 'l2', random_state = 42, tol = 0.0001,\n",
        "          verbose = 0)\n",
        "\n",
        "svc.fit(x_train, y_train)"
      ],
      "metadata": {
        "id": "yG8i7_GVFE3g",
        "colab": {
          "base_uri": "https://localhost:8080/",
          "height": 75
        },
        "outputId": "a50190c3-cb44-403c-dad3-87069aad9163"
      },
      "execution_count": 65,
      "outputs": [
        {
          "output_type": "execute_result",
          "data": {
            "text/plain": [
              "LinearSVC(random_state=42)"
            ],
            "text/html": [
              "<style>#sk-container-id-4 {color: black;background-color: white;}#sk-container-id-4 pre{padding: 0;}#sk-container-id-4 div.sk-toggleable {background-color: white;}#sk-container-id-4 label.sk-toggleable__label {cursor: pointer;display: block;width: 100%;margin-bottom: 0;padding: 0.3em;box-sizing: border-box;text-align: center;}#sk-container-id-4 label.sk-toggleable__label-arrow:before {content: \"▸\";float: left;margin-right: 0.25em;color: #696969;}#sk-container-id-4 label.sk-toggleable__label-arrow:hover:before {color: black;}#sk-container-id-4 div.sk-estimator:hover label.sk-toggleable__label-arrow:before {color: black;}#sk-container-id-4 div.sk-toggleable__content {max-height: 0;max-width: 0;overflow: hidden;text-align: left;background-color: #f0f8ff;}#sk-container-id-4 div.sk-toggleable__content pre {margin: 0.2em;color: black;border-radius: 0.25em;background-color: #f0f8ff;}#sk-container-id-4 input.sk-toggleable__control:checked~div.sk-toggleable__content {max-height: 200px;max-width: 100%;overflow: auto;}#sk-container-id-4 input.sk-toggleable__control:checked~label.sk-toggleable__label-arrow:before {content: \"▾\";}#sk-container-id-4 div.sk-estimator input.sk-toggleable__control:checked~label.sk-toggleable__label {background-color: #d4ebff;}#sk-container-id-4 div.sk-label input.sk-toggleable__control:checked~label.sk-toggleable__label {background-color: #d4ebff;}#sk-container-id-4 input.sk-hidden--visually {border: 0;clip: rect(1px 1px 1px 1px);clip: rect(1px, 1px, 1px, 1px);height: 1px;margin: -1px;overflow: hidden;padding: 0;position: absolute;width: 1px;}#sk-container-id-4 div.sk-estimator {font-family: monospace;background-color: #f0f8ff;border: 1px dotted black;border-radius: 0.25em;box-sizing: border-box;margin-bottom: 0.5em;}#sk-container-id-4 div.sk-estimator:hover {background-color: #d4ebff;}#sk-container-id-4 div.sk-parallel-item::after {content: \"\";width: 100%;border-bottom: 1px solid gray;flex-grow: 1;}#sk-container-id-4 div.sk-label:hover label.sk-toggleable__label {background-color: #d4ebff;}#sk-container-id-4 div.sk-serial::before {content: \"\";position: absolute;border-left: 1px solid gray;box-sizing: border-box;top: 0;bottom: 0;left: 50%;z-index: 0;}#sk-container-id-4 div.sk-serial {display: flex;flex-direction: column;align-items: center;background-color: white;padding-right: 0.2em;padding-left: 0.2em;position: relative;}#sk-container-id-4 div.sk-item {position: relative;z-index: 1;}#sk-container-id-4 div.sk-parallel {display: flex;align-items: stretch;justify-content: center;background-color: white;position: relative;}#sk-container-id-4 div.sk-item::before, #sk-container-id-4 div.sk-parallel-item::before {content: \"\";position: absolute;border-left: 1px solid gray;box-sizing: border-box;top: 0;bottom: 0;left: 50%;z-index: -1;}#sk-container-id-4 div.sk-parallel-item {display: flex;flex-direction: column;z-index: 1;position: relative;background-color: white;}#sk-container-id-4 div.sk-parallel-item:first-child::after {align-self: flex-end;width: 50%;}#sk-container-id-4 div.sk-parallel-item:last-child::after {align-self: flex-start;width: 50%;}#sk-container-id-4 div.sk-parallel-item:only-child::after {width: 0;}#sk-container-id-4 div.sk-dashed-wrapped {border: 1px dashed gray;margin: 0 0.4em 0.5em 0.4em;box-sizing: border-box;padding-bottom: 0.4em;background-color: white;}#sk-container-id-4 div.sk-label label {font-family: monospace;font-weight: bold;display: inline-block;line-height: 1.2em;}#sk-container-id-4 div.sk-label-container {text-align: center;}#sk-container-id-4 div.sk-container {/* jupyter's `normalize.less` sets `[hidden] { display: none; }` but bootstrap.min.css set `[hidden] { display: none !important; }` so we also need the `!important` here to be able to override the default hidden behavior on the sphinx rendered scikit-learn.org. See: https://github.com/scikit-learn/scikit-learn/issues/21755 */display: inline-block !important;position: relative;}#sk-container-id-4 div.sk-text-repr-fallback {display: none;}</style><div id=\"sk-container-id-4\" class=\"sk-top-container\"><div class=\"sk-text-repr-fallback\"><pre>LinearSVC(random_state=42)</pre><b>In a Jupyter environment, please rerun this cell to show the HTML representation or trust the notebook. <br />On GitHub, the HTML representation is unable to render, please try loading this page with nbviewer.org.</b></div><div class=\"sk-container\" hidden><div class=\"sk-item\"><div class=\"sk-estimator sk-toggleable\"><input class=\"sk-toggleable__control sk-hidden--visually\" id=\"sk-estimator-id-4\" type=\"checkbox\" checked><label for=\"sk-estimator-id-4\" class=\"sk-toggleable__label sk-toggleable__label-arrow\">LinearSVC</label><div class=\"sk-toggleable__content\"><pre>LinearSVC(random_state=42)</pre></div></div></div></div></div>"
            ]
          },
          "metadata": {},
          "execution_count": 65
        }
      ]
    },
    {
      "cell_type": "code",
      "source": [
        "pred_val = svc.predict(x_val)"
      ],
      "metadata": {
        "id": "iRqh_Y45Fibi"
      },
      "execution_count": 66,
      "outputs": []
    },
    {
      "cell_type": "code",
      "source": [
        "from sklearn.metrics import accuracy_score\n",
        "print('Accuracy: %s' % accuracy_score(y_val, pred_val))"
      ],
      "metadata": {
        "colab": {
          "base_uri": "https://localhost:8080/"
        },
        "id": "o-YAC9-MFieW",
        "outputId": "8fddcdd4-f8fd-478a-9157-2801734746d7"
      },
      "execution_count": 67,
      "outputs": [
        {
          "output_type": "stream",
          "name": "stdout",
          "text": [
            "Accuracy: 0.5529761904761905\n"
          ]
        }
      ]
    },
    {
      "cell_type": "code",
      "source": [
        "from sklearn.metrics import classification_report\n",
        "print(classification_report(y_val, pred_val))"
      ],
      "metadata": {
        "colab": {
          "base_uri": "https://localhost:8080/"
        },
        "id": "kVVEueunFihu",
        "outputId": "3fe01014-5dd8-4d4d-c318-0b450c453ed6"
      },
      "execution_count": 68,
      "outputs": [
        {
          "output_type": "stream",
          "name": "stdout",
          "text": [
            "              precision    recall  f1-score   support\n",
            "\n",
            "         0.0       0.38      0.19      0.25       816\n",
            "         1.0       0.82      0.98      0.89       909\n",
            "         2.0       0.43      0.15      0.22       846\n",
            "         3.0       0.54      0.72      0.62       937\n",
            "         4.0       0.59      0.47      0.52       839\n",
            "         5.0       0.48      0.67      0.56       702\n",
            "         6.0       0.41      0.41      0.41       785\n",
            "         7.0       0.70      0.78      0.74       893\n",
            "         8.0       0.43      0.59      0.49       835\n",
            "         9.0       0.54      0.51      0.52       838\n",
            "\n",
            "    accuracy                           0.55      8400\n",
            "   macro avg       0.53      0.55      0.52      8400\n",
            "weighted avg       0.54      0.55      0.53      8400\n",
            "\n"
          ]
        }
      ]
    },
    {
      "cell_type": "code",
      "source": [
        "from sklearn.metrics import confusion_matrix\n",
        "print(confusion_matrix(y_val, pred_val))"
      ],
      "metadata": {
        "colab": {
          "base_uri": "https://localhost:8080/"
        },
        "id": "w9YVGznnJWdC",
        "outputId": "d0417619-262c-43d3-f470-8bab4cedac31"
      },
      "execution_count": 69,
      "outputs": [
        {
          "output_type": "stream",
          "name": "stdout",
          "text": [
            "[[154  14  37  46  42  44 175  11 237  56]\n",
            " [  0 887   0   1  11   1   1   3   1   4]\n",
            " [ 24   0 126 236  22 222  50  42 111  13]\n",
            " [ 13   0  26 676   5 118   3  17  65  14]\n",
            " [ 18 125   4   6 395   2 111  51  25 102]\n",
            " [  5   1  32 131   0 468   9  16  37   3]\n",
            " [ 83  16  34  22  75  26 324  27 108  70]\n",
            " [  9  23  15   8  24  25  30 700  14  45]\n",
            " [ 66   3  10  76  15  59  41  22 490  53]\n",
            " [ 35  11  10  41  86  10  51 112  57 425]]\n"
          ]
        }
      ]
    },
    {
      "cell_type": "code",
      "source": [
        "pred_test = svc.predict(test_hist)"
      ],
      "metadata": {
        "id": "Cons6xlEJWga"
      },
      "execution_count": 70,
      "outputs": []
    },
    {
      "cell_type": "code",
      "source": [
        "fig = plt.figure(figsize=(10, 6))\n",
        "for i, img in enumerate(test_img[0:10], 1):\n",
        "    subplot = fig.add_subplot(1, 10, i)\n",
        "    plt.imshow(img, cmap='gray');\n",
        "    subplot.set_title('%s' % pred_test[i - 1]);"
      ],
      "metadata": {
        "colab": {
          "base_uri": "https://localhost:8080/",
          "height": 148
        },
        "id": "BzGt7-HEJWoU",
        "outputId": "e0ff2cbd-6076-4eb6-d5cc-94500c1f5f4a"
      },
      "execution_count": 71,
      "outputs": [
        {
          "output_type": "display_data",
          "data": {
            "text/plain": [
              "<Figure size 1000x600 with 10 Axes>"
            ],
            "image/png": "[encoded data removed]"
          },
          "metadata": {}
        }
      ]
    },
    {
      "cell_type": "code",
      "source": [
        "with open('submit.txt', 'w') as dst:\n",
        "    dst.write('ImageId,Label\\n')\n",
        "    for i, p in enumerate(pred_test, 1):\n",
        "        dst.write('%s,%s\\n' % (i, int(p)))"
      ],
      "metadata": {
        "id": "O5FYf3CEFiki"
      },
      "execution_count": 72,
      "outputs": []
    },
    {
      "cell_type": "code",
      "source": [
        "!head submit.txt"
      ],
      "metadata": {
        "id": "fFtycjDiJ4UF"
      },
      "execution_count": null,
      "outputs": []
    },
    {
      "cell_type": "markdown",
      "source": [
        "# 5.Полносвязная нейронная сеть"
      ],
      "metadata": {
        "id": "LASkSCTrQEZ3"
      }
    },
    {
      "cell_type": "code",
      "source": [
        "# сохраняем разметку в отдельную переменную\n",
        "train_label = train[:, 0]\n",
        "\n",
        "# приводим размерность к удобному для обаботки виду\n",
        "# добавляем размерность канала на +1\n",
        "train_img = np.resize(train[:, 1:], (train.shape[0], 28, 28, 1))\n",
        "test_img = np.resize(test, (test.shape[0], 28, 28, 1))"
      ],
      "metadata": {
        "id": "R9l9nbJ4B3LI"
      },
      "execution_count": 141,
      "outputs": []
    },
    {
      "cell_type": "code",
      "source": [
        "fig = plt.figure(figsize = (20, 10))\n",
        "for i, img in enumerate(train_img[0:5, :], 1):\n",
        "    subplot = fig.add_subplot(1, 7, i)\n",
        "    plt.imshow(img[:,:,0], cmap = 'gray');\n",
        "    subplot.set_title('%s' % train_label[i - 1]);"
      ],
      "metadata": {
        "colab": {
          "base_uri": "https://localhost:8080/",
          "height": 272
        },
        "id": "GBd0aeMCDEQq",
        "outputId": "9149747c-7e3e-4ee1-e987-a79216c34a2f"
      },
      "execution_count": 142,
      "outputs": [
        {
          "output_type": "display_data",
          "data": {
            "text/plain": [
              "<Figure size 2000x1000 with 5 Axes>"
            ],
            "image/png": "[encoded data removed]"
          },
          "metadata": {}
        }
      ]
    },
    {
      "cell_type": "markdown",
      "source": [
        "Готовим данные для полносвязной сети"
      ],
      "metadata": {
        "id": "2prQOqRq1GDm"
      }
    },
    {
      "cell_type": "code",
      "source": [
        "import keras"
      ],
      "metadata": {
        "id": "0y0N_PtL-dz9"
      },
      "execution_count": 143,
      "outputs": []
    },
    {
      "cell_type": "code",
      "source": [
        "# Нормализуем данные\n",
        "X_train = train_img.reshape(len(train_img), 784)\n",
        "X_test = test_img.reshape(len(test_img), 784)\n",
        "X_train = X_train.astype('float32')\n",
        "X_test = X_test.astype('float32')\n",
        "X_train -= 127\n",
        "X_test -= 127\n",
        "X_train /= 255\n",
        "X_test /= 255\n",
        "\n",
        "from sklearn.model_selection import train_test_split\n",
        "y_train, y_val, x_train, x_val = train_test_split(train_label, X_train, test_size = 0.2, random_state = 42)\n",
        "\n",
        "from keras.utils import np_utils\n",
        "y_train_labels = np_utils.to_categorical(y_train)\n",
        "y_val_labels = np_utils.to_categorical(y_val)\n",
        "x_train.shape"
      ],
      "metadata": {
        "id": "DQA_pN8mJalF",
        "colab": {
          "base_uri": "https://localhost:8080/"
        },
        "outputId": "83427f95-b8d8-4d2e-c443-46425fd12632"
      },
      "execution_count": 144,
      "outputs": [
        {
          "output_type": "execute_result",
          "data": {
            "text/plain": [
              "(33600, 784)"
            ]
          },
          "metadata": {},
          "execution_count": 144
        }
      ]
    },
    {
      "cell_type": "code",
      "source": [
        "# Создаем последовательную модель\n",
        "model = keras.models.Sequential()\n",
        "\n",
        "# Добавляем уровни сети\n",
        "model.add(keras.layers.Dense(1600, input_dim  = 784, activation=\"relu\", kernel_initializer = \"normal\"))\n",
        "model.add(keras.layers.Dense(800, activation = 'relu'))\n",
        "model.add(keras.layers.Dense(90, activation = 'sigmoid'))\n",
        "model.add(keras.layers.Dense(10, activation = \"softmax\", kernel_initializer = \"normal\"))\n",
        "\n",
        "# Компилируем модель\n",
        "model.compile(loss = \"categorical_crossentropy\", optimizer = \"adam\", metrics = [\"accuracy\"])\n",
        "\n",
        "# Обучаем сеть\n",
        "#model.fit(x_train, y_train_labels, batch_size = 200, epochs = 20, validation_data = (x_val, y_val_labels))\n",
        "model.fit(x_train, y_train_labels, batch_size = 300, epochs  = 20, shuffle = True, validation_data=(x_val, y_val_labels))"
      ],
      "metadata": {
        "id": "aVxK1tPzJarT",
        "colab": {
          "base_uri": "https://localhost:8080/"
        },
        "outputId": "5afeb7fd-09b3-4f21-d518-c6ca429621a7"
      },
      "execution_count": 145,
      "outputs": [
        {
          "output_type": "stream",
          "name": "stdout",
          "text": [
            "Epoch 1/20\n",
            "112/112 [==============================] - 22s 176ms/step - loss: 0.7705 - accuracy: 0.8495 - val_loss: 0.3192 - val_accuracy: 0.9261\n",
            "Epoch 2/20\n",
            "112/112 [==============================] - 15s 135ms/step - loss: 0.2251 - accuracy: 0.9457 - val_loss: 0.1909 - val_accuracy: 0.9479\n",
            "Epoch 3/20\n",
            "112/112 [==============================] - 15s 139ms/step - loss: 0.1459 - accuracy: 0.9629 - val_loss: 0.1433 - val_accuracy: 0.9583\n",
            "Epoch 4/20\n",
            "112/112 [==============================] - 16s 140ms/step - loss: 0.1058 - accuracy: 0.9721 - val_loss: 0.1578 - val_accuracy: 0.9498\n",
            "Epoch 5/20\n",
            "112/112 [==============================] - 13s 117ms/step - loss: 0.0813 - accuracy: 0.9785 - val_loss: 0.1139 - val_accuracy: 0.9646\n",
            "Epoch 6/20\n",
            "112/112 [==============================] - 14s 125ms/step - loss: 0.0699 - accuracy: 0.9810 - val_loss: 0.1184 - val_accuracy: 0.9635\n",
            "Epoch 7/20\n",
            "112/112 [==============================] - 15s 134ms/step - loss: 0.0545 - accuracy: 0.9851 - val_loss: 0.0931 - val_accuracy: 0.9715\n",
            "Epoch 8/20\n",
            "112/112 [==============================] - 16s 140ms/step - loss: 0.0458 - accuracy: 0.9869 - val_loss: 0.1022 - val_accuracy: 0.9698\n",
            "Epoch 9/20\n",
            "112/112 [==============================] - 15s 133ms/step - loss: 0.0424 - accuracy: 0.9881 - val_loss: 0.0820 - val_accuracy: 0.9744\n",
            "Epoch 10/20\n",
            "112/112 [==============================] - 13s 116ms/step - loss: 0.0333 - accuracy: 0.9905 - val_loss: 0.0982 - val_accuracy: 0.9718\n",
            "Epoch 11/20\n",
            "112/112 [==============================] - 14s 124ms/step - loss: 0.0287 - accuracy: 0.9926 - val_loss: 0.0869 - val_accuracy: 0.9748\n",
            "Epoch 12/20\n",
            "112/112 [==============================] - 15s 134ms/step - loss: 0.0240 - accuracy: 0.9936 - val_loss: 0.1160 - val_accuracy: 0.9664\n",
            "Epoch 13/20\n",
            "112/112 [==============================] - 15s 137ms/step - loss: 0.0242 - accuracy: 0.9929 - val_loss: 0.0896 - val_accuracy: 0.9742\n",
            "Epoch 14/20\n",
            "112/112 [==============================] - 15s 133ms/step - loss: 0.0264 - accuracy: 0.9921 - val_loss: 0.1024 - val_accuracy: 0.9710\n",
            "Epoch 15/20\n",
            "112/112 [==============================] - 13s 115ms/step - loss: 0.0186 - accuracy: 0.9948 - val_loss: 0.0817 - val_accuracy: 0.9770\n",
            "Epoch 16/20\n",
            "112/112 [==============================] - 14s 128ms/step - loss: 0.0155 - accuracy: 0.9959 - val_loss: 0.0846 - val_accuracy: 0.9757\n",
            "Epoch 17/20\n",
            "112/112 [==============================] - 15s 137ms/step - loss: 0.0186 - accuracy: 0.9947 - val_loss: 0.0879 - val_accuracy: 0.9760\n",
            "Epoch 18/20\n",
            "112/112 [==============================] - 15s 138ms/step - loss: 0.0214 - accuracy: 0.9933 - val_loss: 0.0788 - val_accuracy: 0.9786\n",
            "Epoch 19/20\n",
            "112/112 [==============================] - 15s 134ms/step - loss: 0.0137 - accuracy: 0.9960 - val_loss: 0.0826 - val_accuracy: 0.9779\n",
            "Epoch 20/20\n",
            "112/112 [==============================] - 13s 116ms/step - loss: 0.0183 - accuracy: 0.9943 - val_loss: 0.0836 - val_accuracy: 0.9777\n"
          ]
        },
        {
          "output_type": "execute_result",
          "data": {
            "text/plain": [
              "<keras.callbacks.History at 0x7ff6e18923b0>"
            ]
          },
          "metadata": {},
          "execution_count": 145
        }
      ]
    },
    {
      "cell_type": "code",
      "source": [
        "from sklearn.metrics import accuracy_score"
      ],
      "metadata": {
        "id": "d46SEqR5Ly4c"
      },
      "execution_count": 146,
      "outputs": []
    },
    {
      "cell_type": "code",
      "source": [
        "predict_x = model.predict(x_val)\n",
        "pred_val = np.argmax(predict_x, axis=1)\n",
        "\n",
        "rate = accuracy_score(y_val, pred_val)\n",
        "print('Accuracy: %s' % rate)\n",
        "rates = [rate]"
      ],
      "metadata": {
        "id": "mPXQdq1_JauR",
        "colab": {
          "base_uri": "https://localhost:8080/"
        },
        "outputId": "34a8fd3c-d8ac-41d3-eb3a-663f21b905e6"
      },
      "execution_count": 147,
      "outputs": [
        {
          "output_type": "stream",
          "name": "stdout",
          "text": [
            "263/263 [==============================] - 2s 8ms/step\n",
            "Accuracy: 0.9777380952380952\n"
          ]
        }
      ]
    },
    {
      "cell_type": "code",
      "source": [
        "models = [model]"
      ],
      "metadata": {
        "id": "OZGjGrtIJaxh"
      },
      "execution_count": 148,
      "outputs": []
    },
    {
      "cell_type": "code",
      "source": [
        "tests = [X_test]"
      ],
      "metadata": {
        "id": "WeWRL2cfJa0O"
      },
      "execution_count": 149,
      "outputs": []
    },
    {
      "cell_type": "code",
      "source": [
        "from sklearn.model_selection import cross_val_score\n",
        "\n",
        "a = cross_val_score(models, x_train, y_train, cv = 3, scoring = \"accuracy\")"
      ],
      "metadata": {
        "id": "Vv5Mv51LJa3B"
      },
      "execution_count": null,
      "outputs": []
    },
    {
      "cell_type": "code",
      "source": [
        "a.mean() # !!!"
      ],
      "metadata": {
        "colab": {
          "base_uri": "https://localhost:8080/"
        },
        "id": "d1slDCvr-yKz",
        "outputId": "b2a3fc28-e295-4b73-ece0-466d688ce13f"
      },
      "execution_count": 151,
      "outputs": [
        {
          "output_type": "execute_result",
          "data": {
            "text/plain": [
              "0.9063690476190477"
            ]
          },
          "metadata": {},
          "execution_count": 151
        }
      ]
    },
    {
      "cell_type": "code",
      "source": [
        "import cv2\n",
        "# приводим размерность к удобному для обаботки виду\n",
        "train_img_for_hist = np.resize(train[:, 1:], (train.shape[0], 28, 28))\n",
        "test_img_for_hist = np.resize(test, (test.shape[0], 28, 28))"
      ],
      "metadata": {
        "id": "h3HK4yFT-yN9"
      },
      "execution_count": 152,
      "outputs": []
    },
    {
      "cell_type": "code",
      "source": [
        "train_sobel_x = np.zeros_like(train_img_for_hist)\n",
        "train_sobel_y = np.zeros_like(train_img_for_hist)\n",
        "for i in range(len(train_img_for_hist)):\n",
        "    train_sobel_x[i] = cv2.Sobel(train_img_for_hist[i], cv2.CV_64F, dx=1, dy=0, ksize=3)\n",
        "    train_sobel_y[i] = cv2.Sobel(train_img_for_hist[i], cv2.CV_64F, dx=0, dy=1, ksize=3)\n",
        "test_sobel_x = np.zeros_like(test_img_for_hist)\n",
        "test_sobel_y = np.zeros_like(test_img_for_hist)\n",
        "for i in range(len(test_img_for_hist)):\n",
        "    test_sobel_x[i] = cv2.Sobel(test_img_for_hist[i], cv2.CV_64F, dx=1, dy=0, ksize=3)\n",
        "    test_sobel_y[i] = cv2.Sobel(test_img_for_hist[i], cv2.CV_64F, dx=0, dy=1, ksize=3)"
      ],
      "metadata": {
        "id": "tiky3e3F-yRB"
      },
      "execution_count": 153,
      "outputs": []
    },
    {
      "cell_type": "code",
      "source": [
        "bins = 16"
      ],
      "metadata": {
        "id": "NLqho7sx-yUF"
      },
      "execution_count": 154,
      "outputs": []
    },
    {
      "cell_type": "code",
      "source": [
        "def describe(sobel_x, sobel_y):\n",
        "        \"\"\" Вычисляем дескриптор изображения \"\"\"\n",
        "\n",
        "        features = []  # результирующий вектор дескриптора\n",
        "\n",
        "\n",
        "        (h, w) = sobel_x.shape[0], sobel_x.shape[1]  # размеры изображения\n",
        "        (cX, cY) = (int(w * 0.5), int(h * 0.5))  # координаты центра изображения\n",
        "\n",
        "        # делим изображение на четыре равные части и вычисляем координаты сегментов\n",
        "        segments = [(0, cX, 0, cY),\n",
        "                    (cX, w, 0, cY),\n",
        "                    (cX, w, cY, h),\n",
        "                    (0, cX, cY, h),\n",
        "                    (int(0.25*w), int(0.75*w), cY, h),\n",
        "                    (int(0.25*w), int(0.75*w), 0, cY)]\n",
        "\n",
        "        # готовим маску в виде эллипса для выделения дескрипторов центральной части изображения\n",
        "        (axesX, axesY) = (int(w * 0.5) // 2, int(h * 0.5) // 2)\n",
        "        ellip_mask = np.zeros(sobel_x.shape[:2], dtype = np.uint8)\n",
        "        cv2.ellipse(ellip_mask, (cX, cY), (axesX, axesY), 0, 0, 360, 255, -1)\n",
        "\n",
        "        # итерируем по сегментам и вычисляем дескрипторы\n",
        "        for (startX, endX, startY, endY) in segments:\n",
        "            # формируем маску сегмента\n",
        "            corner_mask = np.zeros(sobel_x.shape[:2], dtype = np.uint8)\n",
        "            cv2.rectangle(corner_mask, (startX, startY), (endX, endY), 255, -1)\n",
        "\n",
        "            # строим гистограмму градиентов с учетом маски сегмента\n",
        "            hist = histogram(sobel_x, sobel_y, corner_mask)\n",
        "            features.extend(hist)\n",
        "\n",
        "        # вычисляем гистограму для центральной области\n",
        "        hist = histogram(sobel_x, sobel_y, ellip_mask)\n",
        "        features.extend(hist)\n",
        "\n",
        "        # возвращаем вектор полученный вектор дескрипторов\n",
        "        return features"
      ],
      "metadata": {
        "id": "CSuIhteB-yXW"
      },
      "execution_count": 155,
      "outputs": []
    },
    {
      "cell_type": "code",
      "source": [
        "def histogram(sobel_x, sobel_y, mask):\n",
        "        \"\"\" Вычисляет гистограмму в области, заданной маской \"\"\"\n",
        "        sob_x = np.zeros_like(sobel_x)\n",
        "        sob_y = np.zeros_like(sobel_y)\n",
        "        np.copyto(sob_x, sobel_x)\n",
        "        np.copyto(sob_y, sobel_y)\n",
        "        sob_x[mask == 0] = 0\n",
        "        sob_y[mask == 0] = 0\n",
        "\n",
        "        g, theta = cv2.cartToPolar(sob_x, sob_y)\n",
        "\n",
        "        final_hist = np.zeros((len(train_img), bins))\n",
        "        hist, _ = np.histogram(theta,\n",
        "                                 bins=bins,\n",
        "                                 range=(0., 2. * np.pi),\n",
        "                                 weights=g)\n",
        "        return hist"
      ],
      "metadata": {
        "id": "-BuHNGTXJa54"
      },
      "execution_count": 156,
      "outputs": []
    },
    {
      "cell_type": "code",
      "source": [
        "# Гистограммы вычисляются с учетом длины вектора градиента\n",
        "train_hist = np.zeros((len(train_img), bins*7))\n",
        "for i in range(len(train_img)):\n",
        "    hist = describe(train_sobel_x[i], train_sobel_y[i])\n",
        "    train_hist[i] = hist\n",
        "np.savetxt(\"train_hst.csv\", train_hist, delimiter = \",\")\n",
        "\n",
        "# Гистограммы вычисляются с учетом длины вектора градиента\n",
        "test_hist = np.zeros((len(test_img), bins*7))\n",
        "for i in range(len(test_img)):\n",
        "    hist = describe(test_sobel_x[i], test_sobel_y[i])\n",
        "    test_hist[i] = hist\n",
        "np.savetxt(\"test_hst.csv\", test_hist, delimiter = \",\")"
      ],
      "metadata": {
        "id": "aJS5FCCwJa8j"
      },
      "execution_count": 157,
      "outputs": []
    },
    {
      "cell_type": "code",
      "source": [
        "train_hist = np.loadtxt('train_hst.csv', delimiter =',')\n",
        "test_hist = np.loadtxt('test_hst.csv', delimiter =',')"
      ],
      "metadata": {
        "id": "CSS7s14CJa_p"
      },
      "execution_count": 158,
      "outputs": []
    },
    {
      "cell_type": "code",
      "source": [
        "# По умолчанию используется L2 норма\n",
        "train_hist = train_hist / np.linalg.norm(train_hist, axis = 1)[:, None]\n",
        "test_hist = test_hist / np.linalg.norm(test_hist, axis = 1)[:, None]"
      ],
      "metadata": {
        "id": "ksqBo77HNl7p"
      },
      "execution_count": 159,
      "outputs": []
    },
    {
      "cell_type": "code",
      "source": [
        "TRAIN_PART = 0.8\n",
        "predictions = []\n",
        "predict = model.predict(X_train)\n",
        "predictions.append(predict)\n",
        "\n",
        "train_indexes_ = []\n",
        "\n",
        "other_indexes_ = []\n",
        "for i in range(0, len(predict)):\n",
        "    if predict[i].any() != train_label[i].any(): # или .all()\n",
        "        train_indexes_.append(i)\n",
        "    else:\n",
        "        other_indexes_.append(i)\n",
        "import random\n",
        "random.shuffle(other_indexes_)\n",
        "\n",
        "indexes = train_indexes_ + other_indexes_\n",
        "border = int(TRAIN_PART*len(indexes))\n",
        "train_indexes = indexes[:border]\n",
        "val_indexes = indexes[border:]\n",
        "\n",
        "x_train = []\n",
        "y_train = []\n",
        "x_val = []\n",
        "y_val = []\n",
        "for i in train_indexes:\n",
        "    x_train.append(train_hist[i])\n",
        "    y_train.append(train_label[i])\n",
        "\n",
        "for i in val_indexes:\n",
        "    x_val.append(train_hist[i])\n",
        "    y_val.append(train_label[i])\n",
        "\n",
        "x_train = np.array(x_train)\n",
        "y_train = np.array(y_train)\n",
        "x_val = np.array(x_val)\n",
        "y_val = np.array(y_val)"
      ],
      "metadata": {
        "colab": {
          "base_uri": "https://localhost:8080/"
        },
        "id": "Bds40ltPNmFI",
        "outputId": "1d81f1ec-8e08-44a7-cb59-5b62d54d534e"
      },
      "execution_count": 160,
      "outputs": [
        {
          "output_type": "stream",
          "name": "stdout",
          "text": [
            "1313/1313 [==============================] - 18s 14ms/step\n"
          ]
        }
      ]
    },
    {
      "cell_type": "code",
      "source": [
        "np.random.seed(42)\n",
        "model = keras.models.Sequential()\n",
        "model.add(keras.layers.Dense(1600, input_dim=x_train.shape[1], activation='relu'))\n",
        "model.add(keras.layers.Dense(1000, activation='relu'))\n",
        "model.add(keras.layers.Dense(90, activation='sigmoid'))\n",
        "model.add(keras.layers.Dense(10, activation='softmax'))\n",
        "model.compile(optimizer='adam', loss='categorical_crossentropy', metrics=['accuracy'])\n",
        "model.summary()\n",
        "from keras.utils import np_utils\n",
        "y_train_labels = np_utils.to_categorical(y_train)\n",
        "y_val_labels = np_utils.to_categorical(y_val)\n",
        "model.fit(x_train, y_train_labels, batch_size = 300, epochs = 45, shuffle = True, validation_data=(x_val, y_val_labels))\n"
      ],
      "metadata": {
        "colab": {
          "base_uri": "https://localhost:8080/"
        },
        "id": "w9L7K8sRNmIP",
        "outputId": "6d2efe1c-25ac-4d06-924d-38dc8bd6d962"
      },
      "execution_count": 161,
      "outputs": [
        {
          "output_type": "stream",
          "name": "stdout",
          "text": [
            "Model: \"sequential_1\"\n",
            "_________________________________________________________________\n",
            " Layer (type)                Output Shape              Param #   \n",
            "=================================================================\n",
            " dense_4 (Dense)             (None, 1600)              180800    \n",
            "                                                                 \n",
            " dense_5 (Dense)             (None, 1000)              1601000   \n",
            "                                                                 \n",
            " dense_6 (Dense)             (None, 90)                90090     \n",
            "                                                                 \n",
            " dense_7 (Dense)             (None, 10)                910       \n",
            "                                                                 \n",
            "=================================================================\n",
            "Total params: 1,872,800\n",
            "Trainable params: 1,872,800\n",
            "Non-trainable params: 0\n",
            "_________________________________________________________________\n",
            "Epoch 1/45\n",
            "112/112 [==============================] - 14s 120ms/step - loss: 0.8274 - accuracy: 0.7677 - val_loss: 0.2775 - val_accuracy: 0.9274\n",
            "Epoch 2/45\n",
            "112/112 [==============================] - 11s 96ms/step - loss: 0.2042 - accuracy: 0.9432 - val_loss: 0.1799 - val_accuracy: 0.9504\n",
            "Epoch 3/45\n",
            "112/112 [==============================] - 13s 120ms/step - loss: 0.1534 - accuracy: 0.9555 - val_loss: 0.1454 - val_accuracy: 0.9592\n",
            "Epoch 4/45\n",
            "112/112 [==============================] - 14s 122ms/step - loss: 0.1182 - accuracy: 0.9649 - val_loss: 0.1298 - val_accuracy: 0.9604\n",
            "Epoch 5/45\n",
            "112/112 [==============================] - 12s 111ms/step - loss: 0.0997 - accuracy: 0.9694 - val_loss: 0.1133 - val_accuracy: 0.9660\n",
            "Epoch 6/45\n",
            "112/112 [==============================] - 11s 94ms/step - loss: 0.0831 - accuracy: 0.9743 - val_loss: 0.1071 - val_accuracy: 0.9667\n",
            "Epoch 7/45\n",
            "112/112 [==============================] - 14s 123ms/step - loss: 0.0690 - accuracy: 0.9787 - val_loss: 0.0982 - val_accuracy: 0.9688\n",
            "Epoch 8/45\n",
            "112/112 [==============================] - 13s 115ms/step - loss: 0.0590 - accuracy: 0.9816 - val_loss: 0.0920 - val_accuracy: 0.9708\n",
            "Epoch 9/45\n",
            "112/112 [==============================] - 10s 89ms/step - loss: 0.0522 - accuracy: 0.9846 - val_loss: 0.0851 - val_accuracy: 0.9737\n",
            "Epoch 10/45\n",
            "112/112 [==============================] - 17s 152ms/step - loss: 0.0476 - accuracy: 0.9860 - val_loss: 0.0917 - val_accuracy: 0.9729\n",
            "Epoch 11/45\n",
            "112/112 [==============================] - 14s 129ms/step - loss: 0.0408 - accuracy: 0.9873 - val_loss: 0.0827 - val_accuracy: 0.9749\n",
            "Epoch 12/45\n",
            "112/112 [==============================] - 11s 97ms/step - loss: 0.0362 - accuracy: 0.9892 - val_loss: 0.0793 - val_accuracy: 0.9749\n",
            "Epoch 13/45\n",
            "112/112 [==============================] - 13s 115ms/step - loss: 0.0289 - accuracy: 0.9920 - val_loss: 0.0834 - val_accuracy: 0.9749\n",
            "Epoch 14/45\n",
            "112/112 [==============================] - 14s 122ms/step - loss: 0.0267 - accuracy: 0.9931 - val_loss: 0.0848 - val_accuracy: 0.9743\n",
            "Epoch 15/45\n",
            "112/112 [==============================] - 12s 106ms/step - loss: 0.0235 - accuracy: 0.9930 - val_loss: 0.0765 - val_accuracy: 0.9762\n",
            "Epoch 16/45\n",
            "112/112 [==============================] - 12s 105ms/step - loss: 0.0214 - accuracy: 0.9935 - val_loss: 0.0816 - val_accuracy: 0.9754\n",
            "Epoch 17/45\n",
            "112/112 [==============================] - 14s 122ms/step - loss: 0.0174 - accuracy: 0.9954 - val_loss: 0.0771 - val_accuracy: 0.9761\n",
            "Epoch 18/45\n",
            "112/112 [==============================] - 13s 116ms/step - loss: 0.0151 - accuracy: 0.9959 - val_loss: 0.0781 - val_accuracy: 0.9777\n",
            "Epoch 19/45\n",
            "112/112 [==============================] - 10s 88ms/step - loss: 0.0116 - accuracy: 0.9971 - val_loss: 0.0762 - val_accuracy: 0.9773\n",
            "Epoch 20/45\n",
            "112/112 [==============================] - 14s 122ms/step - loss: 0.0106 - accuracy: 0.9975 - val_loss: 0.0809 - val_accuracy: 0.9764\n",
            "Epoch 21/45\n",
            "112/112 [==============================] - 13s 121ms/step - loss: 0.0084 - accuracy: 0.9982 - val_loss: 0.0873 - val_accuracy: 0.9761\n",
            "Epoch 22/45\n",
            "112/112 [==============================] - 11s 95ms/step - loss: 0.0091 - accuracy: 0.9978 - val_loss: 0.0902 - val_accuracy: 0.9745\n",
            "Epoch 23/45\n",
            "112/112 [==============================] - 13s 116ms/step - loss: 0.0109 - accuracy: 0.9967 - val_loss: 0.0862 - val_accuracy: 0.9768\n",
            "Epoch 24/45\n",
            "112/112 [==============================] - 14s 122ms/step - loss: 0.0078 - accuracy: 0.9982 - val_loss: 0.0888 - val_accuracy: 0.9779\n",
            "Epoch 25/45\n",
            "112/112 [==============================] - 12s 103ms/step - loss: 0.0066 - accuracy: 0.9985 - val_loss: 0.0915 - val_accuracy: 0.9768\n",
            "Epoch 26/45\n",
            "112/112 [==============================] - 12s 106ms/step - loss: 0.0130 - accuracy: 0.9956 - val_loss: 0.1082 - val_accuracy: 0.9721\n",
            "Epoch 27/45\n",
            "112/112 [==============================] - 13s 117ms/step - loss: 0.0098 - accuracy: 0.9968 - val_loss: 0.0901 - val_accuracy: 0.9751\n",
            "Epoch 28/45\n",
            "112/112 [==============================] - 12s 108ms/step - loss: 0.0114 - accuracy: 0.9960 - val_loss: 0.0995 - val_accuracy: 0.9749\n",
            "Epoch 29/45\n",
            "112/112 [==============================] - 11s 102ms/step - loss: 0.0059 - accuracy: 0.9982 - val_loss: 0.0878 - val_accuracy: 0.9777\n",
            "Epoch 30/45\n",
            "112/112 [==============================] - 14s 124ms/step - loss: 0.0052 - accuracy: 0.9987 - val_loss: 0.0825 - val_accuracy: 0.9799\n",
            "Epoch 31/45\n",
            "112/112 [==============================] - 13s 116ms/step - loss: 0.0037 - accuracy: 0.9992 - val_loss: 0.0789 - val_accuracy: 0.9786\n",
            "Epoch 32/45\n",
            "112/112 [==============================] - 11s 95ms/step - loss: 0.0015 - accuracy: 0.9999 - val_loss: 0.0757 - val_accuracy: 0.9813\n",
            "Epoch 33/45\n",
            "112/112 [==============================] - 14s 121ms/step - loss: 0.0011 - accuracy: 0.9999 - val_loss: 0.0779 - val_accuracy: 0.9801\n",
            "Epoch 34/45\n",
            "112/112 [==============================] - 14s 128ms/step - loss: 8.7104e-04 - accuracy: 0.9999 - val_loss: 0.0792 - val_accuracy: 0.9808\n",
            "Epoch 35/45\n",
            "112/112 [==============================] - 11s 99ms/step - loss: 9.9123e-04 - accuracy: 0.9998 - val_loss: 0.0824 - val_accuracy: 0.9801\n",
            "Epoch 36/45\n",
            "112/112 [==============================] - 13s 112ms/step - loss: 0.0011 - accuracy: 0.9999 - val_loss: 0.0813 - val_accuracy: 0.9802\n",
            "Epoch 37/45\n",
            "112/112 [==============================] - 14s 124ms/step - loss: 0.0251 - accuracy: 0.9918 - val_loss: 0.1145 - val_accuracy: 0.9721\n",
            "Epoch 38/45\n",
            "112/112 [==============================] - 12s 110ms/step - loss: 0.0218 - accuracy: 0.9921 - val_loss: 0.0867 - val_accuracy: 0.9768\n",
            "Epoch 39/45\n",
            "112/112 [==============================] - 11s 97ms/step - loss: 0.0083 - accuracy: 0.9973 - val_loss: 0.1168 - val_accuracy: 0.9721\n",
            "Epoch 40/45\n",
            "112/112 [==============================] - 13s 116ms/step - loss: 0.0048 - accuracy: 0.9988 - val_loss: 0.0864 - val_accuracy: 0.9789\n",
            "Epoch 41/45\n",
            "112/112 [==============================] - 12s 110ms/step - loss: 0.0032 - accuracy: 0.9991 - val_loss: 0.0900 - val_accuracy: 0.9771\n",
            "Epoch 42/45\n",
            "112/112 [==============================] - 11s 96ms/step - loss: 0.0012 - accuracy: 0.9998 - val_loss: 0.0818 - val_accuracy: 0.9801\n",
            "Epoch 43/45\n",
            "112/112 [==============================] - 14s 123ms/step - loss: 6.4299e-04 - accuracy: 0.9999 - val_loss: 0.0810 - val_accuracy: 0.9804\n",
            "Epoch 44/45\n",
            "112/112 [==============================] - 13s 113ms/step - loss: 5.4833e-04 - accuracy: 0.9999 - val_loss: 0.0822 - val_accuracy: 0.9800\n",
            "Epoch 45/45\n",
            "112/112 [==============================] - 11s 98ms/step - loss: 4.9980e-04 - accuracy: 1.0000 - val_loss: 0.0823 - val_accuracy: 0.9810\n"
          ]
        },
        {
          "output_type": "execute_result",
          "data": {
            "text/plain": [
              "<keras.callbacks.History at 0x7ff6d67091b0>"
            ]
          },
          "metadata": {},
          "execution_count": 161
        }
      ]
    },
    {
      "cell_type": "code",
      "source": [
        "predict_x = model.predict(x_val)\n",
        "pred_val = np.argmax(predict_x, axis=1)\n",
        "\n",
        "rate = accuracy_score(y_val, pred_val)\n",
        "print('Accuracy: %s' % rate)\n",
        "rates = [rate]"
      ],
      "metadata": {
        "colab": {
          "base_uri": "https://localhost:8080/"
        },
        "id": "SspxvzmsNmLc",
        "outputId": "dea026f0-cd5e-437f-9f52-f125d85d998b"
      },
      "execution_count": 162,
      "outputs": [
        {
          "output_type": "stream",
          "name": "stdout",
          "text": [
            "263/263 [==============================] - 3s 9ms/step\n",
            "Accuracy: 0.9809523809523809\n"
          ]
        }
      ]
    },
    {
      "cell_type": "code",
      "source": [
        "models.append(model)"
      ],
      "metadata": {
        "id": "cV3WLKBGNmOa"
      },
      "execution_count": 163,
      "outputs": []
    },
    {
      "cell_type": "code",
      "source": [
        "tests.append(test_hist)"
      ],
      "metadata": {
        "id": "nZ1WYBKRNmRM"
      },
      "execution_count": 164,
      "outputs": []
    },
    {
      "cell_type": "code",
      "source": [
        "from sklearn.model_selection import cross_val_score\n",
        "\n",
        "a = cross_val_score(models,x_train, y_train, cv = 3, scoring = \"accuracy\")"
      ],
      "metadata": {
        "id": "1omJYFo6JbCD"
      },
      "execution_count": 165,
      "outputs": []
    },
    {
      "cell_type": "code",
      "source": [
        "a.mean() # !!! bellissimo"
      ],
      "metadata": {
        "colab": {
          "base_uri": "https://localhost:8080/"
        },
        "id": "MVYbBIRNUekf",
        "outputId": "d31d4dca-7b86-4770-c183-7f4194f78b13"
      },
      "execution_count": 166,
      "outputs": [
        {
          "output_type": "execute_result",
          "data": {
            "text/plain": [
              "0.9500297619047618"
            ]
          },
          "metadata": {},
          "execution_count": 166
        }
      ]
    }
  ],
  "metadata": {
    "kernelspec": {
      "display_name": "Python 3",
      "name": "python3"
    },
    "language_info": {
      "codemirror_mode": {
        "name": "ipython",
        "version": 3
      },
      "file_extension": ".py",
      "mimetype": "text/x-python",
      "name": "python",
      "nbconvert_exporter": "python",
      "pygments_lexer": "ipython3",
      "version": "3.7.2"
    },
    "colab": {
      "provenance": [],
      "include_colab_link": true
    }
  },
  "nbformat": 4,
  "nbformat_minor": 0
}